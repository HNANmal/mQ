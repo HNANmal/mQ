{
 "cells": [
  {
   "cell_type": "code",
   "execution_count": 12,
   "metadata": {},
   "outputs": [],
   "source": [
    "import tkinter as tk\n",
    "from tkinter import ttk\n",
    "\n",
    "# Create main window\n",
    "root = tk.Tk()\n",
    "root.title(\"Treeview Example\")\n",
    "\n",
    "# Create a Treeview widget\n",
    "tree = ttk.Treeview(root, columns=('Value1', 'Value2'), show='headings')\n",
    "tree.pack()\n",
    "\n",
    "# Define the columns\n",
    "tree.heading('#1', text='Value1')\n",
    "tree.heading('#2', text='Value2')\n",
    "\n",
    "# Insert items into the treeview\n",
    "item_id1 = tree.insert('', 'end', text='Item 1', values=('1', 'A'))\n",
    "item_id2 = tree.insert('', 'end', text='Item 2', values=('2', 'B'))\n",
    "item_id3 = tree.insert(item_id1, 'end', text='Child of Item 1', values=('1.1', 'AA'))"
   ]
  },
  {
   "cell_type": "code",
   "execution_count": 13,
   "metadata": {},
   "outputs": [
    {
     "data": {
      "text/plain": [
       "{'text': 'Item 1', 'image': '', 'values': [1, 'A'], 'open': 0, 'tags': ''}"
      ]
     },
     "execution_count": 13,
     "metadata": {},
     "output_type": "execute_result"
    }
   ],
   "source": [
    "item_id1\n",
    "\n",
    "tree.item('I001')"
   ]
  },
  {
   "cell_type": "code",
   "execution_count": 4,
   "metadata": {},
   "outputs": [],
   "source": [
    "\n",
    "\n",
    "# Function to retrieve and print all items in the treeview\n",
    "def print_tree_items():\n",
    "    # Get the top-level items (parents)\n",
    "    top_level_items = tree.get_children()\n",
    "    for item in top_level_items:\n",
    "        # Get the details of the item\n",
    "        item_info = tree.item(item)\n",
    "        print(f\"Top-level item: {item_info['text']}, Values: {item_info['values']}\")\n",
    "        \n",
    "        # Check if the item has children and retrieve them\n",
    "        children = tree.get_children(item)\n",
    "        for child in children:\n",
    "            child_info = tree.item(child)\n",
    "            print(f\"  Child item: {child_info['text']}, Values: {child_info['values']}\")\n",
    "\n",
    "# Button to print tree items\n",
    "button = tk.Button(root, text=\"Print Tree Items\", command=print_tree_items)\n",
    "button.pack()\n",
    "\n",
    "# Run the tkinter event loop\n",
    "root.mainloop()\n"
   ]
  },
  {
   "cell_type": "code",
   "execution_count": null,
   "metadata": {},
   "outputs": [],
   "source": []
  }
 ],
 "metadata": {
  "kernelspec": {
   "display_name": "Python 3",
   "language": "python",
   "name": "python3"
  },
  "language_info": {
   "codemirror_mode": {
    "name": "ipython",
    "version": 3
   },
   "file_extension": ".py",
   "mimetype": "text/x-python",
   "name": "python",
   "nbconvert_exporter": "python",
   "pygments_lexer": "ipython3",
   "version": "3.9.6"
  }
 },
 "nbformat": 4,
 "nbformat_minor": 2
}
