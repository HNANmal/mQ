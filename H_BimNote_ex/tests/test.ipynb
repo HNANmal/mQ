{
 "cells": [
  {
   "cell_type": "code",
   "execution_count": 14,
   "metadata": {},
   "outputs": [
    {
     "data": {
      "text/plain": [
       "['', '', '', '', '', '', '']"
      ]
     },
     "execution_count": 14,
     "metadata": {},
     "output_type": "execute_result"
    }
   ],
   "source": [
    "heads = [\n",
    "        # \"No\",\n",
    "        \"StdType\",\n",
    "        \"Description\",\n",
    "        \"G-WM 1\",\n",
    "        \"G-WM 2\",\n",
    "        \"G-WM 3\",\n",
    "        \"G-WM 4\",\n",
    "        \"S-WM 1\",\n",
    "        \"표준산출식\",\n",
    "    ]\n",
    "\n",
    "[\"\" for head in heads[1:]]"
   ]
  },
  {
   "cell_type": "code",
   "execution_count": 15,
   "metadata": {},
   "outputs": [],
   "source": [
    "indented_name = \"d\""
   ]
  },
  {
   "cell_type": "code",
   "execution_count": 19,
   "metadata": {},
   "outputs": [
    {
     "name": "stdout",
     "output_type": "stream",
     "text": [
      "['d', '', '', '', '', '', '', '']\n"
     ]
    }
   ],
   "source": [
    "a = [indented_name]#.append([\"\" for head in heads[1:]])\n",
    "a.extend(\"\" for head in heads[1:])\n",
    "print(a)"
   ]
  },
  {
   "cell_type": "code",
   "execution_count": null,
   "metadata": {},
   "outputs": [],
   "source": []
  }
 ],
 "metadata": {
  "kernelspec": {
   "display_name": "Python 3",
   "language": "python",
   "name": "python3"
  },
  "language_info": {
   "codemirror_mode": {
    "name": "ipython",
    "version": 3
   },
   "file_extension": ".py",
   "mimetype": "text/x-python",
   "name": "python",
   "nbconvert_exporter": "python",
   "pygments_lexer": "ipython3",
   "version": "3.9.6"
  }
 },
 "nbformat": 4,
 "nbformat_minor": 2
}
