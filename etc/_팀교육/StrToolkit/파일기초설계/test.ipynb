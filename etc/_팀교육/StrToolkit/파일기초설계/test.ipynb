{
 "cells": [
  {
   "cell_type": "code",
   "execution_count": 5,
   "metadata": {},
   "outputs": [
    {
     "ename": "SystemExit",
     "evalue": "0",
     "output_type": "error",
     "traceback": [
      "An exception has occurred, use %tb to see the full traceback.\n",
      "\u001b[1;31mSystemExit\u001b[0m\u001b[1;31m:\u001b[0m 0\n"
     ]
    }
   ],
   "source": [
    "import sys\n",
    "import io\n",
    "import csv\n",
    "from PyQt5.Qt import *\n",
    "from PyQt5.QtCore import *\n",
    "from PyQt5.QtWidgets import *\n",
    "\n",
    "data = {'col1':['1','2','3'], 'col2':['4','5','6'], 'col3':['7','8','9']}\n",
    "\n",
    "class MyTable(QTableWidget):\n",
    "    def __init__(self, data, *args):\n",
    "        QTableWidget.__init__(self, *args)\n",
    "        self.data = data\n",
    "        self.setmydata()\n",
    "        self.resizeColumnsToContents()\n",
    "        self.resizeRowsToContents()\n",
    "        self.setSelectionMode(QAbstractItemView.ExtendedSelection)\n",
    "\n",
    "    def setmydata(self):\n",
    "\n",
    "        horHeaders = []\n",
    "        for n, key in enumerate(sorted(self.data.keys())):\n",
    "            horHeaders.append(key)\n",
    "            for m, item in enumerate(self.data[key]):\n",
    "                newitem = QTableWidgetItem(item)\n",
    "                self.setItem(m, n, newitem)\n",
    "        self.setHorizontalHeaderLabels(horHeaders)\n",
    "\n",
    "    def keyPressEvent(self, ev):\n",
    "        if (ev.key() == Qt.Key_C) and (ev.modifiers() & Qt.ControlModifier): \n",
    "            self.copySelection()\n",
    "\n",
    "    def copySelection(self):\n",
    "        selection = self.selectedIndexes()\n",
    "        if selection:\n",
    "            rows = sorted(index.row() for index in selection)\n",
    "            columns = sorted(index.column() for index in selection)\n",
    "            rowcount = rows[-1] - rows[0] + 1\n",
    "            colcount = columns[-1] - columns[0] + 1\n",
    "            table = [[''] * colcount for _ in range(rowcount)]\n",
    "            for index in selection:\n",
    "                row = index.row() - rows[0]\n",
    "                column = index.column() - columns[0]\n",
    "                table[row][column] = index.data()\n",
    "            stream = io.StringIO()\n",
    "            csv.writer(stream).writerows(table)\n",
    "            QApplication.clipboard().setText(stream.getvalue())\n",
    "\n",
    "\n",
    "def main(args):\n",
    "    app = QApplication(args)\n",
    "    table = MyTable(data, 5, 3)\n",
    "    table.show()\n",
    "    sys.exit(app.exec_())\n",
    "\n",
    "if __name__==\"__main__\":\n",
    "    main(sys.argv)"
   ]
  },
  {
   "cell_type": "code",
   "execution_count": null,
   "metadata": {},
   "outputs": [],
   "source": []
  }
 ],
 "metadata": {
  "kernelspec": {
   "display_name": "Python 3",
   "language": "python",
   "name": "python3"
  },
  "language_info": {
   "codemirror_mode": {
    "name": "ipython",
    "version": 3
   },
   "file_extension": ".py",
   "mimetype": "text/x-python",
   "name": "python",
   "nbconvert_exporter": "python",
   "pygments_lexer": "ipython3",
   "version": "3.9.6"
  }
 },
 "nbformat": 4,
 "nbformat_minor": 2
}
