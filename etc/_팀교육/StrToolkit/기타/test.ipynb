{
 "cells": [
  {
   "cell_type": "code",
   "execution_count": 1,
   "metadata": {},
   "outputs": [],
   "source": [
    "# from modules.ConvertUnit import *\n",
    "# import modules.bisection_range as brr\n",
    "from math import pi"
   ]
  },
  {
   "cell_type": "code",
   "execution_count": 2,
   "metadata": {},
   "outputs": [],
   "source": [
    "############# input section #################\n",
    "\n",
    "#material properties\n",
    "fck = 24 #mpa\n",
    "fy = 400 #mpa\n",
    "\n",
    "lambda_ = 1 # 보통 콘크리트 경량 0.85\n",
    "\n",
    "Es = 200000\n",
    "Ec = 8500 * (fck + 4)**(1/3) # 구간별 fcu 값 다르게 계산하도록 추가 변경\n",
    "\n",
    "n = Es / Ec\n",
    "\n",
    "# size of bar\n",
    "top_bar = 25.4\n",
    "bottom_bar = 25.4\n",
    "stirrup = 13\n",
    "\n",
    "# bar quantities\n",
    "number_of_top_bar_1 = 3\n",
    "number_of_top_bar_2 = 0 # 2nd layer\n",
    "\n",
    "number_of_bottom_bar_1 = 0 # 위\n",
    "number_of_bottom_bar_2 = 3 # 아래 dt.\n",
    "\n",
    "#concrete section\n",
    "beam_width = 400\n",
    "beam_height = 600\n",
    "\n",
    "concrete_cover = 40\n",
    "\n",
    "# moment\n",
    "Ma = 100 * 1000 * 1000 # kn-m -> n-mm\n",
    "Mu = 140 * 1000 * 1000 # kn-m -> n-mm\n",
    "\n",
    "\n"
   ]
  },
  {
   "cell_type": "code",
   "execution_count": null,
   "metadata": {},
   "outputs": [],
   "source": []
  }
 ],
 "metadata": {
  "kernelspec": {
   "display_name": "Python 3",
   "language": "python",
   "name": "python3"
  },
  "language_info": {
   "codemirror_mode": {
    "name": "ipython",
    "version": 3
   },
   "file_extension": ".py",
   "mimetype": "text/x-python",
   "name": "python",
   "nbconvert_exporter": "python",
   "pygments_lexer": "ipython3",
   "version": "3.10.4"
  }
 },
 "nbformat": 4,
 "nbformat_minor": 2
}
