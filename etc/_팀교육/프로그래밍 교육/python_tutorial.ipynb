{
 "cells": [
  {
   "cell_type": "markdown",
   "metadata": {},
   "source": [
    "# Welcome to Python / Jupyter Note book"
   ]
  },
  {
   "cell_type": "markdown",
   "metadata": {},
   "source": [
    "### TOC\n",
    "- <a href=\"#개발환경-세팅\">개발환경 세팅</a>\n",
    "- <a href=\"#숫자와-문자\">숫자와 문자</a>\n",
    "- <a href=\"#변수\">변수</a>\n",
    "- <a href=\"#리스트\">리스트</a>\n",
    "    - 둘 이상을 넣는 자료형\n",
    "    - 데이터를 넣는 법\n",
    "    - 데이터를 보는 법 - [순서 기반]\n",
    "    - 데이터를 빼는 법\n",
    "- <a href=\"#딕셔너리\">딕셔너리</a>\n",
    "- <a href=\"#if\">if</a>\n",
    "- <a href=\"#for\">for</a>\n",
    "- <a href=\"#함수와-파라미터\">함수와 파라미터</a>\n",
    "    - 파라미터와 아규먼트의 차이\n",
    "<br><br><br>\n",
    ">강좌 구성 참조 https://codingapple.com/course/python-basic/"
   ]
  },
  {
   "cell_type": "code",
   "execution_count": 2,
   "metadata": {},
   "outputs": [
    {
     "name": "stdout",
     "output_type": "stream",
     "text": [
      "Hello 만규! It's your Python World\n"
     ]
    }
   ],
   "source": [
    "print(f\"Hello {input()}! It's your Python World\")"
   ]
  },
  {
   "cell_type": "markdown",
   "metadata": {},
   "source": [
    "### 개발환경 세팅"
   ]
  },
  {
   "cell_type": "markdown",
   "metadata": {},
   "source": [
    "https://codingapple.com/unit/python-setting-windows/\n",
    "\n",
    "\n",
    "https://coding-kindergarten.tistory.com/5"
   ]
  },
  {
   "cell_type": "markdown",
   "metadata": {},
   "source": [
    "### 숫자와 문자"
   ]
  },
  {
   "cell_type": "code",
   "execution_count": 5,
   "metadata": {},
   "outputs": [
    {
     "data": {
      "text/plain": [
       "3.5549999999999997"
      ]
     },
     "execution_count": 5,
     "metadata": {},
     "output_type": "execute_result"
    }
   ],
   "source": [
    "1.555 + 2"
   ]
  },
  {
   "cell_type": "code",
   "execution_count": 6,
   "metadata": {},
   "outputs": [
    {
     "data": {
      "text/plain": [
       "int"
      ]
     },
     "execution_count": 6,
     "metadata": {},
     "output_type": "execute_result"
    }
   ],
   "source": [
    "type(3)"
   ]
  },
  {
   "cell_type": "code",
   "execution_count": 16,
   "metadata": {},
   "outputs": [
    {
     "data": {
      "text/plain": [
       "2"
      ]
     },
     "execution_count": 16,
     "metadata": {},
     "output_type": "execute_result"
    }
   ],
   "source": [
    "3+3\n",
    "3-3\n",
    "3*3\n",
    "3**3\n",
    "3/2\n",
    "7%5\n",
    "7//5"
   ]
  },
  {
   "cell_type": "code",
   "execution_count": 22,
   "metadata": {},
   "outputs": [
    {
     "data": {
      "text/plain": [
       "'만규는 \"바보\" '"
      ]
     },
     "execution_count": 22,
     "metadata": {},
     "output_type": "execute_result"
    }
   ],
   "source": [
    "'JangMankYu'\n",
    "\"JangMankyu\"\n",
    "\n",
    "\"만규는 '바보'\"\n",
    "'만규는 \"바보\"'\n",
    "\n",
    "# \"만규는 \\\"바보\\\" \""
   ]
  },
  {
   "cell_type": "code",
   "execution_count": 35,
   "metadata": {},
   "outputs": [
    {
     "data": {
      "text/plain": [
       "'\\nㅁㄴㅇㄻㄴㅇㄹ\\nㅇㄻㄴㅇㄻㄴㄹㅇㅁㄴㅇㄹ\\nㅁㄴㄻㄴㅇㄻㄴㄹ\\n\\n'"
      ]
     },
     "execution_count": 35,
     "metadata": {},
     "output_type": "execute_result"
    }
   ],
   "source": [
    "    \"\"\"\n",
    "    ㅁㄴㅇㄻㄴㅇㄹ\n",
    "    ㅇㄻㄴㅇㄻㄴㄹㅇㅁㄴㅇㄹ\n",
    "    ㅁㄴㄻㄴㅇㄻㄴㄹ\n",
    "    \n",
    "    \"\"\""
   ]
  },
  {
   "cell_type": "markdown",
   "metadata": {},
   "source": [
    "### 변수"
   ]
  },
  {
   "cell_type": "code",
   "execution_count": 24,
   "metadata": {},
   "outputs": [],
   "source": [
    "a = 1+2+3+4+5+6"
   ]
  },
  {
   "cell_type": "code",
   "execution_count": 28,
   "metadata": {},
   "outputs": [
    {
     "data": {
      "text/plain": [
       "210"
      ]
     },
     "execution_count": 28,
     "metadata": {},
     "output_type": "execute_result"
    }
   ],
   "source": [
    "b = a * 10\n",
    "b"
   ]
  },
  {
   "cell_type": "markdown",
   "metadata": {},
   "source": [
    "### 리스트"
   ]
  },
  {
   "cell_type": "markdown",
   "metadata": {},
   "source": [
    "### 딕셔너리"
   ]
  },
  {
   "cell_type": "code",
   "execution_count": 33,
   "metadata": {},
   "outputs": [],
   "source": [
    "나이딕셔너리 = {\"만규나이\": 25, \"형빈나이\": 25, \"신화나이\": 28, \"길보나이\": 20, \"성민나이\": 21}"
   ]
  },
  {
   "cell_type": "code",
   "execution_count": 34,
   "metadata": {},
   "outputs": [
    {
     "data": {
      "text/plain": [
       "21"
      ]
     },
     "execution_count": 34,
     "metadata": {},
     "output_type": "execute_result"
    }
   ],
   "source": [
    "나이딕셔너리[\"성민나이\"]"
   ]
  },
  {
   "cell_type": "markdown",
   "metadata": {},
   "source": [
    "### if"
   ]
  },
  {
   "cell_type": "markdown",
   "metadata": {},
   "source": [
    "### for"
   ]
  },
  {
   "cell_type": "markdown",
   "metadata": {},
   "source": [
    "### 함수와 파라미터"
   ]
  },
  {
   "cell_type": "code",
   "execution_count": null,
   "metadata": {},
   "outputs": [],
   "source": []
  }
 ],
 "metadata": {
  "kernelspec": {
   "display_name": "Python 3",
   "language": "python",
   "name": "python3"
  },
  "language_info": {
   "codemirror_mode": {
    "name": "ipython",
    "version": 3
   },
   "file_extension": ".py",
   "mimetype": "text/x-python",
   "name": "python",
   "nbconvert_exporter": "python",
   "pygments_lexer": "ipython3",
   "version": "3.9.6"
  }
 },
 "nbformat": 4,
 "nbformat_minor": 2
}
