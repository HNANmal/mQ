{
 "cells": [
  {
   "cell_type": "markdown",
   "metadata": {},
   "source": [
    "# Welcome to Python / Jupyter Note book"
   ]
  },
  {
   "cell_type": "markdown",
   "metadata": {},
   "source": [
    "### TOC\n",
    "- <a href=\"#개발환경-세팅\">개발환경 세팅</a>\n",
    "- <a href=\"#숫자와-문자\">숫자와 문자</a>\n",
    "- <a href=\"#변수\">변수</a>\n",
    "- <a href=\"#리스트\">리스트</a>\n",
    "    - <a href =\"#시간남으면-보는-스토리-_-둘-이상을-넣는-자료형\">시간남으면 보는 스토리 _ 둘 이상을 넣는 자료형</a>\n",
    "    - <a href =\"#데이터를-넣는-법\">데이터를 넣는 법</a>\n",
    "    - <a href =\"#데이터를-부르는-법\">데이터를 부르는 법</a>\n",
    "    - <a href =\"#데이터를-삭제하는-법\">데이터를 삭제하는 법</a>\n",
    "    - <a href =\"#데이터를-수정하는-법\">데이터를 수정하는 법</a>\n",
    "- <a href=\"#for-구문\">for 구문</a>\n",
    "- <a href=\"#if\">if</a>\n",
    "- <a href=\"#딕셔너리\">딕셔너리</a>\n",
    "- <a href=\"#함수와-파라미터\">함수와 파라미터</a>\n",
    "<br><br><br>\n",
    ">강좌 구성 참조 https://codingapple.com/course/python-basic/"
   ]
  },
  {
   "cell_type": "code",
   "execution_count": 40,
   "metadata": {},
   "outputs": [],
   "source": [
    "# print(f\"Hello {input()}! It's your Python World\")"
   ]
  },
  {
   "cell_type": "markdown",
   "metadata": {},
   "source": [
    "### 개발환경 세팅"
   ]
  },
  {
   "cell_type": "markdown",
   "metadata": {},
   "source": [
    "https://codingapple.com/unit/python-setting-windows/\n",
    "\n",
    "\n",
    "https://coding-kindergarten.tistory.com/5"
   ]
  },
  {
   "cell_type": "markdown",
   "metadata": {},
   "source": [
    "### 숫자와 문자"
   ]
  },
  {
   "cell_type": "code",
   "execution_count": 41,
   "metadata": {},
   "outputs": [
    {
     "data": {
      "text/plain": [
       "3.5549999999999997"
      ]
     },
     "execution_count": 41,
     "metadata": {},
     "output_type": "execute_result"
    }
   ],
   "source": [
    "1.555 + 2"
   ]
  },
  {
   "cell_type": "code",
   "execution_count": 42,
   "metadata": {},
   "outputs": [
    {
     "data": {
      "text/plain": [
       "int"
      ]
     },
     "execution_count": 42,
     "metadata": {},
     "output_type": "execute_result"
    }
   ],
   "source": [
    "type(3)"
   ]
  },
  {
   "cell_type": "code",
   "execution_count": 43,
   "metadata": {},
   "outputs": [
    {
     "data": {
      "text/plain": [
       "1"
      ]
     },
     "execution_count": 43,
     "metadata": {},
     "output_type": "execute_result"
    }
   ],
   "source": [
    "3+3\n",
    "3-3\n",
    "3*3\n",
    "3**3\n",
    "3/2\n",
    "7%5\n",
    "7//5"
   ]
  },
  {
   "cell_type": "code",
   "execution_count": 44,
   "metadata": {},
   "outputs": [
    {
     "data": {
      "text/plain": [
       "'만규는 \"바보\"'"
      ]
     },
     "execution_count": 44,
     "metadata": {},
     "output_type": "execute_result"
    }
   ],
   "source": [
    "'JangMankYu'\n",
    "\"JangMankyu\"\n",
    "\n",
    "\"만규는 '바보'\"\n",
    "'만규는 \"바보\"'\n",
    "\n",
    "# \"만규는 \\\"바보\\\" \""
   ]
  },
  {
   "cell_type": "code",
   "execution_count": 45,
   "metadata": {},
   "outputs": [
    {
     "data": {
      "text/plain": [
       "'\\nㅁㄴㅇㄻㄴㅇㄹ\\nㅇㄻㄴㅇㄻㄴㄹㅇㅁㄴㅇㄹ\\nㅁㄴㄻㄴㅇㄻㄴㄹ\\n\\n'"
      ]
     },
     "execution_count": 45,
     "metadata": {},
     "output_type": "execute_result"
    }
   ],
   "source": [
    "\"\"\"\n",
    "ㅁㄴㅇㄻㄴㅇㄹ\n",
    "ㅇㄻㄴㅇㄻㄴㄹㅇㅁㄴㅇㄹ\n",
    "ㅁㄴㄻㄴㅇㄻㄴㄹ\n",
    "\n",
    "\"\"\""
   ]
  },
  {
   "cell_type": "markdown",
   "metadata": {},
   "source": [
    "### 변수"
   ]
  },
  {
   "cell_type": "code",
   "execution_count": 1,
   "metadata": {},
   "outputs": [
    {
     "data": {
      "text/plain": [
       "21"
      ]
     },
     "execution_count": 1,
     "metadata": {},
     "output_type": "execute_result"
    }
   ],
   "source": [
    "a = 1+2+3+4+5+6\n",
    "a"
   ]
  },
  {
   "cell_type": "code",
   "execution_count": 2,
   "metadata": {},
   "outputs": [],
   "source": [
    "b = a * 10\n",
    "b\n",
    "\n",
    "a = 1"
   ]
  },
  {
   "cell_type": "markdown",
   "metadata": {},
   "source": [
    "### 리스트 - (iterable)"
   ]
  },
  {
   "cell_type": "markdown",
   "metadata": {},
   "source": [
    "#### 시간남으면 보는 스토리 _ 둘 이상을 넣는 자료형"
   ]
  },
  {
   "cell_type": "markdown",
   "metadata": {},
   "source": [
    "<a href=\"StoryOfList.ipynb\">리스트 스토리: 둘이상을 넣는 자료형</a>"
   ]
  },
  {
   "cell_type": "markdown",
   "metadata": {},
   "source": [
    "> 참고>> <br>\n",
    "Q> 하드코딩이란 무엇인가?<br><br>\n",
    "A> 데이터를 코드 내부에 직접 입력하는 것.<br><br>\n",
    "Q> 하드코딩은 좋은 것인가요?<br><br>\n",
    "A> 음.. 종국에는 하드코딩 파트는 다 덜어내야 합니다. **개발과정의 테스트 용도**가 아닌 하드코딩 파트는 모두 리팩토링 대상입니다.<br><br>\n",
    "Q> 근데 리스트 알려준다면서 갑자기 이 선문답은 왜 하나요?<br><br>\n",
    "A> 그 이유는. 당신이 이미 짠 혹은 앞으로 짤 코드 중, 리스트로 사고하는 방식이 익숙하지 않아서 <br>\n",
    "변수에 단일 자료형을 하나씩 할당하면서<br>\n",
    "자연스럽게 하드코딩이 포함된 코딩을 만들어내는 경우가 너무나도 많기 때문입니다."
   ]
  },
  {
   "cell_type": "markdown",
   "metadata": {},
   "source": [
    "#### 데이터를 넣는 법"
   ]
  },
  {
   "cell_type": "markdown",
   "metadata": {},
   "source": [
    "##### 빈 리스트 선언하는 법"
   ]
  },
  {
   "cell_type": "code",
   "execution_count": 48,
   "metadata": {},
   "outputs": [
    {
     "name": "stdout",
     "output_type": "stream",
     "text": [
      "[]\n",
      "[]\n"
     ]
    }
   ],
   "source": [
    "빈리스트 = []\n",
    "print(빈리스트)\n",
    "\n",
    "empty리스트 = list()\n",
    "print(empty리스트)"
   ]
  },
  {
   "cell_type": "markdown",
   "metadata": {},
   "source": [
    "##### 초기값이 포함된 리스트를 선언하는 법"
   ]
  },
  {
   "cell_type": "code",
   "execution_count": 3,
   "metadata": {},
   "outputs": [
    {
     "name": "stdout",
     "output_type": "stream",
     "text": [
      "[1, 2]\n",
      "{1, 2, 3, 4, 5}\n",
      "[1, 2]\n",
      "[1, 2]\n",
      "[1, 2]\n"
     ]
    }
   ],
   "source": [
    "어떤리스트 = [1, 2]\n",
    "(1,2)\n",
    "print(어떤리스트)\n",
    "print({1,2,3,3,3,4,4,5})\n",
    "\n",
    "some리스트1 = list((1,2)) ## tuple을 List로 변환하는 방식\n",
    "some리스트2 = list({1,2}) ## Set를 List로 변환하는 방식\n",
    "some리스트3 = list([1,2]) ## List를 List(?)로 변환하는 방식\n",
    "print(some리스트1)\n",
    "print(some리스트2)\n",
    "print(some리스트3)"
   ]
  },
  {
   "cell_type": "markdown",
   "metadata": {},
   "source": [
    "##### 선언된 리스트에 데이터를 집어넣는 법"
   ]
  },
  {
   "cell_type": "markdown",
   "metadata": {},
   "source": [
    "###### append 메소드"
   ]
  },
  {
   "cell_type": "code",
   "execution_count": 11,
   "metadata": {},
   "outputs": [
    {
     "name": "stdout",
     "output_type": "stream",
     "text": [
      "[]\n",
      "['첫번째 데이터', '두번째 데이터', '세번째 데이터']\n"
     ]
    }
   ],
   "source": [
    "리스트 = []\n",
    "print(리스트)\n",
    "\n",
    "리스트.append(\"첫번째 데이터\")\n",
    "리스트.append(\"두번째 데이터\")\n",
    "리스트.append(\"세번째 데이터\")\n",
    "\n",
    "print(리스트)"
   ]
  },
  {
   "cell_type": "markdown",
   "metadata": {},
   "source": [
    "###### insert 메소드"
   ]
  },
  {
   "cell_type": "code",
   "execution_count": 12,
   "metadata": {},
   "outputs": [
    {
     "name": "stdout",
     "output_type": "stream",
     "text": [
      "[1, 2, 2.5, 3, 4, 5]\n"
     ]
    }
   ],
   "source": [
    "삽입_리스트 = [1,2,3,4,5]\n",
    "삽입_리스트.insert(2, 2.5) ## 입력 인수: ( 인덱스번호, 삽입할 데이터 )\n",
    "\n",
    "print(삽입_리스트)"
   ]
  },
  {
   "cell_type": "markdown",
   "metadata": {},
   "source": [
    "#### 데이터를 부르는 법"
   ]
  },
  {
   "cell_type": "markdown",
   "metadata": {},
   "source": [
    "##### 하나씩 수동으로 부르는 법"
   ]
  },
  {
   "cell_type": "code",
   "execution_count": 15,
   "metadata": {},
   "outputs": [
    {
     "data": {
      "text/plain": [
       "4"
      ]
     },
     "execution_count": 15,
     "metadata": {},
     "output_type": "execute_result"
    }
   ],
   "source": [
    "삽입_리스트 = [1,2,3,4,5]\n",
    "삽입_리스트[3]"
   ]
  },
  {
   "cell_type": "code",
   "execution_count": 53,
   "metadata": {},
   "outputs": [
    {
     "name": "stdout",
     "output_type": "stream",
     "text": [
      "0x264c8c59600\n",
      "0x264c2a36930\n",
      "0x264c2a36950\n",
      "0x264c7f4d710\n"
     ]
    }
   ],
   "source": [
    "print(hex(id(삽입_리스트)))\n",
    "print(hex(id(삽입_리스트[0])))\n",
    "print(hex(id(삽입_리스트[1])))\n",
    "print(hex(id(삽입_리스트[2])))\n"
   ]
  },
  {
   "cell_type": "markdown",
   "metadata": {},
   "source": [
    "##### 모든 데이터를 자동으로 부르는 법"
   ]
  },
  {
   "cell_type": "code",
   "execution_count": 23,
   "metadata": {},
   "outputs": [
    {
     "name": "stdout",
     "output_type": "stream",
     "text": [
      "[1, 2, 3, 4, 5]\n",
      "['0x19d934d6930', '0x19d934d6950', '0x19d934d6970', '0x19d934d6990', '0x19d934d69b0']\n",
      "[1, 2, 3, 4, 5]\n",
      "['0x19d934d6930', '0x19d934d6950', '0x19d934d6970', '0x19d934d6990', '0x19d934d69b0']\n"
     ]
    }
   ],
   "source": [
    "from copy import deepcopy\n",
    "삽입_리스트 = [1,2,3,4,5]\n",
    "\n",
    "조회결과 = []\n",
    "메모리주소 = []\n",
    "for i in 삽입_리스트:\n",
    "    조회결과.append(i)\n",
    "    메모리주소.append(hex(id(i)))\n",
    "\n",
    "print(조회결과)\n",
    "print(메모리주소)\n",
    "# 조회결과.append(삽입_리스트[0])\n",
    "# 조회결과.append(삽입_리스트[1])\n",
    "# 조회결과.append(삽입_리스트[2])\n",
    "# 조회결과.append(삽입_리스트[3])\n",
    "# 조회결과.append(삽입_리스트[4])\n",
    "\n",
    "#심화\n",
    "잘라낸_리스트 = [] #삽입_리스트[:3] #[3] 단일 인덱스 호출, [시작:끝]\n",
    "잘라낸_리스트_메모리주소 = []\n",
    "다른원본 = list(삽입_리스트)\n",
    "for i in 다른원본:\n",
    "    잘라낸_리스트.append(i)\n",
    "    잘라낸_리스트_메모리주소.append(hex(id(i)))\n",
    "    \n",
    "print(잘라낸_리스트)\n",
    "print(잘라낸_리스트_메모리주소)"
   ]
  },
  {
   "attachments": {
    "image-2.png": {
     "image/png": "[encoded data removed]"
    }
   },
   "cell_type": "markdown",
   "metadata": {},
   "source": [
    "![image-2.png](attachment:image-2.png)\n",
    "\n",
    "https://st-lab.tistory.com/198<br>\n",
    "https://www.tcpschool.com/c/c_memory_structure"
   ]
  },
  {
   "cell_type": "markdown",
   "metadata": {},
   "source": [
    "#### 데이터를 삭제하는 법"
   ]
  },
  {
   "cell_type": "code",
   "execution_count": 27,
   "metadata": {},
   "outputs": [
    {
     "name": "stdout",
     "output_type": "stream",
     "text": [
      "[1, 2, 3, 4, 5]\n",
      "[2, 3, 4, 5]\n"
     ]
    }
   ],
   "source": [
    "삭제대상_리스트 = [1, 2, 3, 4, 5]\n",
    "print(삭제대상_리스트)\n",
    "\n",
    "del 삭제대상_리스트[0]\n",
    "# del 삭제대상_리스트[0]\n",
    "# del 삭제대상_리스트[0]\n",
    "print(삭제대상_리스트)"
   ]
  },
  {
   "cell_type": "code",
   "execution_count": 28,
   "metadata": {},
   "outputs": [
    {
     "name": "stdout",
     "output_type": "stream",
     "text": [
      "[3, 4, 5]\n"
     ]
    }
   ],
   "source": [
    "삭제대상_리스트.remove(2)\n",
    "print(삭제대상_리스트)"
   ]
  },
  {
   "cell_type": "markdown",
   "metadata": {},
   "source": [
    "#### 데이터를 수정하는 법"
   ]
  },
  {
   "cell_type": "code",
   "execution_count": 29,
   "metadata": {},
   "outputs": [
    {
     "name": "stdout",
     "output_type": "stream",
     "text": [
      "[1, 2, 3, 999, 5, 6, 7, 8, 9]\n"
     ]
    }
   ],
   "source": [
    "수정대상_리스트 = [1,2,3,4,5,6,7,8,9]\n",
    "# 불러서 할당하라\n",
    "## 불러서         -> 대치할 값(단일자료형, 반복가능 자료형 모두 가능)으로 할당\n",
    "수정대상_리스트[3] = \"변경됨!\"\n",
    "수정대상_리스트[3] = 999\n",
    "\n",
    "print(수정대상_리스트)"
   ]
  },
  {
   "cell_type": "code",
   "execution_count": 30,
   "metadata": {},
   "outputs": [
    {
     "name": "stdout",
     "output_type": "stream",
     "text": [
      "[1, 2, 3, ['변경됨!', '다른 변경됨!'], 5, 6, 7, 8, 9]\n"
     ]
    }
   ],
   "source": [
    "수정대상_리스트 = [1,2,3,4,5,6,7,8,9]\n",
    "# 불러서 할당하라\n",
    "## 불러서         -> 대치할 값(단일자료형, 반복가능 자료형 모두 가능)으로 할당\n",
    "수정대상_리스트[3] = [\"변경됨!\", \"다른 변경됨!\"]\n",
    "\n",
    "print(수정대상_리스트)"
   ]
  },
  {
   "cell_type": "code",
   "execution_count": 32,
   "metadata": {},
   "outputs": [
    {
     "name": "stdout",
     "output_type": "stream",
     "text": [
      "[1, 2, 3, 101, 102, 103, 7, 8, 9]\n"
     ]
    }
   ],
   "source": [
    "수정대상_리스트 = [1,2,3,4,5,6,7,8,9]\n",
    "# 불러서 할당하라\n",
    "## 범위로 불러서    -> 대치할 값(반복가능 자료형: list)으로 할당\n",
    "수정대상_리스트[3:6] = [101,102,103]\n",
    "# 수정대상_리스트[3] = 101\n",
    "# 수정대상_리스트[4] = 102\n",
    "# 수정대상_리스트[5] = 103\n",
    "\n",
    "print(수정대상_리스트)"
   ]
  },
  {
   "cell_type": "code",
   "execution_count": 33,
   "metadata": {},
   "outputs": [
    {
     "name": "stdout",
     "output_type": "stream",
     "text": [
      "[1, 2, 3, 1000, 7, 8, 9]\n"
     ]
    }
   ],
   "source": [
    "수정대상_리스트 = [1,2,3,4,5,6,7,8,9]\n",
    "# 불러서 할당하라\n",
    "## 범위로 불러서    -> 대치할 값(반복가능 자료형: list)으로 할당\n",
    "수정대상_리스트[3:6] = [1000]\n",
    "\n",
    "print(수정대상_리스트)"
   ]
  },
  {
   "cell_type": "code",
   "execution_count": 61,
   "metadata": {},
   "outputs": [
    {
     "name": "stdout",
     "output_type": "stream",
     "text": [
      "[1, 2, 3, 333, 222, 111, 7, 8, 9]\n"
     ]
    }
   ],
   "source": [
    "수정대상_리스트 = [1,2,3,4,5,6,7,8,9]\n",
    "# 불러서 할당하라\n",
    "## 범위로 불러서    -> 대치할 값(반복가능 자료형: set)으로 할당\n",
    "수정대상_리스트[3:6] = {111,222,333}\n",
    "\n",
    "print(수정대상_리스트)"
   ]
  },
  {
   "cell_type": "code",
   "execution_count": 62,
   "metadata": {},
   "outputs": [
    {
     "name": "stdout",
     "output_type": "stream",
     "text": [
      "[1, 2, 3, 'a', 'b', 'c', 'd', 7, 8, 9]\n"
     ]
    }
   ],
   "source": [
    "수정대상_리스트 = [1,2,3,4,5,6,7,8,9]\n",
    "# 불러서 할당하라\n",
    "## 범위로 불러서    -> 대치할 값(반복가능 자료형: tuple)으로 할당\n",
    "수정대상_리스트[3:6] = (\"a\",\"b\",\"c\",\"d\")\n",
    "\n",
    "print(수정대상_리스트)"
   ]
  },
  {
   "cell_type": "markdown",
   "metadata": {},
   "source": [
    "### for 구문"
   ]
  },
  {
   "attachments": {
    "image-2.png": {
     "image/png": "[encoded data removed]"
    }
   },
   "cell_type": "markdown",
   "metadata": {},
   "source": [
    "#### 기본 구조\n",
    "![image-2.png](attachment:image-2.png)"
   ]
  },
  {
   "cell_type": "code",
   "execution_count": 35,
   "metadata": {},
   "outputs": [
    {
     "name": "stdout",
     "output_type": "stream",
     "text": [
      "[[1, 2, 1], [2, 3, 4], [3, 4, 9]]\n"
     ]
    }
   ],
   "source": [
    "일차원array = [1, 2, 3]\n",
    "\n",
    "\n",
    "이차원array = []\n",
    "for i in 일차원array:\n",
    "    res = [i, i+1, i**2] ##  하고싶은 연산 해서 res 에 집어넣기\n",
    "    이차원array.append(res) ## res 를 새로운 리스트에 집어넣기\n",
    "\n",
    "print(이차원array)"
   ]
  },
  {
   "attachments": {
    "image-2.png": {
     "image/png": "[encoded data removed]"
    }
   },
   "cell_type": "markdown",
   "metadata": {},
   "source": [
    "#### 리스트 컴프리헨션 표현식 (List Comprehension)\n",
    "(append 를 생략한)<br>\n",
    "![image-2.png](attachment:image-2.png)"
   ]
  },
  {
   "cell_type": "code",
   "execution_count": 36,
   "metadata": {},
   "outputs": [
    {
     "name": "stdout",
     "output_type": "stream",
     "text": [
      "[[1, 2, 1], [2, 3, 4], [3, 4, 9]]\n"
     ]
    }
   ],
   "source": [
    "일차원array = [1, 2, 3]\n",
    "\n",
    "\n",
    "이차원array = []\n",
    "for i in 일차원array:\n",
    "    res = [i, i+1, i**2] ##  하고싶은 연산 해서 res 에 집어넣기\n",
    "    이차원array.append(res) ## res 를 새로운 리스트에 집어넣기\n",
    "\n",
    "\n",
    "\n",
    "이차원array = [ [i, i+1, i**2] for i in 일차원array ]\n",
    "print(이차원array)"
   ]
  },
  {
   "attachments": {
    "image-2.png": {
     "image/png": "[encoded data removed]"
    }
   },
   "cell_type": "markdown",
   "metadata": {},
   "source": [
    "#### 중첩 구조 - Digging(파고들기)\n",
    "![image-2.png](attachment:image-2.png)\n",
    "\n",
    "내코드에 중첩이 3번이상되면 좆됐음 을 감지해라"
   ]
  },
  {
   "cell_type": "code",
   "execution_count": 38,
   "metadata": {},
   "outputs": [
    {
     "name": "stdout",
     "output_type": "stream",
     "text": [
      "[[1, 2, 3], [4, 5, 6], [7, 8, 9]]\n",
      "[[1, 4, 9], [16, 25, 36], [49, 64, 81]]\n"
     ]
    }
   ],
   "source": [
    "이차원array = \\\n",
    "    [[1,2,3],\n",
    "    [4,5,6],\n",
    "    [7,8,9]]\n",
    "\n",
    "변형이차원array = []\n",
    "for row in 이차원array:\n",
    "    newRow = []\n",
    "    for i in row:\n",
    "        newRow.append(i**2)\n",
    "    변형이차원array.append(newRow)\n",
    "\n",
    "print(이차원array)\n",
    "print(변형이차원array)"
   ]
  },
  {
   "cell_type": "code",
   "execution_count": 66,
   "metadata": {},
   "outputs": [
    {
     "data": {
      "text/plain": [
       "[[1, 4, 9], [16, 25, 36], [49, 64, 81]]"
      ]
     },
     "execution_count": 66,
     "metadata": {},
     "output_type": "execute_result"
    }
   ],
   "source": [
    "# 제발 하지 않기를 권장하는 방식의 코딩\n",
    "이차원array = \\\n",
    "    [[1,2,3],\n",
    "    [4,5,6],\n",
    "    [7,8,9]]\n",
    "\n",
    "for i, row in enumerate(이차원array):\n",
    "    for j, e in enumerate(row):\n",
    "        row[j] = e**2\n",
    "    이차원array[i] = row\n",
    "    \n",
    "이차원array"
   ]
  },
  {
   "cell_type": "markdown",
   "metadata": {},
   "source": [
    "##### 중첩구조(Digging)를 리스트 컴프리헨션 표현식으로 바꾸면\n",
    "가독성 똥망이 되벌임<br>\n",
    "고로 컴프리헨션 표현식은 단순 for 문 구조에서 사용하기를 권장"
   ]
  },
  {
   "cell_type": "code",
   "execution_count": 67,
   "metadata": {},
   "outputs": [
    {
     "data": {
      "text/plain": [
       "[[1, 4, 9], [16, 25, 36], [49, 64, 81]]"
      ]
     },
     "execution_count": 67,
     "metadata": {},
     "output_type": "execute_result"
    }
   ],
   "source": [
    "이차원array = \\\n",
    "    [[1,2,3],\n",
    "    [4,5,6],\n",
    "    [7,8,9]]\n",
    "\n",
    "[ [i**2 for i in row] for row in 이차원array ]"
   ]
  },
  {
   "attachments": {
    "image.png": {
     "image/png": "[encoded data removed]"
    }
   },
   "cell_type": "markdown",
   "metadata": {},
   "source": [
    "#### 중첩구조 - Product(곱)\n",
    "![image.png](attachment:image.png)"
   ]
  },
  {
   "cell_type": "code",
   "execution_count": 39,
   "metadata": {},
   "outputs": [
    {
     "data": {
      "text/plain": [
       "[['1학년', '1반'],\n",
       " ['1학년', '2반'],\n",
       " ['1학년', '3반'],\n",
       " ['1학년', '4반'],\n",
       " ['1학년', '5반'],\n",
       " ['1학년', '6반'],\n",
       " ['2학년', '1반'],\n",
       " ['2학년', '2반'],\n",
       " ['2학년', '3반'],\n",
       " ['2학년', '4반'],\n",
       " ['2학년', '5반'],\n",
       " ['2학년', '6반'],\n",
       " ['3학년', '1반'],\n",
       " ['3학년', '2반'],\n",
       " ['3학년', '3반'],\n",
       " ['3학년', '4반'],\n",
       " ['3학년', '5반'],\n",
       " ['3학년', '6반'],\n",
       " ['4학년', '1반'],\n",
       " ['4학년', '2반'],\n",
       " ['4학년', '3반'],\n",
       " ['4학년', '4반'],\n",
       " ['4학년', '5반'],\n",
       " ['4학년', '6반']]"
      ]
     },
     "execution_count": 39,
     "metadata": {},
     "output_type": "execute_result"
    }
   ],
   "source": [
    "어떤리스트1 = [\"1학년\", \"2학년\", \"3학년\", \"4학년\"]\n",
    "어떤리스트2 = [\"1반\", \"2반\", \"3반\", \"4반\", \"5반\", \"6반\"]\n",
    "\n",
    "product = []\n",
    "for i in 어떤리스트1:\n",
    "    for j in 어떤리스트2:\n",
    "        product.append([i,j])\n",
    "product # 재료가 된 리스트의 구조를 무시하고 단일구조 리스트로 출력"
   ]
  },
  {
   "cell_type": "code",
   "execution_count": 42,
   "metadata": {},
   "outputs": [
    {
     "data": {
      "text/plain": [
       "[[['1학년', '1반'],\n",
       "  ['1학년', '2반'],\n",
       "  ['1학년', '3반'],\n",
       "  ['1학년', '4반'],\n",
       "  ['1학년', '5반'],\n",
       "  ['1학년', '6반']],\n",
       " [['2학년', '1반'],\n",
       "  ['2학년', '2반'],\n",
       "  ['2학년', '3반'],\n",
       "  ['2학년', '4반'],\n",
       "  ['2학년', '5반'],\n",
       "  ['2학년', '6반']],\n",
       " [['3학년', '1반'],\n",
       "  ['3학년', '2반'],\n",
       "  ['3학년', '3반'],\n",
       "  ['3학년', '4반'],\n",
       "  ['3학년', '5반'],\n",
       "  ['3학년', '6반']],\n",
       " [['4학년', '1반'],\n",
       "  ['4학년', '2반'],\n",
       "  ['4학년', '3반'],\n",
       "  ['4학년', '4반'],\n",
       "  ['4학년', '5반'],\n",
       "  ['4학년', '6반']]]"
      ]
     },
     "execution_count": 42,
     "metadata": {},
     "output_type": "execute_result"
    }
   ],
   "source": [
    "어떤리스트1 = [\"1학년\", \"2학년\", \"3학년\", \"4학년\"]\n",
    "어떤리스트2 = [\"1반\", \"2반\", \"3반\", \"4반\", \"5반\", \"6반\"]\n",
    "\n",
    "product = []\n",
    "for i in 어떤리스트1:\n",
    "    학년별 = []\n",
    "    for j in 어떤리스트2:\n",
    "        학년별.append([i,j])\n",
    "    product.append(학년별)\n",
    "product # 재료가 된 리스트의 구조를 무시하고 단일구조 리스트로 출력\n",
    "product"
   ]
  },
  {
   "cell_type": "markdown",
   "metadata": {},
   "source": [
    "##### 중첩구조(Product)를 리스트 컴프리헨션 표현식으로 바꾸면\n",
    "파고들기 때 보다는 좀 낫지만, 여전히 가독성 측면에서 권장할 만 하지는 않다."
   ]
  },
  {
   "cell_type": "code",
   "execution_count": 70,
   "metadata": {},
   "outputs": [
    {
     "data": {
      "text/plain": [
       "[['1학년', '1반'],\n",
       " ['1학년', '2반'],\n",
       " ['1학년', '3반'],\n",
       " ['1학년', '4반'],\n",
       " ['1학년', '5반'],\n",
       " ['1학년', '6반'],\n",
       " ['2학년', '1반'],\n",
       " ['2학년', '2반'],\n",
       " ['2학년', '3반'],\n",
       " ['2학년', '4반'],\n",
       " ['2학년', '5반'],\n",
       " ['2학년', '6반'],\n",
       " ['3학년', '1반'],\n",
       " ['3학년', '2반'],\n",
       " ['3학년', '3반'],\n",
       " ['3학년', '4반'],\n",
       " ['3학년', '5반'],\n",
       " ['3학년', '6반'],\n",
       " ['4학년', '1반'],\n",
       " ['4학년', '2반'],\n",
       " ['4학년', '3반'],\n",
       " ['4학년', '4반'],\n",
       " ['4학년', '5반'],\n",
       " ['4학년', '6반']]"
      ]
     },
     "execution_count": 70,
     "metadata": {},
     "output_type": "execute_result"
    }
   ],
   "source": [
    "[ [i,j] for i in 어떤리스트1 for j in 어떤리스트2 ]"
   ]
  },
  {
   "cell_type": "markdown",
   "metadata": {},
   "source": [
    "#### ‖ 참고. 예약어란?\n",
    "\n",
    "하기의 목록"
   ]
  },
  {
   "cell_type": "code",
   "execution_count": 1,
   "metadata": {},
   "outputs": [
    {
     "data": {
      "text/plain": [
       "['False',\n",
       " 'None',\n",
       " 'True',\n",
       " '__peg_parser__',\n",
       " 'and',\n",
       " 'as',\n",
       " 'assert',\n",
       " 'async',\n",
       " 'await',\n",
       " 'break',\n",
       " 'class',\n",
       " 'continue',\n",
       " 'def',\n",
       " 'del',\n",
       " 'elif',\n",
       " 'else',\n",
       " 'except',\n",
       " 'finally',\n",
       " 'for',\n",
       " 'from',\n",
       " 'global',\n",
       " 'if',\n",
       " 'import',\n",
       " 'in',\n",
       " 'is',\n",
       " 'lambda',\n",
       " 'nonlocal',\n",
       " 'not',\n",
       " 'or',\n",
       " 'pass',\n",
       " 'raise',\n",
       " 'return',\n",
       " 'try',\n",
       " 'while',\n",
       " 'with',\n",
       " 'yield']"
      ]
     },
     "execution_count": 1,
     "metadata": {},
     "output_type": "execute_result"
    }
   ],
   "source": [
    "import keyword\n",
    "keyword.kwlist"
   ]
  },
  {
   "cell_type": "markdown",
   "metadata": {},
   "source": [
    "※ 예약어는 식별자 (변수명,  함수명,  클래스명, 모듈명)로 사용할 수 없다."
   ]
  },
  {
   "cell_type": "code",
   "execution_count": 2,
   "metadata": {},
   "outputs": [
    {
     "ename": "SyntaxError",
     "evalue": "invalid syntax (Temp/ipykernel_4004/1281293189.py, line 1)",
     "output_type": "error",
     "traceback": [
      "\u001b[1;36m  File \u001b[1;32m\"C:\\Users\\HEC\\AppData\\Local\\Temp/ipykernel_4004/1281293189.py\"\u001b[1;36m, line \u001b[1;32m1\u001b[0m\n\u001b[1;33m    try = 1\u001b[0m\n\u001b[1;37m        ^\u001b[0m\n\u001b[1;31mSyntaxError\u001b[0m\u001b[1;31m:\u001b[0m invalid syntax\n"
     ]
    }
   ],
   "source": [
    "try = 1"
   ]
  },
  {
   "cell_type": "markdown",
   "metadata": {},
   "source": [
    "모든 코드는 **리터럴, 연산자, 예약어, 변수** 의 조합으로 이루어 진다\n",
    "\n",
    "https://wikidocs.net/20562<br>\n",
    "https://namyoungkim.github.io/python/2017/09/08/python_2/"
   ]
  },
  {
   "cell_type": "code",
   "execution_count": null,
   "metadata": {},
   "outputs": [],
   "source": []
  },
  {
   "cell_type": "code",
   "execution_count": null,
   "metadata": {},
   "outputs": [],
   "source": []
  },
  {
   "cell_type": "code",
   "execution_count": null,
   "metadata": {},
   "outputs": [],
   "source": []
  },
  {
   "cell_type": "code",
   "execution_count": null,
   "metadata": {},
   "outputs": [],
   "source": []
  },
  {
   "cell_type": "markdown",
   "metadata": {},
   "source": [
    "### if"
   ]
  },
  {
   "cell_type": "markdown",
   "metadata": {},
   "source": [
    "< 조건에 따라 달라지는 로직을 구성해야 할때 사용하는 예약어 >"
   ]
  },
  {
   "attachments": {
    "image.png": {
     "image/png": "[encoded data removed]"
    }
   },
   "cell_type": "markdown",
   "metadata": {},
   "source": [
    "![image.png](attachment:image.png)"
   ]
  },
  {
   "cell_type": "markdown",
   "metadata": {},
   "source": [
    "만약에 말야, 우리...<br>\n",
    "조금 어렸었다면<br>\n",
    "지금 어땠었을까?\n",
    "\n",
    "만약에 말야 (전우성 Solo) / 노을 \n",
    "\n",
    "-------------\n",
    "코딩에서는 추상적인 질문은 표현하기 어려우니, 예제가 될 수 있도록 위의 가사를 유사 코드로 바꿔봅시다<br>\n",
    "\n",
    "***만약*** &nbsp; 우리 나이가 기준나이보다 어리다면<br>\n",
    "&nbsp;&nbsp;&nbsp;&nbsp;    사랑의 정도를 나타내는 지표점수가 10점은 더 오를 거야.\n"
   ]
  },
  {
   "cell_type": "code",
   "execution_count": 14,
   "metadata": {},
   "outputs": [
    {
     "name": "stdout",
     "output_type": "stream",
     "text": [
      "기존 사랑지수:\n",
      "30\n",
      "변화 사랑지수:\n",
      "40\n"
     ]
    }
   ],
   "source": [
    "our_age = 27\n",
    "love_index = 30\n",
    "criteria_age = 30\n",
    "print(\"기존 사랑지수:\")    \n",
    "print(love_index)\n",
    "\n",
    "if our_age < criteria_age:\n",
    "    love_index = love_index + 10\n",
    "\n",
    "print(\"변화 사랑지수:\")    \n",
    "print(love_index)"
   ]
  },
  {
   "cell_type": "markdown",
   "metadata": {},
   "source": [
    "#### 조건 판별이 범위일때"
   ]
  },
  {
   "cell_type": "code",
   "execution_count": null,
   "metadata": {},
   "outputs": [],
   "source": []
  },
  {
   "cell_type": "code",
   "execution_count": null,
   "metadata": {},
   "outputs": [],
   "source": []
  },
  {
   "cell_type": "code",
   "execution_count": null,
   "metadata": {},
   "outputs": [],
   "source": []
  },
  {
   "cell_type": "markdown",
   "metadata": {},
   "source": [
    "#### 조건 판별이 범위가 아닐때"
   ]
  },
  {
   "cell_type": "markdown",
   "metadata": {},
   "source": [
    "사용자의 입력값에 따라 다르게 반응하는 구문을 작성해 보자"
   ]
  },
  {
   "cell_type": "code",
   "execution_count": 17,
   "metadata": {},
   "outputs": [
    {
     "data": {
      "text/plain": [
       "True"
      ]
     },
     "execution_count": 17,
     "metadata": {},
     "output_type": "execute_result"
    }
   ],
   "source": [
    "isinstance(\"ddd\", str)"
   ]
  },
  {
   "cell_type": "code",
   "execution_count": null,
   "metadata": {},
   "outputs": [],
   "source": []
  },
  {
   "cell_type": "code",
   "execution_count": null,
   "metadata": {},
   "outputs": [],
   "source": []
  },
  {
   "cell_type": "markdown",
   "metadata": {},
   "source": [
    "### 딕셔너리"
   ]
  },
  {
   "cell_type": "code",
   "execution_count": 72,
   "metadata": {},
   "outputs": [],
   "source": [
    "나이딕셔너리 = {\"만규나이\": 25, \"형빈나이\": 25, \"신화나이\": 28, \"길보나이\": 20, \"성민나이\": 21}"
   ]
  },
  {
   "cell_type": "code",
   "execution_count": 73,
   "metadata": {},
   "outputs": [
    {
     "data": {
      "text/plain": [
       "21"
      ]
     },
     "execution_count": 73,
     "metadata": {},
     "output_type": "execute_result"
    }
   ],
   "source": [
    "나이딕셔너리[\"성민나이\"]"
   ]
  },
  {
   "cell_type": "markdown",
   "metadata": {},
   "source": []
  },
  {
   "cell_type": "code",
   "execution_count": null,
   "metadata": {},
   "outputs": [],
   "source": []
  },
  {
   "cell_type": "markdown",
   "metadata": {},
   "source": [
    "### 함수와 파라미터"
   ]
  },
  {
   "cell_type": "markdown",
   "metadata": {},
   "source": [
    "#### 함수 개념"
   ]
  },
  {
   "cell_type": "markdown",
   "metadata": {},
   "source": [
    "#### Parameter 와 Argument의 차이"
   ]
  },
  {
   "cell_type": "markdown",
   "metadata": {},
   "source": [
    "#### 변수와 Scope"
   ]
  },
  {
   "cell_type": "markdown",
   "metadata": {},
   "source": [
    "#### 함수합성과 메소드체이닝 기법 (같은말 다른 활용)"
   ]
  },
  {
   "cell_type": "code",
   "execution_count": null,
   "metadata": {},
   "outputs": [],
   "source": []
  },
  {
   "cell_type": "code",
   "execution_count": null,
   "metadata": {},
   "outputs": [],
   "source": []
  },
  {
   "cell_type": "code",
   "execution_count": null,
   "metadata": {},
   "outputs": [],
   "source": []
  },
  {
   "cell_type": "markdown",
   "metadata": {},
   "source": [
    "### 클래스와 속성(Attribute), 그리고 메소드(method)"
   ]
  },
  {
   "cell_type": "markdown",
   "metadata": {},
   "source": []
  }
 ],
 "metadata": {
  "kernelspec": {
   "display_name": "Python 3",
   "language": "python",
   "name": "python3"
  },
  "language_info": {
   "codemirror_mode": {
    "name": "ipython",
    "version": 3
   },
   "file_extension": ".py",
   "mimetype": "text/x-python",
   "name": "python",
   "nbconvert_exporter": "python",
   "pygments_lexer": "ipython3",
   "version": "3.9.6"
  }
 },
 "nbformat": 4,
 "nbformat_minor": 2
}
