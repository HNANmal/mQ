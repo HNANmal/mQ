{
 "cells": [
  {
   "cell_type": "code",
   "execution_count": 90,
   "metadata": {},
   "outputs": [],
   "source": [
    "#################################Module For Functional Programing#############################################\n",
    "from functools import reduce\n",
    "from itertools import chain\n",
    "from itertools import groupby\n",
    "curry = lambda f: lambda a,*args: f(a, *args) if (len(args)) else lambda *args: f(a, *args)\n",
    "\n",
    "filter = curry(filter)\n",
    "map = curry(map)\n",
    "reduce = curry(reduce)\n",
    "\n",
    "go = lambda *args: reduce(lambda a,f: f(a), args) ## 함수도 축약 가능 ##\n",
    "\n",
    "def dictUpdate(dic1,dic2):\n",
    "    res = {**dic1,**dic2}\n",
    "    return res\n",
    "    \n",
    "def dictsMerge(dics):\n",
    "    res = reduce(dictUpdate, dics)\n",
    "    return res\n",
    "    \n",
    "def dictDeleteKeys(dic, keys):\n",
    "    for k in keys:\n",
    "        del dic[k]\n",
    "    return dic\n",
    "##############################################################################################################"
   ]
  },
  {
   "cell_type": "code",
   "execution_count": 91,
   "metadata": {},
   "outputs": [],
   "source": [
    "from itertools import groupby"
   ]
  },
  {
   "cell_type": "code",
   "execution_count": 176,
   "metadata": {},
   "outputs": [],
   "source": [
    "# tgt = [\n",
    "#     {\"b\":[2]},\n",
    "#     {\"a\":[0]},\n",
    "#     {\"c\":[3]},    \n",
    "#     {\"a\":[1]},\n",
    "# ]\n",
    "\n",
    "tgt = [\n",
    "    {\n",
    "        \"c\":{\n",
    "            \"wmSpecs\": [2]\n",
    "        }\n",
    "    },\n",
    "    {\n",
    "        \"a\":{\n",
    "            \"wmSpecs\": [0]\n",
    "        }\n",
    "    },\n",
    "    {\n",
    "        \"d\":{\n",
    "            \"wmSpecs\": [3]\n",
    "        }\n",
    "    },\n",
    "    {\n",
    "        \"a\":{\n",
    "            \"wmSpecs\": [1]\n",
    "        }\n",
    "    },\n",
    "]"
   ]
  },
  {
   "cell_type": "code",
   "execution_count": 183,
   "metadata": {},
   "outputs": [],
   "source": [
    "def addi(a,b):\n",
    "    return a+b"
   ]
  },
  {
   "cell_type": "code",
   "execution_count": 184,
   "metadata": {},
   "outputs": [
    {
     "data": {
      "text/plain": [
       "10"
      ]
     },
     "execution_count": 184,
     "metadata": {},
     "output_type": "execute_result"
    }
   ],
   "source": [
    "addi(b=7,a=3)"
   ]
  },
  {
   "cell_type": "code",
   "execution_count": null,
   "metadata": {},
   "outputs": [],
   "source": [
    "def dictsUnion_(dicts, searchKey, foldTargetKeys, newKeyName):\n",
    "    \"\"\"\n",
    "    키 구성이 동일한 다수 딕셔너리 중, 특정 키의 값이 동일한 것들만 골라서\n",
    "    동일한 그룹 중 첫째 딕셔너리를 기준으로 특정 키들의 값을 묶은 뒤\n",
    "    \"\"\"\n",
    "    pass"
   ]
  },
  {
   "cell_type": "code",
   "execution_count": 180,
   "metadata": {},
   "outputs": [
    {
     "data": {
      "text/plain": [
       "[{'a': {'wmSpecs': [[0], [1]]}},\n",
       " {'c': {'wmSpecs': [2]}},\n",
       " {'d': {'wmSpecs': [3]}}]"
      ]
     },
     "execution_count": 180,
     "metadata": {},
     "output_type": "execute_result"
    }
   ],
   "source": [
    "def dictsUnion_withInnerKey(dicts:list,innerkey):\n",
    "    \"\"\"\n",
    "    최상위 키값이 \"하나\"인 복수의 딕셔너리 중 , 키 값이 동일한 것이 있을 때 딕셔너리별로 해당 키에 대응하는 값들을\n",
    "    맨 처음의 딕셔너리로 값으로 재할당하고 해당 딕셔너리만 반환\n",
    "    \"\"\"\n",
    "    # 최상위 키값을 기준으로 딕셔너리들 그루핑\n",
    "    groupedDicts = go(\n",
    "        dicts,\n",
    "        lambda col: sorted(col, key=lambda x:list(x.keys())),\n",
    "        lambda col: groupby(col, lambda x: list(x.keys())),\n",
    "        map(lambda x: list(map(lambda y: list(y), x))),\n",
    "        list,\n",
    "    )\n",
    "    # 최상위 키값이 중복되는 딕셔너리를 모은 리스트\n",
    "    plurals = list(map(lambda y: y[1], filter(lambda x: len(x[1])>1, groupedDicts)))\n",
    "    # 최상위 키값이 다른 어떤 딕셔너리와 중복되지 않는 단일 개체들 모은 리스트\n",
    "    singles = list(map(lambda y: y[1][0], filter(lambda x: len(x[1])==1, groupedDicts)))\n",
    "    \n",
    "    \n",
    "    ## plurals 없는 경우 처리\n",
    "    if len(plurals)==0:\n",
    "        res = singles\n",
    "    else:\n",
    "        sameKeyGroup = plurals[0]\n",
    "        for sameKeyGroup in plurals:\n",
    "            keys = list(sameKeyGroup[0].keys())\n",
    "            newD = {keys[0]: {innerkey: []}}\n",
    "            for d in sameKeyGroup:\n",
    "                newD[keys[0]][innerkey].append(d[keys[0]][innerkey])\n",
    "        res = [newD]+singles\n",
    "    return res\n",
    "   \n",
    "   \n",
    "dictsUnion_withInnerKey(tgt,\"wmSpecs\") "
   ]
  },
  {
   "cell_type": "code",
   "execution_count": 181,
   "metadata": {},
   "outputs": [],
   "source": [
    "tgt2 = [\n",
    "    {\n",
    "        \"c\":{\n",
    "            \"wmSpecs\": [2]\n",
    "        }\n",
    "    },\n",
    "    {\n",
    "        \"a\":{\n",
    "            \"wmSpecs\": [0]\n",
    "        }\n",
    "    },\n",
    "    {\n",
    "        \"d\":{\n",
    "            \"wmSpecs\": [3]\n",
    "        }\n",
    "    },\n",
    "    {\n",
    "        \"b\":{\n",
    "            \"wmSpecs\": [1]\n",
    "        }\n",
    "    },\n",
    "]"
   ]
  },
  {
   "cell_type": "code",
   "execution_count": 182,
   "metadata": {},
   "outputs": [
    {
     "data": {
      "text/plain": [
       "[{'a': {'wmSpecs': [0]}},\n",
       " {'b': {'wmSpecs': [1]}},\n",
       " {'c': {'wmSpecs': [2]}},\n",
       " {'d': {'wmSpecs': [3]}}]"
      ]
     },
     "execution_count": 182,
     "metadata": {},
     "output_type": "execute_result"
    }
   ],
   "source": [
    "dictsUnion_withInnerKey(tgt2,\"wmSpecs\") "
   ]
  },
  {
   "cell_type": "code",
   "execution_count": null,
   "metadata": {},
   "outputs": [],
   "source": []
  }
 ],
 "metadata": {
  "kernelspec": {
   "display_name": "Python 3",
   "language": "python",
   "name": "python3"
  },
  "language_info": {
   "codemirror_mode": {
    "name": "ipython",
    "version": 3
   },
   "file_extension": ".py",
   "mimetype": "text/x-python",
   "name": "python",
   "nbconvert_exporter": "python",
   "pygments_lexer": "ipython3",
   "version": "3.9.6"
  }
 },
 "nbformat": 4,
 "nbformat_minor": 2
}
