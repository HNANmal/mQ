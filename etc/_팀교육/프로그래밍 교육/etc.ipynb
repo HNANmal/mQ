{
 "cells": [
  {
   "cell_type": "code",
   "execution_count": 1,
   "metadata": {},
   "outputs": [],
   "source": [
    "#################################Module For Functional Programing#############################################\n",
    "from functools import reduce\n",
    "from itertools import chain\n",
    "from itertools import groupby\n",
    "from copy import deepcopy\n",
    "curry = lambda f: lambda a,*args: f(a, *args) if (len(args)) else lambda *args: f(a, *args)\n",
    "\n",
    "filter = curry(filter)\n",
    "map = curry(map)\n",
    "reduce = curry(reduce)\n",
    "\n",
    "go = lambda *args: reduce(lambda a,f: f(a), args) ## 함수도 축약 가능 ##\n",
    "\n",
    "def dictUpdate(dic1,dic2):\n",
    "    res = {**dic1,**dic2}\n",
    "    return res\n",
    "    \n",
    "def dictsMerge(dics):\n",
    "    res = reduce(dictUpdate, dics)\n",
    "    return res\n",
    "    \n",
    "def dictDeleteKeys(dic, keys):\n",
    "    for k in keys:\n",
    "        del dic[k]\n",
    "    return dic\n",
    "##############################################################################################################"
   ]
  },
  {
   "cell_type": "code",
   "execution_count": 2,
   "metadata": {},
   "outputs": [],
   "source": [
    "from itertools import groupby"
   ]
  },
  {
   "cell_type": "code",
   "execution_count": 3,
   "metadata": {},
   "outputs": [],
   "source": [
    "# tgt = [\n",
    "#     {\"b\":[2]},\n",
    "#     {\"a\":[0]},\n",
    "#     {\"c\":[3]},    \n",
    "#     {\"a\":[1]},\n",
    "# ]\n",
    "\n",
    "tgt = [\n",
    "    {\n",
    "        \"c\":{\n",
    "            \"wmSpecs\": [2]\n",
    "        }\n",
    "    },\n",
    "    {\n",
    "        \"a\":{\n",
    "            \"wmSpecs\": [0]\n",
    "        }\n",
    "    },\n",
    "    {\n",
    "        \"d\":{\n",
    "            \"wmSpecs\": [3]\n",
    "        }\n",
    "    },\n",
    "    {\n",
    "        \"a\":{\n",
    "            \"wmSpecs\": [1]\n",
    "        }\n",
    "    },\n",
    "]"
   ]
  },
  {
   "cell_type": "code",
   "execution_count": 4,
   "metadata": {},
   "outputs": [],
   "source": [
    "def addi(a,b):\n",
    "    return a+b"
   ]
  },
  {
   "cell_type": "code",
   "execution_count": 5,
   "metadata": {},
   "outputs": [
    {
     "data": {
      "text/plain": [
       "10"
      ]
     },
     "execution_count": 5,
     "metadata": {},
     "output_type": "execute_result"
    }
   ],
   "source": [
    "addi(b=7,a=3)"
   ]
  },
  {
   "cell_type": "code",
   "execution_count": 6,
   "metadata": {},
   "outputs": [],
   "source": [
    "def dictsUnion_(dicts, searchKey, foldTargetKeys, newKeyName):\n",
    "    \"\"\"\n",
    "    키 구성이 동일한 다수 딕셔너리 중, 특정 키의 값이 동일한 것들만 골라서\n",
    "    동일한 그룹 중 첫째 딕셔너리를 기준으로 특정 키들의 값을 묶은 뒤\n",
    "    \"\"\"\n",
    "    pass"
   ]
  },
  {
   "cell_type": "code",
   "execution_count": 7,
   "metadata": {},
   "outputs": [
    {
     "data": {
      "text/plain": [
       "[{'a': {'wmSpecs': [[0], [1]]}},\n",
       " {'c': {'wmSpecs': [2]}},\n",
       " {'d': {'wmSpecs': [3]}}]"
      ]
     },
     "execution_count": 7,
     "metadata": {},
     "output_type": "execute_result"
    }
   ],
   "source": [
    "def dictsUnion_withInnerKey_(dicts:list,innerkey):\n",
    "    \"\"\"\n",
    "    최상위 키값이 \"하나\"인 복수의 딕셔너리 중 , 키 값이 동일한 것이 있을 때 딕셔너리별로 해당 키에 대응하는 값들을\n",
    "    맨 처음의 딕셔너리로 값으로 재할당하고 해당 딕셔너리만 반환\n",
    "    \"\"\"\n",
    "    # 최상위 키값을 기준으로 딕셔너리들 그루핑\n",
    "    groupedDicts = go(\n",
    "        dicts,\n",
    "        lambda col: sorted(col, key=lambda x:list(x.keys())),\n",
    "        lambda col: groupby(col, lambda x: list(x.keys())),\n",
    "        map(lambda x: list(map(lambda y: list(y), x))),\n",
    "        list,\n",
    "    )\n",
    "    # 최상위 키값이 중복되는 딕셔너리를 모은 리스트\n",
    "    plurals = list(map(lambda y: y[1], filter(lambda x: len(x[1])>1, groupedDicts)))\n",
    "    # 최상위 키값이 다른 어떤 딕셔너리와 중복되지 않는 단일 개체들 모은 리스트\n",
    "    singles = list(map(lambda y: y[1][0], filter(lambda x: len(x[1])==1, groupedDicts)))\n",
    "    \n",
    "    \n",
    "    ## plurals 없는 경우 처리\n",
    "    if len(plurals)==0:\n",
    "        res = singles\n",
    "    else:\n",
    "        sameKeyGroup = plurals[0]\n",
    "        for sameKeyGroup in plurals:\n",
    "            keys = list(sameKeyGroup[0].keys())\n",
    "            newD = {keys[0]: {innerkey: []}}\n",
    "            for d in sameKeyGroup:\n",
    "                newD[keys[0]][innerkey].append(d[keys[0]][innerkey])\n",
    "        res = [newD]+singles\n",
    "    return res\n",
    "   \n",
    "   \n",
    "dictsUnion_withInnerKey_(tgt,\"wmSpecs\") "
   ]
  },
  {
   "cell_type": "code",
   "execution_count": 8,
   "metadata": {},
   "outputs": [],
   "source": [
    "tgt2 = [\n",
    "    {\n",
    "        \"c\":{\n",
    "            \"wmSpecs\": [2]\n",
    "        }\n",
    "    },\n",
    "    {\n",
    "        \"a\":{\n",
    "            \"wmSpecs\": [0]\n",
    "        }\n",
    "    },\n",
    "    {\n",
    "        \"d\":{\n",
    "            \"wmSpecs\": [3]\n",
    "        }\n",
    "    },\n",
    "    {\n",
    "        \"b\":{\n",
    "            \"wmSpecs\": [1]\n",
    "        }\n",
    "    },\n",
    "]"
   ]
  },
  {
   "cell_type": "code",
   "execution_count": 9,
   "metadata": {},
   "outputs": [
    {
     "data": {
      "text/plain": [
       "[{'a': {'wmSpecs': [0]}},\n",
       " {'b': {'wmSpecs': [1]}},\n",
       " {'c': {'wmSpecs': [2]}},\n",
       " {'d': {'wmSpecs': [3]}}]"
      ]
     },
     "execution_count": 9,
     "metadata": {},
     "output_type": "execute_result"
    }
   ],
   "source": [
    "dictsUnion_withInnerKey_(tgt2,\"wmSpecs\") "
   ]
  },
  {
   "cell_type": "markdown",
   "metadata": {},
   "source": [
    "## import jsonTxt"
   ]
  },
  {
   "cell_type": "code",
   "execution_count": 91,
   "metadata": {},
   "outputs": [],
   "source": [
    "import json\n",
    "from copy import deepcopy"
   ]
  },
  {
   "cell_type": "code",
   "execution_count": 96,
   "metadata": {},
   "outputs": [
    {
     "name": "stdout",
     "output_type": "stream",
     "text": [
      "[{'H_FL_AR_S17_RC Slab_150': {'NO': '1.1.1.1.1', 'Family Category': '', 'Building Tag': '', \"Q'ty Cal Type Tag\": 'FL-Q1', 'Standard Type': 'H_FL_AR_S17_RC Slab', 'Family Type Name': 'H_FL_AR_S17_RC Slab_150', 'Work Master Code /w Description': 'A04AS173-00001 Finishing Work Exterior/Interior Finish Work Steel Trowel Finish        ', 'Quantity': '', 'Remark(물량관련)': '', 'wmSpecs': [{'Work Master Code': 'A04AS173-00001', 'GaugeCode': '', 'Unit': 'M2', 'Work Category-L1': 'Finishing Work', 'Work Category-L2': 'Exterior/Interior Finish Work', 'Work Category-L3': 'Steel Trowel Finish', 'Spec. 1- L4': 0.0, 'Spec. 2- L5': 0.0, 'Spec. 3- L6': 0.0, 'Spec. 4- L7': 0.0, 'Spec. 5- L8': 0.0, 'Spec. 6- L9': '', 'Spec. 7- L10': 0.0, 'Spec. 8- L11': '', 'BOQ Spec1': 0.0, 'BOQ Spec2': '', 'BOQ Spec3': 0.0, 'BOQ Spec4': 0.0, 'BOQ Spec5': 0.0, 'BOQ Spec6': 0.0, 'BOQ Spec7': 0.0, 'BOQ Spec8': 0.0, 'BOQ Spec9': 0.0, 'Description': '', '입찰_물량산출식': '= A', '실행_물량산출식': '= A'}]}}, {'H_FL_AR_S17_RC Slab_150': {'NO': '1.1.1.1.1', 'Family Category': '', 'Building Tag': '', \"Q'ty Cal Type Tag\": 'FL-Q1', 'Standard Type': 'H_FL_AR_S17_RC Slab', 'Family Type Name': 'H_FL_AR_S17_RC Slab_150', 'Work Master Code /w Description': 'A04AM080-00006 Finishing Work Painting Work Floor Painting Epoxy Paint       ', 'Quantity': '', 'Remark(물량관련)': '', 'wmSpecs': [{'Work Master Code': 'A04AM080-00006', 'GaugeCode': '', 'Unit': 'M2', 'Work Category-L1': 'Finishing Work', 'Work Category-L2': 'Painting Work', 'Work Category-L3': 'Floor Painting', 'Spec. 1- L4': 'Epoxy Paint', 'Spec. 2- L5': 0.0, 'Spec. 3- L6': 0.0, 'Spec. 4- L7': 0.0, 'Spec. 5- L8': 0.0, 'Spec. 6- L9': '', 'Spec. 7- L10': 0.0, 'Spec. 8- L11': '', 'BOQ Spec1': 0.0, 'BOQ Spec2': '', 'BOQ Spec3': 0.0, 'BOQ Spec4': 0.0, 'BOQ Spec5': 0.0, 'BOQ Spec6': 0.0, 'BOQ Spec7': 0.0, 'BOQ Spec8': 0.0, 'BOQ Spec9': 0.0, 'Description': '', '입찰_물량산출식': '= A', '실행_물량산출식': '= A'}]}}, {'H_FL_AR_S17_RC Slab_200': {'NO': '1.1.1.1.1', 'Family Category': '', 'Building Tag': '', \"Q'ty Cal Type Tag\": 'FL-Q1', 'Standard Type': 'H_FL_AR_S17_RC Slab', 'Family Type Name': 'H_FL_AR_S17_RC Slab_200', 'Work Master Code /w Description': 'A04AS173-00001 Finishing Work Exterior/Interior Finish Work Steel Trowel Finish        ', 'Quantity': '', 'Remark(물량관련)': '', 'wmSpecs': [{'Work Master Code': 'A04AS173-00001', 'GaugeCode': '', 'Unit': 'M2', 'Work Category-L1': 'Finishing Work', 'Work Category-L2': 'Exterior/Interior Finish Work', 'Work Category-L3': 'Steel Trowel Finish', 'Spec. 1- L4': 0.0, 'Spec. 2- L5': 0.0, 'Spec. 3- L6': 0.0, 'Spec. 4- L7': 0.0, 'Spec. 5- L8': 0.0, 'Spec. 6- L9': '', 'Spec. 7- L10': 0.0, 'Spec. 8- L11': '', 'BOQ Spec1': 0.0, 'BOQ Spec2': '', 'BOQ Spec3': 0.0, 'BOQ Spec4': 0.0, 'BOQ Spec5': 0.0, 'BOQ Spec6': 0.0, 'BOQ Spec7': 0.0, 'BOQ Spec8': 0.0, 'BOQ Spec9': 0.0, 'Description': '', '입찰_물량산출식': '= A', '실행_물량산출식': '= A'}]}}, {'H_FL_AR_S17_Roof RC Slab_T150': {'NO': '1.1.1.2.1', 'Family Category': '', 'Building Tag': 'SLCB', \"Q'ty Cal Type Tag\": 'FL-Q1', 'Standard Type': 'H_FL_AR_S17_Roof RC Slab', 'Family Type Name': 'H_FL_AR_S17_Roof RC Slab_T150', 'Work Master Code /w Description': '', 'Quantity': '', 'Remark(물량관련)': '', 'wmSpecs': []}}, {'H_FL_AR_B08_UG Pit_RC Slab T150_Bitumen_Epoxy': {'NO': '1.1.1.3.1', 'Family Category': '', 'Building Tag': 'SLCB', \"Q'ty Cal Type Tag\": 'FL-Q1A', 'Standard Type': 'H_FL_AR_B08_UG RC Slab_Pit', 'Family Type Name': 'H_FL_AR_B08_UG Pit_RC Slab T150_Bitumen_Epoxy', 'Work Master Code /w Description': '', 'Quantity': '', 'Remark(물량관련)': '', 'wmSpecs': []}}, {'H_FL_AR_B08_UG Trench_RC Slab T200_Bitumen_Epoxy': {'NO': '1.1.1.3.2', 'Family Category': '', 'Building Tag': 'SLCB', \"Q'ty Cal Type Tag\": 'FL-Q1A', 'Standard Type': 'H_FL_AR_B08_UG RC Slab_Trench', 'Family Type Name': 'H_FL_AR_B08_UG Trench_RC Slab T200_Bitumen_Epoxy', 'Work Master Code /w Description': '', 'Quantity': '', 'Remark(물량관련)': '', 'wmSpecs': []}}, {'H_FL_AR_S17_STG Top Slab_T2000': {'NO': '1.1.1.4.1', 'Family Category': '', 'Building Tag': 'SLCB', \"Q'ty Cal Type Tag\": 'FL-Q1', 'Standard Type': 'H_FL_AR_S17_STG Top Slab', 'Family Type Name': 'H_FL_AR_S17_STG Top Slab_T2000', 'Work Master Code /w Description': '', 'Quantity': '', 'Remark(물량관련)': '', 'wmSpecs': []}}, {'H_FL_AR_S17_RC Deck Slab T200': {'NO': '1.1.1.5.1', 'Family Category': '', 'Building Tag': 'SLCB', \"Q'ty Cal Type Tag\": 'FL-Q1', 'Standard Type': 'H_FL_AR_S17_RC Deck Slab', 'Family Type Name': 'H_FL_AR_S17_RC Deck Slab T200', 'Work Master Code /w Description': '', 'Quantity': '', 'Remark(물량관련)': '', 'wmSpecs': []}}, {'H_FL_AR_S17_RC Deck Slab_S Trowel_T200': {'NO': '1.1.1.5.1', 'Family Category': '', 'Building Tag': '', \"Q'ty Cal Type Tag\": 'FL-Q1', 'Standard Type': 'H_FL_AR_S17_RC Deck Slab', 'Family Type Name': 'H_FL_AR_S17_RC Deck Slab_S Trowel_T200', 'Work Master Code /w Description': 'A04AS173-00001 Finishing Work Exterior/Interior Finish Work Steel Trowel Finish        ', 'Quantity': '', 'Remark(물량관련)': '', 'wmSpecs': [{'Work Master Code': 'A04AS173-00001', 'GaugeCode': '', 'Unit': 'M2', 'Work Category-L1': 'Finishing Work', 'Work Category-L2': 'Exterior/Interior Finish Work', 'Work Category-L3': 'Steel Trowel Finish', 'Spec. 1- L4': 0.0, 'Spec. 2- L5': 0.0, 'Spec. 3- L6': 0.0, 'Spec. 4- L7': 0.0, 'Spec. 5- L8': 0.0, 'Spec. 6- L9': '', 'Spec. 7- L10': 0.0, 'Spec. 8- L11': '', 'BOQ Spec1': 0.0, 'BOQ Spec2': '', 'BOQ Spec3': 0.0, 'BOQ Spec4': 0.0, 'BOQ Spec5': 0.0, 'BOQ Spec6': 0.0, 'BOQ Spec7': 0.0, 'BOQ Spec8': 0.0, 'BOQ Spec9': 0.0, 'Description': '', '입찰_물량산출식': '= A', '실행_물량산출식': '= A'}]}}, {'H_RF_AR_S17_Roof RC Deck Slab_T200': {'NO': '1.1.1.6.1', 'Family Category': '', 'Building Tag': 'SLCB', \"Q'ty Cal Type Tag\": 'FL-Q1', 'Standard Type': 'H_RF_AR_S17_Roof RC Deck Slab', 'Family Type Name': 'H_RF_AR_S17_Roof RC Deck Slab_T200', 'Work Master Code /w Description': '', 'Quantity': '', 'Remark(물량관련)': '', 'wmSpecs': []}}, {'H_RF_AR_S17_Roof RC Deck Slab_T200_Slope': {'NO': '1.1.1.6.1', 'Family Category': '', 'Building Tag': '', \"Q'ty Cal Type Tag\": 'FL-Q1', 'Standard Type': 'H_RF_AR_S17_Roof RC Deck Slab', 'Family Type Name': 'H_RF_AR_S17_Roof RC Deck Slab_T200_Slope', 'Work Master Code /w Description': '', 'Quantity': '', 'Remark(물량관련)': '', 'wmSpecs': []}}, {'H_FL_AR_S05_Grating_T32': {'NO': '1.1.2.1.1', 'Family Category': '', 'Building Tag': '', \"Q'ty Cal Type Tag\": 'FL-Q1', 'Standard Type': 'H_FL_AR_S05_Grating', 'Family Type Name': 'H_FL_AR_S05_Grating_T32', 'Work Master Code /w Description': '', 'Quantity': '', 'Remark(물량관련)': '', 'wmSpecs': []}}, {'H_FL_AR_S06_Removable Grating_T32': {'NO': '1.1.2.2.1', 'Family Category': '', 'Building Tag': 'SLCB', \"Q'ty Cal Type Tag\": 'FL-Q1', 'Standard Type': 'H_FL_AR_S06_Removable Grating', 'Family Type Name': 'H_FL_AR_S06_Removable Grating_T32', 'Work Master Code /w Description': '', 'Quantity': '', 'Remark(물량관련)': '', 'wmSpecs': []}}, {'H_FL_AR_S07_CHK PL_T6': {'NO': '1.1.2.3.1', 'Family Category': '', 'Building Tag': 'SLCB', \"Q'ty Cal Type Tag\": 'FL-Q1', 'Standard Type': 'H_FL_AR_S07_CHK PL', 'Family Type Name': 'H_FL_AR_S07_CHK PL_T6', 'Work Master Code /w Description': '', 'Quantity': '', 'Remark(물량관련)': '', 'wmSpecs': []}}, {'H_FL_AR_B07_Ceramic Tile': {'NO': '1.1.3.1.1', 'Family Category': '', 'Building Tag': 'SLCB', \"Q'ty Cal Type Tag\": 'FL-Q1', 'Standard Type': 'H_FL_AR_B07_Ceramic Tile', 'Family Type Name': 'H_FL_AR_B07_Ceramic Tile', 'Work Master Code /w Description': '', 'Quantity': '', 'Remark(물량관련)': '', 'wmSpecs': []}}, {'H_FL_AR_B07_Ceramic Tile_L Waterproof': {'NO': '1.1.3.1.2', 'Family Category': '', 'Building Tag': 'SLCB', \"Q'ty Cal Type Tag\": 'FL-Q1', 'Standard Type': 'H_FL_AR_B07_Ceramic Tile_L Waterproof', 'Family Type Name': 'H_FL_AR_B07_Ceramic Tile_L Waterproof', 'Work Master Code /w Description': '', 'Quantity': '', 'Remark(물량관련)': '', 'wmSpecs': []}}, {'H_FL_AR_B07_Ceramic Tile_Memb': {'NO': '1.1.3.1.3', 'Family Category': '', 'Building Tag': 'SLCB', \"Q'ty Cal Type Tag\": 'FL-Q1', 'Standard Type': 'H_FL_AR_B07_Ceramic Tile_Memb', 'Family Type Name': 'H_FL_AR_B07_Ceramic Tile_Memb', 'Work Master Code /w Description': '', 'Quantity': '', 'Remark(물량관련)': '', 'wmSpecs': []}}, {'H_FL_AR_B07_Acid R Tile': {'NO': '1.1.3.1.4', 'Family Category': '', 'Building Tag': 'SLCB', \"Q'ty Cal Type Tag\": 'FL-Q1', 'Standard Type': 'H_FL_AR_B07_Acid R Tile', 'Family Type Name': 'H_FL_AR_B07_Acid R Tile', 'Work Master Code /w Description': '', 'Quantity': '', 'Remark(물량관련)': '', 'wmSpecs': []}}, {'H_FL_AR_B07_Acid R Tile_L Waterproof': {'NO': '1.1.3.1.5', 'Family Category': '', 'Building Tag': 'SLCB', \"Q'ty Cal Type Tag\": 'FL-Q1', 'Standard Type': 'H_FL_AR_B07_Acid R Tile_L Waterproof', 'Family Type Name': 'H_FL_AR_B07_Acid R Tile_L Waterproof', 'Work Master Code /w Description': '', 'Quantity': '', 'Remark(물량관련)': '', 'wmSpecs': []}}, {'H_FL_AR_B07_Vinyl Tile': {'NO': '1.1.3.1.6', 'Family Category': '', 'Building Tag': 'SLCB', \"Q'ty Cal Type Tag\": 'FL-Q1', 'Standard Type': 'H_FL_AR_B07_Vinyl Tile', 'Family Type Name': 'H_FL_AR_B07_Vinyl Tile', 'Work Master Code /w Description': '', 'Quantity': '', 'Remark(물량관련)': '', 'wmSpecs': []}}, {'H_FL_AR_B07_Vinyl Tile_Screed': {'NO': '1.1.3.1.7', 'Family Category': '', 'Building Tag': 'SLCB', \"Q'ty Cal Type Tag\": 'FL-Q1', 'Standard Type': 'H_FL_AR_B07_Vinyl Tile_Screed', 'Family Type Name': 'H_FL_AR_B07_Vinyl Tile_Screed', 'Work Master Code /w Description': '', 'Quantity': '', 'Remark(물량관련)': '', 'wmSpecs': []}}, {'H_FL_AR_B07_Anti Static Vinyl Tile': {'NO': '1.1.3.1.8', 'Family Category': '', 'Building Tag': 'SLCB', \"Q'ty Cal Type Tag\": 'FL-Q1', 'Standard Type': 'H_FL_AR_B07_Anti Static Vinyl Tile', 'Family Type Name': 'H_FL_AR_B07_Anti Static Vinyl Tile', 'Work Master Code /w Description': '', 'Quantity': '', 'Remark(물량관련)': '', 'wmSpecs': []}}, {'H_FL_AR_B07_Terrazzo Tile': {'NO': '', 'Family Category': '', 'Building Tag': '', \"Q'ty Cal Type Tag\": 'FL-Q1', 'Standard Type': 'H_FL_AR_B07_Terrazzo Tile', 'Family Type Name': 'H_FL_AR_B07_Terrazzo Tile', 'Work Master Code /w Description': '', 'Quantity': '', 'Remark(물량관련)': '', 'wmSpecs': []}}, {'H_FL_AR_B07_Granite Tile': {'NO': '1.1.3.1.9', 'Family Category': '', 'Building Tag': '', \"Q'ty Cal Type Tag\": 'FL-Q1', 'Standard Type': 'H_FL_AR_B07_Granite Tile', 'Family Type Name': 'H_FL_AR_B07_Granite Tile', 'Work Master Code /w Description': '', 'Quantity': '', 'Remark(물량관련)': '', 'wmSpecs': []}}, {'H_FL_AR_B07_Marble Tile': {'NO': '1.1.3.1.10', 'Family Category': '', 'Building Tag': '', \"Q'ty Cal Type Tag\": 'FL-Q1', 'Standard Type': 'H_FL_AR_B07_Marble Tile', 'Family Type Name': 'H_FL_AR_B07_Marble Tile', 'Work Master Code /w Description': '', 'Quantity': '', 'Remark(물량관련)': '', 'wmSpecs': []}}, {'H_FL_AR_B07_Stone Tile': {'NO': '1.1.3.1.11', 'Family Category': '', 'Building Tag': '', \"Q'ty Cal Type Tag\": 'FL-Q1', 'Standard Type': 'H_FL_AR_B07_Stone Tile', 'Family Type Name': 'H_FL_AR_B07_Stone Tile', 'Work Master Code /w Description': '', 'Quantity': '', 'Remark(물량관련)': '', 'wmSpecs': []}}, {'H_FL_AR_B07_Porcelain Tile_T9': {'NO': '1.1.3.1.12', 'Family Category': '', 'Building Tag': '', \"Q'ty Cal Type Tag\": 'FL-Q1', 'Standard Type': 'H_FL_AR_B07_Porcelain Tile', 'Family Type Name': 'H_FL_AR_B07_Porcelain Tile_T9', 'Work Master Code /w Description': '', 'Quantity': '', 'Remark(물량관련)': '', 'wmSpecs': []}}, {'H_FL_AR_B07_Carpet Tile_T9': {'NO': '1.1.3.1.13', 'Family Category': '', 'Building Tag': '', \"Q'ty Cal Type Tag\": 'FL-Q1', 'Standard Type': 'H_FL_AR_B07_Carpet Tile', 'Family Type Name': 'H_FL_AR_B07_Carpet Tile_T9', 'Work Master Code /w Description': '', 'Quantity': '', 'Remark(물량관련)': '', 'wmSpecs': []}}, {'H_FL_AR_B07_Carpet Tile': {'NO': '1.1.3.1.13', 'Family Category': '', 'Building Tag': 'SLCB', \"Q'ty Cal Type Tag\": 'FL-Q1', 'Standard Type': 'H_FL_AR_B07_Carpet Tile', 'Family Type Name': 'H_FL_AR_B07_Carpet Tile', 'Work Master Code /w Description': '', 'Quantity': '', 'Remark(물량관련)': '', 'wmSpecs': []}}, {'H_FL_AR_B07_Carpet': {'NO': '1.1.3.2.1', 'Family Category': '', 'Building Tag': 'SLCB', \"Q'ty Cal Type Tag\": 'FL-Q1', 'Standard Type': 'H_FL_AR_B07_Carpet', 'Family Type Name': 'H_FL_AR_B07_Carpet', 'Work Master Code /w Description': '', 'Quantity': '', 'Remark(물량관련)': '', 'wmSpecs': []}}, {'H_FL_AR_B07_Matwell': {'NO': '1.1.3.2.2', 'Family Category': '', 'Building Tag': 'SLCB', \"Q'ty Cal Type Tag\": 'FL-Q1', 'Standard Type': 'H_FL_AR_B07_Matwell', 'Family Type Name': 'H_FL_AR_B07_Matwell', 'Work Master Code /w Description': '', 'Quantity': '', 'Remark(물량관련)': '', 'wmSpecs': []}}, {'H_FL_AR_B07_Entrance Floor Mats and Frame': {'NO': '1.1.3.2.3', 'Family Category': '', 'Building Tag': 'SLCB', \"Q'ty Cal Type Tag\": 'FL-Q1', 'Standard Type': 'H_FL_AR_B07_Entrance Floor Mats and Frame', 'Family Type Name': 'H_FL_AR_B07_Entrance Floor Mats and Frame', 'Work Master Code /w Description': '', 'Quantity': '', 'Remark(물량관련)': '', 'wmSpecs': []}}, {'H_FL_AR_B10_Raised Floor_600x600xH1000': {'NO': '1.1.3.3.1', 'Family Category': '', 'Building Tag': 'SLCB', \"Q'ty Cal Type Tag\": 'FL-Q1', 'Standard Type': 'H_FL_AR_B10_Raised Floor_600x600', 'Family Type Name': 'H_FL_AR_B10_Raised Floor_600x600xH1000', 'Work Master Code /w Description': 'A04AS174-00002 Finishing Work Exterior/Interior Finish Work Raised Floor Top Finish: Anti-Static Vinyl Tile       600mm x 600mm / 600mm<H≤1000mm', 'Quantity': '', 'Remark(물량관련)': '', 'wmSpecs': [{'Work Master Code': 'A04AS174-00002', 'GaugeCode': '', 'Unit': 'M2', 'Work Category-L1': 'Finishing Work', 'Work Category-L2': 'Exterior/Interior Finish Work', 'Work Category-L3': 'Raised Floor', 'Spec. 1- L4': 'Top Finish: Anti-Static Vinyl Tile', 'Spec. 2- L5': 0.0, 'Spec. 3- L6': 0.0, 'Spec. 4- L7': 0.0, 'Spec. 5- L8': 0.0, 'Spec. 6- L9': '', 'Spec. 7- L10': 0.0, 'Spec. 8- L11': '600mm x 600mm / 600mm<H≤1000mm', 'BOQ Spec1': 0.0, 'BOQ Spec2': 'H=(  )mm', 'BOQ Spec3': 0.0, 'BOQ Spec4': 0.0, 'BOQ Spec5': 0.0, 'BOQ Spec6': 0.0, 'BOQ Spec7': 0.0, 'BOQ Spec8': 0.0, 'BOQ Spec9': 0.0, 'Description': '600x600x H=( 1000 )mm\\nTop Finish: Anti-Static Vinyl Tile', '입찰_물량산출식': '_by Rooms', '실행_물량산출식': '_by Rooms'}]}}, {'H_FL_AR_B07_Ground Insulation': {'NO': '1.1.3.4.1', 'Family Category': '', 'Building Tag': 'SLCB', \"Q'ty Cal Type Tag\": 'FL-Q1', 'Standard Type': 'H_FL_AR_B07_Ground Insulation', 'Family Type Name': 'H_FL_AR_B07_Ground Insulation', 'Work Master Code /w Description': '', 'Quantity': '', 'Remark(물량관련)': '', 'wmSpecs': []}}, {'H_SF_AR_S17_SOG Edge_600x300': {'NO': '1.2.1.1.1', 'Family Category': '', 'Building Tag': 'SLCB', \"Q'ty Cal Type Tag\": 'FL-Q1', 'Standard Type': 'H_FL_AR_S17_Thickened', 'Family Type Name': 'H_SF_AR_S17_SOG Edge_600x300', 'Work Master Code /w Description': '', 'Quantity': '', 'Remark(물량관련)': '', 'wmSpecs': []}}]\n"
     ]
    }
   ],
   "source": [
    "with open(\"dict_extract.json\", \"r\",encoding='UTF-8') as f:\n",
    "    jsonDB = f.read()\n",
    "    \n",
    "importedDB = json.loads(jsonDB)\n",
    "print(importedDB)"
   ]
  },
  {
   "cell_type": "code",
   "execution_count": 112,
   "metadata": {},
   "outputs": [
    {
     "name": "stdout",
     "output_type": "stream",
     "text": [
      "[{'101_MECHANICAL ROOM': {'NO': 101.0, 'Family Category': '', 'Building Tag': 'SLCB', \"Q'ty Cal Type Tag\": 'RM-Q1', 'Standard Type': 'H_F06A  /  B03  /  W01B  /  C01', 'Family Type Name': 'MECHANICAL ROOM', '추천 WorkMaster': '', 'Work Master Code /w Description': '', 'Quantity': '', 'Remark(물량관련)': '', 'wmSpecs': []}}, {'112_ELECTRICAL ROOM(SS08)': {'NO': 112.0, 'Family Category': '', 'Building Tag': 'SLCB', \"Q'ty Cal Type Tag\": 'RM-Q1', 'Standard Type': 'H_F06B  /  B03  /  W01B  /  C01', 'Family Type Name': 'ELECTRICAL ROOM(SS08)', '추천 WorkMaster': '', 'Work Master Code /w Description': '', 'Quantity': '', 'Remark(물량관련)': '', 'wmSpecs': []}}, {'128_EWH ROOM': {'NO': 128.0, 'Family Category': '', 'Building Tag': 'SLCB', \"Q'ty Cal Type Tag\": 'RM-Q1', 'Standard Type': 'H_F31A  /  B03  /  W01B  /  C95A', 'Family Type Name': 'EWH ROOM', '추천 WorkMaster': '', 'Work Master Code /w Description': '', 'Quantity': '', 'Remark(물량관련)': '', 'wmSpecs': []}}, {'121_LOCKER': {'NO': 121.0, 'Family Category': '', 'Building Tag': 'SLCB', \"Q'ty Cal Type Tag\": 'RM-Q1', 'Standard Type': 'H_F31A  /  B32  /  W32B  /  C96A', 'Family Type Name': 'LOCKER', '추천 WorkMaster': '', 'Work Master Code /w Description': '', 'Quantity': '', 'Remark(물량관련)': '', 'wmSpecs': []}}, {'127_SHOWER ROOM': {'NO': 127.0, 'Family Category': '', 'Building Tag': 'SLCB', \"Q'ty Cal Type Tag\": 'RM-Q1', 'Standard Type': 'H_F31B  /  B03  /  W32C  /  C96A', 'Family Type Name': 'SHOWER ROOM', '추천 WorkMaster': '', 'Work Master Code /w Description': '', 'Quantity': '', 'Remark(물량관련)': '', 'wmSpecs': []}}, {'109_JANITOR': {'NO': 109.0, 'Family Category': '', 'Building Tag': 'SLCB', \"Q'ty Cal Type Tag\": 'RM-Q1', 'Standard Type': 'H_F31B  /  B32  /  W32B  /  C96A', 'Family Type Name': 'JANITOR', '추천 WorkMaster': '', 'Work Master Code /w Description': '', 'Quantity': '', 'Remark(물량관련)': '', 'wmSpecs': []}}, {'114_BATTTERY ROOM': {'NO': 114.0, 'Family Category': '', 'Building Tag': 'SLCB', \"Q'ty Cal Type Tag\": 'RM-Q1', 'Standard Type': 'H_F32A  /  B35  /  W04B  /  C01', 'Family Type Name': 'BATTTERY ROOM', '추천 WorkMaster': '', 'Work Master Code /w Description': '', 'Quantity': '', 'Remark(물량관련)': '', 'wmSpecs': []}}, {'104_AIR LOCK': {'NO': 104.0, 'Family Category': '', 'Building Tag': 'SLCB', \"Q'ty Cal Type Tag\": 'RM-Q1', 'Standard Type': 'H_F34A  /  B35  /  W01B  /  C95A', 'Family Type Name': 'AIR LOCK', '추천 WorkMaster': '', 'Work Master Code /w Description': '', 'Quantity': '', 'Remark(물량관련)': '', 'wmSpecs': []}}, {'115_TELECOMS ROOM': {'NO': 115.0, 'Family Category': '', 'Building Tag': 'SLCB', \"Q'ty Cal Type Tag\": 'RM-Q1', 'Standard Type': 'H_F34A  /  B35  /  W03B  /  C01', 'Family Type Name': 'TELECOMS ROOM', '추천 WorkMaster': '', 'Work Master Code /w Description': '', 'Quantity': '', 'Remark(물량관련)': '', 'wmSpecs': []}}, {'111_PRAYER ROOM': {'NO': 111.0, 'Family Category': '', 'Building Tag': 'SLCB', \"Q'ty Cal Type Tag\": 'RM-Q1', 'Standard Type': 'H_F43  /  B35  /  W01B  /  C95A', 'Family Type Name': 'PRAYER ROOM', '추천 WorkMaster': '', 'Work Master Code /w Description': '', 'Quantity': '', 'Remark(물량관련)': '', 'wmSpecs': []}}, {'102_RACK ROOM': {'NO': 102.0, 'Family Category': '', 'Building Tag': 'SLCB', \"Q'ty Cal Type Tag\": 'RM-Q1', 'Standard Type': 'H_F91  /  B35  /  W01B  /  C95A', 'Family Type Name': 'RACK ROOM', '추천 WorkMaster': '', 'Work Master Code /w Description': '', 'Quantity': '', 'Remark(물량관련)': '', 'wmSpecs': []}}]\n"
     ]
    }
   ],
   "source": [
    "with open(\"dict_room.json\", \"r\",encoding='UTF-8') as f:\n",
    "    jsonDB = f.read()\n",
    "    \n",
    "importedRooms = json.loads(jsonDB)\n",
    "print(importedRooms)"
   ]
  },
  {
   "cell_type": "code",
   "execution_count": 119,
   "metadata": {},
   "outputs": [
    {
     "data": {
      "text/plain": [
       "[{'101_MECHANICAL ROOM': {'NO': 101.0,\n",
       "   'Family Category': '',\n",
       "   'Building Tag': 'SLCB',\n",
       "   \"Q'ty Cal Type Tag\": 'RM-Q1',\n",
       "   'Standard Type': 'H_F06A  /  B03  /  W01B  /  C01',\n",
       "   'Family Type Name': 'MECHANICAL ROOM',\n",
       "   '추천 WorkMaster': '',\n",
       "   'Work Master Code /w Description': '',\n",
       "   'Quantity': '',\n",
       "   'Remark(물량관련)': '',\n",
       "   'wmSpecs': []}},\n",
       " {'102_RACK ROOM': {'NO': 102.0,\n",
       "   'Family Category': '',\n",
       "   'Building Tag': 'SLCB',\n",
       "   \"Q'ty Cal Type Tag\": 'RM-Q1',\n",
       "   'Standard Type': 'H_F91  /  B35  /  W01B  /  C95A',\n",
       "   'Family Type Name': 'RACK ROOM',\n",
       "   '추천 WorkMaster': '',\n",
       "   'Work Master Code /w Description': '',\n",
       "   'Quantity': '',\n",
       "   'Remark(물량관련)': '',\n",
       "   'wmSpecs': []}},\n",
       " {'104_AIR LOCK': {'NO': 104.0,\n",
       "   'Family Category': '',\n",
       "   'Building Tag': 'SLCB',\n",
       "   \"Q'ty Cal Type Tag\": 'RM-Q1',\n",
       "   'Standard Type': 'H_F34A  /  B35  /  W01B  /  C95A',\n",
       "   'Family Type Name': 'AIR LOCK',\n",
       "   '추천 WorkMaster': '',\n",
       "   'Work Master Code /w Description': '',\n",
       "   'Quantity': '',\n",
       "   'Remark(물량관련)': '',\n",
       "   'wmSpecs': []}},\n",
       " {'109_JANITOR': {'NO': 109.0,\n",
       "   'Family Category': '',\n",
       "   'Building Tag': 'SLCB',\n",
       "   \"Q'ty Cal Type Tag\": 'RM-Q1',\n",
       "   'Standard Type': 'H_F31B  /  B32  /  W32B  /  C96A',\n",
       "   'Family Type Name': 'JANITOR',\n",
       "   '추천 WorkMaster': '',\n",
       "   'Work Master Code /w Description': '',\n",
       "   'Quantity': '',\n",
       "   'Remark(물량관련)': '',\n",
       "   'wmSpecs': []}},\n",
       " {'111_PRAYER ROOM': {'NO': 111.0,\n",
       "   'Family Category': '',\n",
       "   'Building Tag': 'SLCB',\n",
       "   \"Q'ty Cal Type Tag\": 'RM-Q1',\n",
       "   'Standard Type': 'H_F43  /  B35  /  W01B  /  C95A',\n",
       "   'Family Type Name': 'PRAYER ROOM',\n",
       "   '추천 WorkMaster': '',\n",
       "   'Work Master Code /w Description': '',\n",
       "   'Quantity': '',\n",
       "   'Remark(물량관련)': '',\n",
       "   'wmSpecs': []}},\n",
       " {'112_ELECTRICAL ROOM(SS08)': {'NO': 112.0,\n",
       "   'Family Category': '',\n",
       "   'Building Tag': 'SLCB',\n",
       "   \"Q'ty Cal Type Tag\": 'RM-Q1',\n",
       "   'Standard Type': 'H_F06B  /  B03  /  W01B  /  C01',\n",
       "   'Family Type Name': 'ELECTRICAL ROOM(SS08)',\n",
       "   '추천 WorkMaster': '',\n",
       "   'Work Master Code /w Description': '',\n",
       "   'Quantity': '',\n",
       "   'Remark(물량관련)': '',\n",
       "   'wmSpecs': []}},\n",
       " {'114_BATTTERY ROOM': {'NO': 114.0,\n",
       "   'Family Category': '',\n",
       "   'Building Tag': 'SLCB',\n",
       "   \"Q'ty Cal Type Tag\": 'RM-Q1',\n",
       "   'Standard Type': 'H_F32A  /  B35  /  W04B  /  C01',\n",
       "   'Family Type Name': 'BATTTERY ROOM',\n",
       "   '추천 WorkMaster': '',\n",
       "   'Work Master Code /w Description': '',\n",
       "   'Quantity': '',\n",
       "   'Remark(물량관련)': '',\n",
       "   'wmSpecs': []}},\n",
       " {'115_TELECOMS ROOM': {'NO': 115.0,\n",
       "   'Family Category': '',\n",
       "   'Building Tag': 'SLCB',\n",
       "   \"Q'ty Cal Type Tag\": 'RM-Q1',\n",
       "   'Standard Type': 'H_F34A  /  B35  /  W03B  /  C01',\n",
       "   'Family Type Name': 'TELECOMS ROOM',\n",
       "   '추천 WorkMaster': '',\n",
       "   'Work Master Code /w Description': '',\n",
       "   'Quantity': '',\n",
       "   'Remark(물량관련)': '',\n",
       "   'wmSpecs': []}},\n",
       " {'121_LOCKER': {'NO': 121.0,\n",
       "   'Family Category': '',\n",
       "   'Building Tag': 'SLCB',\n",
       "   \"Q'ty Cal Type Tag\": 'RM-Q1',\n",
       "   'Standard Type': 'H_F31A  /  B32  /  W32B  /  C96A',\n",
       "   'Family Type Name': 'LOCKER',\n",
       "   '추천 WorkMaster': '',\n",
       "   'Work Master Code /w Description': '',\n",
       "   'Quantity': '',\n",
       "   'Remark(물량관련)': '',\n",
       "   'wmSpecs': []}},\n",
       " {'127_SHOWER ROOM': {'NO': 127.0,\n",
       "   'Family Category': '',\n",
       "   'Building Tag': 'SLCB',\n",
       "   \"Q'ty Cal Type Tag\": 'RM-Q1',\n",
       "   'Standard Type': 'H_F31B  /  B03  /  W32C  /  C96A',\n",
       "   'Family Type Name': 'SHOWER ROOM',\n",
       "   '추천 WorkMaster': '',\n",
       "   'Work Master Code /w Description': '',\n",
       "   'Quantity': '',\n",
       "   'Remark(물량관련)': '',\n",
       "   'wmSpecs': []}},\n",
       " {'128_EWH ROOM': {'NO': 128.0,\n",
       "   'Family Category': '',\n",
       "   'Building Tag': 'SLCB',\n",
       "   \"Q'ty Cal Type Tag\": 'RM-Q1',\n",
       "   'Standard Type': 'H_F31A  /  B03  /  W01B  /  C95A',\n",
       "   'Family Type Name': 'EWH ROOM',\n",
       "   '추천 WorkMaster': '',\n",
       "   'Work Master Code /w Description': '',\n",
       "   'Quantity': '',\n",
       "   'Remark(물량관련)': '',\n",
       "   'wmSpecs': []}}]"
      ]
     },
     "execution_count": 119,
     "metadata": {},
     "output_type": "execute_result"
    }
   ],
   "source": [
    "def dictsUnion_withInnerKey(dicts:list,innerkey):\n",
    "    \"\"\"\n",
    "    최상위 키값이 \"하나\"이고, 그 하위에 종속된 딕셔너리의 키구성이 동일한 복수의 딕셔너리 중 , 키 값이 동일한 것이 있을 때 딕셔너리별로 해당 키에 대응하는 값들을\n",
    "    맨 처음의 딕셔너리로 값으로 재할당하고 해당 딕셔너리만 반환\n",
    "    \"\"\"\n",
    "    # 최상위 키값을 기준으로 딕셔너리들 그루핑\n",
    "    groupedDicts = go(\n",
    "        dicts,\n",
    "        lambda col: sorted(col, key=lambda x:list(x.keys())),\n",
    "        lambda col: groupby(col, lambda x: list(x.keys())),\n",
    "        map(lambda x: list(map(lambda y: list(y), x))),\n",
    "        list,\n",
    "    )\n",
    "    # 최상위 키값이 중복되는 딕셔너리를 모은 리스트\n",
    "    plurals = list(map(lambda y: y[1], filter(lambda x: len(x[1])>1, groupedDicts)))\n",
    "    # 최상위 키값이 다른 어떤 딕셔너리와 중복되지 않는 단일 개체들 모은 리스트\n",
    "    singles = list(map(lambda y: y[1][0], filter(lambda x: len(x[1])==1, groupedDicts)))\n",
    "    # 하부딕셔너리 구성키 전체\n",
    "    hdrs = list(dicts[0][list(dicts[0].keys())[0]].keys())\n",
    "    # 중복 합병의 대상이 되는 키값을 제외한 나머지 키\n",
    "    hdrs.remove(innerkey)\n",
    "    \n",
    "    # plurals 없는 경우 처리\n",
    "    if len(plurals)==0:\n",
    "        res = singles\n",
    "    else:\n",
    "        newPlurals = []\n",
    "        for sameKeyGroup in plurals:\n",
    "            ### 최상단 키\n",
    "            titleKey = list(sameKeyGroup[0].keys())[0]\n",
    "            newD = deepcopy(sameKeyGroup[0])\n",
    "            newD[titleKey][innerkey]=[]\n",
    "            for d in sameKeyGroup:\n",
    "                newD[titleKey][innerkey].append(d[titleKey][innerkey][0])\n",
    "            newPlurals.append(newD)\n",
    "        res = newPlurals + singles\n",
    "    \n",
    "    return res\n",
    "\n",
    "# dictsUnion_withInnerKey(importedDB,\"wmSpecs\")\n",
    "dictsUnion_withInnerKey(importedRooms,\"wmSpecs\")"
   ]
  },
  {
   "cell_type": "code",
   "execution_count": 120,
   "metadata": {},
   "outputs": [
    {
     "ename": "ValueError",
     "evalue": "invalid literal for int() with base 10: 'dd'",
     "output_type": "error",
     "traceback": [
      "\u001b[1;31m---------------------------------------------------------------------------\u001b[0m",
      "\u001b[1;31mValueError\u001b[0m                                Traceback (most recent call last)",
      "\u001b[1;32m~\\AppData\\Local\\Temp/ipykernel_32308/1924337245.py\u001b[0m in \u001b[0;36m<module>\u001b[1;34m\u001b[0m\n\u001b[1;32m----> 1\u001b[1;33m \u001b[0mint\u001b[0m\u001b[1;33m(\u001b[0m\u001b[1;34m\"dd\"\u001b[0m\u001b[1;33m)\u001b[0m\u001b[1;33m\u001b[0m\u001b[1;33m\u001b[0m\u001b[0m\n\u001b[0m",
      "\u001b[1;31mValueError\u001b[0m: invalid literal for int() with base 10: 'dd'"
     ]
    }
   ],
   "source": [
    "int(\"dd\")"
   ]
  },
  {
   "cell_type": "code",
   "execution_count": null,
   "metadata": {},
   "outputs": [],
   "source": []
  }
 ],
 "metadata": {
  "kernelspec": {
   "display_name": "Python 3",
   "language": "python",
   "name": "python3"
  },
  "language_info": {
   "codemirror_mode": {
    "name": "ipython",
    "version": 3
   },
   "file_extension": ".py",
   "mimetype": "text/x-python",
   "name": "python",
   "nbconvert_exporter": "python",
   "pygments_lexer": "ipython3",
   "version": "3.9.6"
  }
 },
 "nbformat": 4,
 "nbformat_minor": 2
}
