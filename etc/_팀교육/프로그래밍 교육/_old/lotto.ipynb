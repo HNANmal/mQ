{
 "cells": [
  {
   "cell_type": "code",
   "execution_count": 1,
   "metadata": {},
   "outputs": [
    {
     "name": "stdout",
     "output_type": "stream",
     "text": [
      "[24, 28, 15, 34, 19, 44]\n",
      "[12, 14, 38, 4, 41, 39]\n",
      "[11, 31, 39, 21, 15, 8]\n",
      "[4, 36, 32, 34, 12, 31]\n",
      "[35, 9, 29, 32, 27, 3]\n"
     ]
    }
   ],
   "source": [
    "import random\n",
    "\n",
    "for j in range (5):\n",
    "\tgoodLuck = []\n",
    "\tfor i in range (6):\n",
    "\t\ta = random.randint(1,45)\n",
    "\t\twhile a in goodLuck:\n",
    "\t\t\ta = random.randint(1,45)\n",
    "\t\tgoodLuck.append(a)\n",
    "\tprint (goodLuck)"
   ]
  },
  {
   "cell_type": "code",
   "execution_count": 12,
   "metadata": {},
   "outputs": [],
   "source": [
    "def doLotto(t):    \n",
    "    return list(map(lambda a: list(map(lambda x: random.randint(1,45), range(6))), range(t)))\n"
   ]
  },
  {
   "cell_type": "code",
   "execution_count": 13,
   "metadata": {},
   "outputs": [
    {
     "data": {
      "text/plain": [
       "[[32, 34, 16, 31, 41, 9],\n",
       " [11, 33, 36, 36, 23, 13],\n",
       " [30, 40, 11, 39, 45, 5],\n",
       " [28, 10, 4, 3, 29, 39],\n",
       " [28, 20, 44, 5, 38, 42]]"
      ]
     },
     "execution_count": 13,
     "metadata": {},
     "output_type": "execute_result"
    }
   ],
   "source": [
    "doLotto(5)"
   ]
  },
  {
   "cell_type": "code",
   "execution_count": 15,
   "metadata": {},
   "outputs": [
    {
     "data": {
      "text/plain": [
       "[[9, 11, 35, 11, 34, 37],\n",
       " [15, 39, 32, 33, 40, 32],\n",
       " [41, 27, 24, 23, 12, 22],\n",
       " [37, 26, 32, 43, 29, 13],\n",
       " [34, 37, 36, 21, 6, 33]]"
      ]
     },
     "execution_count": 15,
     "metadata": {},
     "output_type": "execute_result"
    }
   ],
   "source": [
    "list(map(lambda a: list(map(lambda x: random.randint(1,45), range(6))), range(5)))"
   ]
  },
  {
   "cell_type": "code",
   "execution_count": 16,
   "metadata": {},
   "outputs": [
    {
     "name": "stdout",
     "output_type": "stream",
     "text": [
      "3.084\n",
      "3.076\n",
      "3.128\n",
      "3.184\n",
      "3.06\n",
      "3.028\n",
      "3.204\n",
      "3.148\n",
      "3.224\n",
      "3.12\n",
      "3.164\n",
      "3.088\n",
      "3.016\n",
      "3.208\n",
      "3.164\n",
      "3.24\n",
      "3.196\n",
      "3.168\n",
      "3.2\n",
      "3.064\n",
      "3.168\n",
      "3.228\n",
      "3.216\n",
      "3.12\n",
      "3.12\n",
      "3.144\n",
      "3.228\n",
      "3.116\n",
      "3.18\n",
      "3.14\n",
      "3.124\n",
      "3.056\n",
      "3.2\n",
      "3.12\n",
      "3.12\n",
      "3.016\n",
      "3.124\n",
      "3.224\n",
      "3.136\n",
      "3.132\n",
      "3.244\n",
      "3.136\n",
      "3.18\n",
      "3.128\n",
      "3.188\n",
      "3.036\n",
      "3.176\n",
      "3.164\n",
      "3.112\n",
      "3.052\n",
      "3.148\n",
      "3.076\n",
      "3.08\n",
      "3.192\n",
      "3.144\n",
      "3.156\n",
      "3.168\n",
      "3.192\n",
      "3.204\n",
      "3.168\n",
      "3.132\n",
      "3.188\n",
      "3.108\n",
      "3.108\n",
      "3.084\n",
      "3.164\n",
      "3.192\n",
      "3.18\n",
      "3.14\n",
      "3.08\n",
      "3.124\n",
      "3.12\n",
      "3.176\n",
      "3.248\n",
      "3.148\n",
      "3.192\n",
      "3.104\n",
      "3.176\n",
      "3.084\n",
      "3.184\n",
      "3.22\n",
      "3.144\n",
      "3.164\n",
      "3.184\n",
      "3.168\n",
      "3.128\n",
      "3.132\n",
      "3.092\n",
      "3.1\n",
      "3.144\n",
      "3.092\n",
      "3.136\n",
      "3.092\n",
      "3.132\n",
      "3.184\n",
      "3.096\n",
      "3.06\n",
      "3.152\n",
      "3.124\n",
      "3.152\n"
     ]
    }
   ],
   "source": [
    "import random\n",
    "for j in range (100):\n",
    "    NUMBER_OF_TRIAL = 1000\n",
    "    numberOfHits=0\n",
    "    for i in range (NUMBER_OF_TRIAL):\n",
    "        x = random.random() * 2 - 1\n",
    "        y = random.random() * 2 - 1\n",
    "        if x*x + y*y <=1:\n",
    "            numberOfHits +=1\n",
    "    j=4*numberOfHits / NUMBER_OF_TRIAL\n",
    "    print (j)"
   ]
  },
  {
   "cell_type": "code",
   "execution_count": null,
   "metadata": {},
   "outputs": [],
   "source": []
  }
 ],
 "metadata": {
  "kernelspec": {
   "display_name": "Python 3",
   "language": "python",
   "name": "python3"
  },
  "language_info": {
   "codemirror_mode": {
    "name": "ipython",
    "version": 3
   },
   "file_extension": ".py",
   "mimetype": "text/x-python",
   "name": "python",
   "nbconvert_exporter": "python",
   "pygments_lexer": "ipython3",
   "version": "3.9.6"
  }
 },
 "nbformat": 4,
 "nbformat_minor": 2
}
