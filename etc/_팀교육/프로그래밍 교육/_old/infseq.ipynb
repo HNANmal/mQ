{
 "cells": [
  {
   "cell_type": "code",
   "execution_count": null,
   "metadata": {},
   "outputs": [],
   "source": [
    "lambda f: f(a,*args) if (len(args)) else lambda *args: f(a, *args)"
   ]
  },
  {
   "cell_type": "code",
   "execution_count": 14,
   "metadata": {},
   "outputs": [],
   "source": [
    "################Module For Functional Programing#########################\n",
    "from functools import reduce\n",
    "from itertools import chain\n",
    "from itertools import groupby\n",
    "from copy import deepcopy\n",
    "curry = lambda f: lambda a,*args: f(a, *args) if (len(args)) else lambda *args: f(a, *args)\n",
    "\n",
    "filter = curry(filter)\n",
    "map = curry(map)\n",
    "reduce = curry(reduce)\n",
    "\n",
    "go = lambda *args: reduce(lambda a,f: f(a), args) ## 함수도 축약 가능 ##\n",
    "\n",
    "def dictUpdate(dic1,dic2):\n",
    "    dic1.update(dic2)\n",
    "    return dic1\n",
    "    \n",
    "def dictsMerge(dics):\n",
    "    res = reduce(dictUpdate, dics)\n",
    "    return res\n",
    "    \n",
    "def dictDeleteKeys(dic, keys):\n",
    "    for k in keys:\n",
    "        del dic[k]\n",
    "    return dic\n",
    "\n",
    "def flat(a):\n",
    "    if isinstance(a, list):\n",
    "        for i in a: \n",
    "            yield from flat(i)\n",
    "    else: yield a\n",
    "#########################################################################"
   ]
  },
  {
   "cell_type": "code",
   "execution_count": 1,
   "metadata": {},
   "outputs": [
    {
     "name": "stdout",
     "output_type": "stream",
     "text": [
      "1\n",
      "2\n",
      "3\n",
      "4\n"
     ]
    }
   ],
   "source": [
    "def infseq():\n",
    "  i = 1\n",
    "  while True:\n",
    "    yield i \n",
    "    i += 1\n",
    "\n",
    "for i in infseq():\n",
    "    if i<5:\n",
    "        print(i)\n",
    "    else:\n",
    "        break"
   ]
  },
  {
   "cell_type": "code",
   "execution_count": 15,
   "metadata": {},
   "outputs": [],
   "source": [
    "sq = lambda x,y: x**2 + y**2\n",
    "sq = curry(sq)"
   ]
  },
  {
   "cell_type": "code",
   "execution_count": 17,
   "metadata": {},
   "outputs": [
    {
     "data": {
      "text/plain": [
       "74"
      ]
     },
     "execution_count": 17,
     "metadata": {},
     "output_type": "execute_result"
    }
   ],
   "source": [
    "sq(5)(7)"
   ]
  },
  {
   "cell_type": "code",
   "execution_count": 8,
   "metadata": {},
   "outputs": [],
   "source": [
    "_0 = lambda f: lambda x: x\n",
    "_1 = lambda f: lambda x: f(x)\n",
    "_2 = lambda f: lambda x: f(f(x))\n",
    "_3 = lambda f: lambda x: f(f(f(x)))"
   ]
  },
  {
   "cell_type": "code",
   "execution_count": 10,
   "metadata": {},
   "outputs": [],
   "source": [
    "succ = lambda n: lambda f: lambda x: f(n(f(x)))"
   ]
  },
  {
   "cell_type": "code",
   "execution_count": null,
   "metadata": {},
   "outputs": [],
   "source": []
  }
 ],
 "metadata": {
  "kernelspec": {
   "display_name": "Python 3",
   "language": "python",
   "name": "python3"
  },
  "language_info": {
   "codemirror_mode": {
    "name": "ipython",
    "version": 3
   },
   "file_extension": ".py",
   "mimetype": "text/x-python",
   "name": "python",
   "nbconvert_exporter": "python",
   "pygments_lexer": "ipython3",
   "version": "3.10.4"
  }
 },
 "nbformat": 4,
 "nbformat_minor": 2
}
