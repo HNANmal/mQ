{
 "cells": [
  {
   "cell_type": "code",
   "execution_count": 3,
   "metadata": {},
   "outputs": [],
   "source": [
    "Ser=    [2500,  450,      30,     800,   100]     # Ps, Vsx, Vsy, Msx, Msy\n",
    "Uls=    [3000,   30,      30,    1000,   150]     # Pu, Vux, Vuy, Mux, Muy\n",
    "Pile=   [1300,  300,     300,     0.5,     3]     # P, V, T Capacity of Pile, Diameter of Pile, Pile Spacing\n",
    "Mat=    [24,    400,       1]                     # f'c, fy, λ\n",
    "SpW=    [0,       0,       0,       0]            # Surchage, Conc, Soil, height\n",
    "w=      SpW[0]+(SpW[1]+SpW[2])/2*SpW[3]           # Average of Specific Weight\n",
    "S=      Pile[3]*Pile[4]"
   ]
  },
  {
   "cell_type": "code",
   "execution_count": 18,
   "metadata": {},
   "outputs": [
    {
     "name": "stdout",
     "output_type": "stream",
     "text": [
      "[[0.       0.       0.       0.5625   1.265625 0.5625   0.       1.8225\n",
      "  2.25     0.      ]\n",
      " [0.       0.       0.5625   0.5625   1.265625 0.5625   1.8225   1.8225\n",
      "  0.       1.8225  ]\n",
      " [0.       0.       0.5625   0.5625   0.       0.5625   1.8225   0.\n",
      "  2.25     1.8225  ]\n",
      " [0.       0.       0.       0.5625   1.265625 0.5625   0.       1.8225\n",
      "  2.25     0.      ]\n",
      " [0.       0.       0.       0.       1.265625 0.5625   1.8225   1.8225\n",
      "  0.       1.8225  ]\n",
      " [0.       0.       0.       0.       0.       0.5625   1.8225   0.\n",
      "  2.25     1.8225  ]\n",
      " [0.       0.       0.       0.       0.       0.       0.       1.8225\n",
      "  2.25     0.      ]\n",
      " [0.       0.       0.       0.       0.       0.       0.       1.8225\n",
      "  0.       1.8225  ]\n",
      " [0.       0.       0.       0.       0.       0.       0.       0.\n",
      "  2.25     1.8225  ]\n",
      " [0.       0.       0.       0.       0.       0.       0.       0.\n",
      "  0.       0.      ]] [[0.       0.5625   0.81     0.5625   1.265625 2.25     2.25     2.25\n",
      "  2.25     5.0625  ]\n",
      " [0.       0.5625   0.2025   0.5625   1.265625 2.25     0.5625   2.25\n",
      "  0.       2.25    ]\n",
      " [0.       0.       0.2025   0.5625   0.       0.       0.5625   0.5625\n",
      "  2.25     2.25    ]\n",
      " [0.       0.       0.       0.5625   1.265625 0.       0.       0.\n",
      "  0.       0.5625  ]\n",
      " [0.       0.       0.       0.       1.265625 2.25     0.5625   0.\n",
      "  0.       0.      ]\n",
      " [0.       0.       0.       0.       0.       2.25     9.       0.5625\n",
      "  0.       0.      ]\n",
      " [0.       0.       0.       0.       0.       0.       2.25     2.25\n",
      "  2.25     0.5625  ]\n",
      " [0.       0.       0.       0.       0.       0.       0.       2.25\n",
      "  2.25     2.25    ]\n",
      " [0.       0.       0.       0.       0.       0.       0.       0.\n",
      "  2.25     2.25    ]\n",
      " [0.       0.       0.       0.       0.       0.       0.       0.\n",
      "  0.       5.0625  ]]\n"
     ]
    }
   ],
   "source": [
    "import numpy as np\n",
    " \n",
    "Xi=     np.array([\n",
    "        [0, 0,    0, -S/2, -S*3/4, -S/2,       0, -S*9/10, -S,       0],\n",
    "        [0, 0, -S/2,  S/2,  S*3/4,  S/2, -S*9/10,  S*9/10,  0, -S*9/10],\n",
    "        [0, 0,  S/2, -S/2,      0, -S/2,  S*9/10,       0,  S,  S*9/10],\n",
    "        [0, 0,    0,  S/2, -S*3/4,  S/2,       0, -S*9/10, -S,       0],\n",
    "        [0, 0,    0,    0,  S*3/4, -S/2, -S*9/10,  S*9/10,  0, -S*9/10],\n",
    "        [0, 0,    0,    0,      0,  S/2,  S*9/10,       0,  S,  S*9/10],\n",
    "        [0, 0,    0,    0,      0,    0,       0, -S*9/10, -S,       0],\n",
    "        [0, 0,    0,    0,      0,    0,       0,  S*9/10,  0, -S*9/10],\n",
    "        [0, 0,    0,    0,      0,    0,       0,       0,  S,  S*9/10],\n",
    "        [0, 0,    0,    0,      0,    0,       0,       0,  0,       0],\n",
    "                 ])\n",
    " \n",
    " \n",
    "Yi=     np.array([\n",
    "        [0,  S/2,   S*3/5,  S/2,  S*3/4,  S,    S,    S,  S,  S*3/2],\n",
    "        [0, -S/2, -S*3/10,  S/2,  S*3/4,  S,  S/2,    S,  0,      S],\n",
    "        [0,    0, -S*3/10, -S/2,      0,  0,  S/2,  S/2,  S,      S],\n",
    "        [0,    0,       0, -S/2, -S*3/4,  0,    0,    0,  0,    S/2],\n",
    "        [0,    0,       0,    0, -S*3/4, -S, -S/2,    0,  0,      0],\n",
    "        [0,    0,       0,    0,      0, -S, -S*2, -S/2,  0,      0],\n",
    "        [0,    0,       0,    0,      0,  0,   -S,   -S, -S,   -S/2],\n",
    "        [0,    0,       0,    0,      0,  0,    0,   -S, -S,     -S],\n",
    "        [0,    0,       0,    0,      0,  0,    0,    0, -S,     -S],\n",
    "        [0,    0,       0,    0,      0,  0,    0,    0,  0, -S*3/2],\n",
    "                ])\n",
    " \n",
    "Lxy=    np.array([\n",
    "         [S,   S,     2*S, 2*S, S*5/2, 2*S, 28*S/10, 28*S/10, 3*S, 28*S/10],\n",
    "         [S, 2*S, 19*S/10, 2*S, 5*S/2, 3*S,     3*S,     3*S, 3*S,     4*S]\n",
    "                ])\n",
    " \n",
    "Xi2=    Xi**2\n",
    "Yi2=    Yi**2\n",
    "\n",
    "print(Xi2, Yi2)"
   ]
  },
  {
   "cell_type": "code",
   "execution_count": 26,
   "metadata": {},
   "outputs": [
    {
     "data": {
      "text/plain": [
       "[907.4074074074074, 262.962962962963, 1329.6296296296298]"
      ]
     },
     "execution_count": 26,
     "metadata": {},
     "output_type": "execute_result"
    }
   ],
   "source": [
    "Px =    [\n",
    "        (Ser[0]+(w*Lxy[0][n-1]*Lxy[1][n-1]))/n+(abs(Ser[4])*Xi[i][n-1])/Xi2.sum(axis=0)[n-1]+(abs(Ser[3])*Yi[i][n-1])/Yi2.sum(axis=0)[n-1]\n",
    "        for i in range(n)\n",
    "        ]\n",
    "\n",
    "Py =    [\n",
    "        (Ser[0]+(w*Lxy[0][n-1]*Lxy[1][n-1]))/n+(abs(Ser[3])*Xi[i][n-1])/Xi2.sum(axis=0)[n-1]+(abs(Ser[4])*Yi[i][n-1])/Yi2.sum(axis=0)[n-1]\n",
    "        for i in range(n)\n",
    "        ]\n",
    "Px\n",
    "Py"
   ]
  },
  {
   "cell_type": "code",
   "execution_count": 36,
   "metadata": {},
   "outputs": [
    {
     "data": {
      "text/plain": [
       "True"
      ]
     },
     "execution_count": 36,
     "metadata": {},
     "output_type": "execute_result"
    }
   ],
   "source": [
    "import math\n",
    "\n",
    "nlat = math.ceil(max(Ser[1],Ser[2])/Pile[1])\n",
    "nver = math.ceil(Ser[0]/Pile[0])\n",
    "n = max(nlat,nver,3)\n",
    "\n",
    "cond1 = abs(np.min(Px))>Pile[2]\n",
    "cond2 = abs(np.max(Px))>Pile[0]\n",
    "cond3 = abs(np.min(Py))>Pile[2]\n",
    "cond4 = abs(np.max(Py))>Pile[0]\n",
    "\n",
    "condition= any([cond1, cond2, cond3, cond4])\n",
    "\n",
    "# while condition:\n",
    "#         if n < 10:\n",
    "                \n",
    "#                 Px =    [\n",
    "#                         (Ser[0]+(w*Lxy[0][n-1]*Lxy[1][n-1]))/n+(abs(Ser[4])*Xi[i][n-1])/Xi2.sum(axis=0)[n-1]+(abs(Ser[3])*Yi[i][n-1])/Yi2.sum(axis=0)[n-1]\n",
    "#                         for i in range(n)\n",
    "#                         ]\n",
    "                \n",
    "\n",
    "#                 Py =    [\n",
    "#                         (Ser[0]+(w*Lxy[0][n-1]*Lxy[1][n-1]))/n+(abs(Ser[3])*Xi[i][n-1])/Xi2.sum(axis=0)[n-1]+(abs(Ser[4])*Yi[i][n-1])/Yi2.sum(axis=0)[n-1]\n",
    "#                         for i in range(n)\n",
    "#                         ]\n",
    "                \n",
    "#                 n = n+1\n",
    "        \n",
    "#         else:\n",
    "#                 print(n)\n",
    "\n",
    "condition"
   ]
  },
  {
   "cell_type": "code",
   "execution_count": 27,
   "metadata": {},
   "outputs": [
    {
     "name": "stdout",
     "output_type": "stream",
     "text": [
      "0\n",
      "1\n",
      "2\n",
      "3\n",
      "4\n",
      "5\n",
      "6\n",
      "7\n",
      "8\n",
      "9\n"
     ]
    }
   ],
   "source": [
    "for i in range(10):\n",
    "    print(i)"
   ]
  },
  {
   "cell_type": "code",
   "execution_count": 32,
   "metadata": {},
   "outputs": [
    {
     "data": {
      "text/plain": [
       "[0, 1, 4, 9, 16, 25, 36, 49, 64, 81]"
      ]
     },
     "execution_count": 32,
     "metadata": {},
     "output_type": "execute_result"
    }
   ],
   "source": [
    "[i**2 for i in range(10)]"
   ]
  },
  {
   "cell_type": "code",
   "execution_count": null,
   "metadata": {},
   "outputs": [],
   "source": []
  }
 ],
 "metadata": {
  "kernelspec": {
   "display_name": "Python 3",
   "language": "python",
   "name": "python3"
  },
  "language_info": {
   "codemirror_mode": {
    "name": "ipython",
    "version": 3
   },
   "file_extension": ".py",
   "mimetype": "text/x-python",
   "name": "python",
   "nbconvert_exporter": "python",
   "pygments_lexer": "ipython3",
   "version": "3.9.6"
  }
 },
 "nbformat": 4,
 "nbformat_minor": 2
}
