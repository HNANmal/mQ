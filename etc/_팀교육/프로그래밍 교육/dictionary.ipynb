{
 "cells": [
  {
   "cell_type": "code",
   "execution_count": 2,
   "metadata": {},
   "outputs": [],
   "source": [
    "# http://flex-link.co.kr/5\n",
    "from itertools import combinations"
   ]
  },
  {
   "cell_type": "code",
   "execution_count": 3,
   "metadata": {},
   "outputs": [],
   "source": [
    "#################################Module For Functional Programing#############################################\n",
    "from functools import reduce\n",
    "from itertools import chain\n",
    "curry = lambda f: lambda a,*args: f(a, *args) if (len(args)) else lambda *args: f(a, *args)\n",
    "\n",
    "filter = curry(filter)\n",
    "map = curry(map)\n",
    "reduce = curry(reduce)\n",
    "\n",
    "go = lambda *args: reduce(lambda a,f: f(a), args) ## 함수도 축약 가능 ##\n",
    "\n",
    "def dictUpdate(dic1,dic2):\n",
    "    res = {**dic1,**dic2}\n",
    "    return res\n",
    "    \n",
    "def dictsMerge(dics):\n",
    "    res = reduce(dictUpdate, dics)\n",
    "    return res\n",
    "    \n",
    "def dictDeleteKeys(dic, keys):\n",
    "    for k in keys:\n",
    "        del dic[k]\n",
    "    return dic\n",
    "##############################################################################################################"
   ]
  },
  {
   "cell_type": "code",
   "execution_count": 4,
   "metadata": {},
   "outputs": [
    {
     "data": {
      "text/plain": [
       "[[1.2, 0.3, -0.5, -1.2, 1.2, 0.3, -0.5, -1.2],\n",
       " [-1.1, -0.1, -1.1, -0.6, -1.1, -0.1, -1.1, -0.6],\n",
       " [-0.6, -1.0, -1.0, -1.5, 0.9, 1.5, -0.2, -1.2],\n",
       " [-1.4, 0.0, -1.7, -0.8, 1.6, 0.3, 0.8, -0.3],\n",
       " [-0.9, -1.3, -1.1, -1.5, 1.3, 1.6, 0.4, -1.1],\n",
       " [-1.9, 0.0, -2.1, -0.6, 1.8, 0.6, 1.2, -0.3],\n",
       " [-1.5, -1.6, -1.5, -1.7, 1.7, 1.8, 0.5, -1.0],\n",
       " [-2.4, -0.3, -2.3, -0.9, 2.2, 0.7, 1.3, 0.0],\n",
       " [-1.8, -1.8, -1.5, -1.8, 2.1, 2.1, 0.6, -1.0],\n",
       " [-2.5, -0.5, -2.3, -1.1, 2.6, 1.0, 1.6, 0.1],\n",
       " [-1.8, -1.8, -1.5, -1.8, 2.1, 2.2, 0.7, -0.9],\n",
       " [-2.4, -0.6, -2.2, -1.1, 2.7, 1.1, 1.9, 0.3],\n",
       " [-1.6, -1.8, -1.3, -1.8, 2.2, 2.5, 0.8, -0.9],\n",
       " [-2.3, -0.7, -1.9, -1.2, 2.6, 1.4, 2.1, 0.4]]"
      ]
     },
     "execution_count": 4,
     "metadata": {},
     "output_type": "execute_result"
    }
   ],
   "source": [
    "## pdf 에서 긁어서 복사한 문자열\n",
    "strData  = \\\n",
    "\"\"\"1.2\t0.3\t-0.5\t-1.2\t1.2\t0.3\t-0.5\t-1.2\n",
    "-1.1\t-0.1\t-1.1\t-0.6\t-1.1\t-0.1\t-1.1\t-0.6\n",
    "-0.6\t-1\t-1\t-1.5\t0.9\t1.5\t-0.2\t-1.2\n",
    "-1.4\t0\t-1.7\t-0.8\t1.6\t0.3\t0.8\t-0.3\n",
    "-0.9\t-1.3\t-1.1\t-1.5\t1.3\t1.6\t0.4\t-1.1\n",
    "-1.9\t0\t-2.1\t-0.6\t1.8\t0.6\t1.2\t-0.3\n",
    "-1.5\t-1.6\t-1.5\t-1.7\t1.7\t1.8\t0.5\t-1\n",
    "-2.4\t-0.3\t-2.3\t-0.9\t2.2\t0.7\t1.3\t0\n",
    "-1.8\t-1.8\t-1.5\t-1.8\t2.1\t2.1\t0.6\t-1\n",
    "-2.5\t-0.5\t-2.3\t-1.1\t2.6\t1\t1.6\t0.1\n",
    "-1.8\t-1.8\t-1.5\t-1.8\t2.1\t2.2\t0.7\t-0.9\n",
    "-2.4\t-0.6\t-2.2\t-1.1\t2.7\t1.1\t1.9\t0.3\n",
    "-1.6\t-1.8\t-1.3\t-1.8\t2.2\t2.5\t0.8\t-0.9\n",
    "-2.3\t-0.7\t-1.9\t-1.2\t2.6\t1.4\t2.1\t0.4\"\"\"\n",
    "\n",
    "def strToDB(strData):\n",
    "    strRows = strData.split(\"\\n\")\n",
    "    DB = []\n",
    "    for rowStr in strRows:\n",
    "        row = rowStr.split(\"\\t\")\n",
    "        rowNew = []\n",
    "        for i in row:\n",
    "            cell = float(i)\n",
    "            rowNew.append(cell)\n",
    "        DB.append(rowNew)\n",
    "    return DB\n",
    "DB = strToDB(strData)\n",
    "DB"
   ]
  },
  {
   "cell_type": "code",
   "execution_count": 5,
   "metadata": {},
   "outputs": [],
   "source": [
    "def mk_dictWithHeaders(db, hdrs): ## 테이블 딕셔너리 화 하는 함수 프로토 타입\n",
    "    h1, h2, h3, h4, h5 = hdrs\n",
    "    def doPairing(iter, step):\n",
    "        return list(map(lambda n: iter[n:n+step], filter(lambda x: x%step==0,range(len(iter)))))\n",
    "\n",
    "    def dictionarize(iter, h, step):\n",
    "        pairs = list(map(lambda n: iter[n:n+step], filter(lambda x: x%step==0,range(len(iter)))))\n",
    "        res = list(map(lambda pair: dict(list(zip(h, pair))),pairs))\n",
    "        if len(res)==1:\n",
    "            return res[0]\n",
    "        return res\n",
    "    \n",
    "    def dictionarize_2(iter, h, step):\n",
    "        pairs = list(map(lambda n: iter[n:n+step], filter(lambda x: x%step==0,range(len(iter)))))\n",
    "        res = list(map(lambda pair: dict(list(zip(h, pair))),pairs))\n",
    "        if len(res)==1:\n",
    "            return res[0]\n",
    "        return res\n",
    "\n",
    "    def dictLoop(db):\n",
    "        res = []\n",
    "        for row in db:\n",
    "            tmp1 = dictsMerge([dictionarize(row, h3,2)])\n",
    "            tmp2 = dictionarize(tmp1,h2,2)\n",
    "            tmp3 = dictionarize(tmp2,h1,2)\n",
    "            res.append(tmp3)\n",
    "        return res\n",
    "    table_ = dictLoop(db)\n",
    "    loadCaseDB = dictionarize(table_,h4,2)\n",
    "    res = dict(zip(h5,loadCaseDB))\n",
    "\n",
    "    return res\n"
   ]
  },
  {
   "cell_type": "code",
   "execution_count": 6,
   "metadata": {},
   "outputs": [],
   "source": [
    "hdrs_1 = [\"WindDir_0\", \"WindDir_180\"]\n",
    "hdrs_2 = [\"Clear_Wind_Flow\", \"Obstructed_Wind_Flow\"]\n",
    "hdrs_3 = [\"CNW\", \"CNL\",]\n",
    "hdrs_4 = [\"A\", \"B\"]\n",
    "hdrs_5 = [0, 7.5, 15, 22.5, 30, 37.5, 45]\n",
    "hdrs = [hdrs_1, hdrs_2, hdrs_3, hdrs_4, hdrs_5]"
   ]
  },
  {
   "cell_type": "code",
   "execution_count": 7,
   "metadata": {},
   "outputs": [
    {
     "data": {
      "text/plain": [
       "{0: {'A': {'WindDir_0': {'Clear_Wind_Flow': {'CNW': 1.2, 'CNL': 0.3},\n",
       "    'Obstructed_Wind_Flow': {'CNW': -0.5, 'CNL': -1.2}},\n",
       "   'WindDir_180': {'Clear_Wind_Flow': {'CNW': 1.2, 'CNL': 0.3},\n",
       "    'Obstructed_Wind_Flow': {'CNW': -0.5, 'CNL': -1.2}}},\n",
       "  'B': {'WindDir_0': {'Clear_Wind_Flow': {'CNW': -1.1, 'CNL': -0.1},\n",
       "    'Obstructed_Wind_Flow': {'CNW': -1.1, 'CNL': -0.6}},\n",
       "   'WindDir_180': {'Clear_Wind_Flow': {'CNW': -1.1, 'CNL': -0.1},\n",
       "    'Obstructed_Wind_Flow': {'CNW': -1.1, 'CNL': -0.6}}}},\n",
       " 7.5: {'A': {'WindDir_0': {'Clear_Wind_Flow': {'CNW': -0.6, 'CNL': -1.0},\n",
       "    'Obstructed_Wind_Flow': {'CNW': -1.0, 'CNL': -1.5}},\n",
       "   'WindDir_180': {'Clear_Wind_Flow': {'CNW': 0.9, 'CNL': 1.5},\n",
       "    'Obstructed_Wind_Flow': {'CNW': -0.2, 'CNL': -1.2}}},\n",
       "  'B': {'WindDir_0': {'Clear_Wind_Flow': {'CNW': -1.4, 'CNL': 0.0},\n",
       "    'Obstructed_Wind_Flow': {'CNW': -1.7, 'CNL': -0.8}},\n",
       "   'WindDir_180': {'Clear_Wind_Flow': {'CNW': 1.6, 'CNL': 0.3},\n",
       "    'Obstructed_Wind_Flow': {'CNW': 0.8, 'CNL': -0.3}}}},\n",
       " 15: {'A': {'WindDir_0': {'Clear_Wind_Flow': {'CNW': -0.9, 'CNL': -1.3},\n",
       "    'Obstructed_Wind_Flow': {'CNW': -1.1, 'CNL': -1.5}},\n",
       "   'WindDir_180': {'Clear_Wind_Flow': {'CNW': 1.3, 'CNL': 1.6},\n",
       "    'Obstructed_Wind_Flow': {'CNW': 0.4, 'CNL': -1.1}}},\n",
       "  'B': {'WindDir_0': {'Clear_Wind_Flow': {'CNW': -1.9, 'CNL': 0.0},\n",
       "    'Obstructed_Wind_Flow': {'CNW': -2.1, 'CNL': -0.6}},\n",
       "   'WindDir_180': {'Clear_Wind_Flow': {'CNW': 1.8, 'CNL': 0.6},\n",
       "    'Obstructed_Wind_Flow': {'CNW': 1.2, 'CNL': -0.3}}}},\n",
       " 22.5: {'A': {'WindDir_0': {'Clear_Wind_Flow': {'CNW': -1.5, 'CNL': -1.6},\n",
       "    'Obstructed_Wind_Flow': {'CNW': -1.5, 'CNL': -1.7}},\n",
       "   'WindDir_180': {'Clear_Wind_Flow': {'CNW': 1.7, 'CNL': 1.8},\n",
       "    'Obstructed_Wind_Flow': {'CNW': 0.5, 'CNL': -1.0}}},\n",
       "  'B': {'WindDir_0': {'Clear_Wind_Flow': {'CNW': -2.4, 'CNL': -0.3},\n",
       "    'Obstructed_Wind_Flow': {'CNW': -2.3, 'CNL': -0.9}},\n",
       "   'WindDir_180': {'Clear_Wind_Flow': {'CNW': 2.2, 'CNL': 0.7},\n",
       "    'Obstructed_Wind_Flow': {'CNW': 1.3, 'CNL': 0.0}}}},\n",
       " 30: {'A': {'WindDir_0': {'Clear_Wind_Flow': {'CNW': -1.8, 'CNL': -1.8},\n",
       "    'Obstructed_Wind_Flow': {'CNW': -1.5, 'CNL': -1.8}},\n",
       "   'WindDir_180': {'Clear_Wind_Flow': {'CNW': 2.1, 'CNL': 2.1},\n",
       "    'Obstructed_Wind_Flow': {'CNW': 0.6, 'CNL': -1.0}}},\n",
       "  'B': {'WindDir_0': {'Clear_Wind_Flow': {'CNW': -2.5, 'CNL': -0.5},\n",
       "    'Obstructed_Wind_Flow': {'CNW': -2.3, 'CNL': -1.1}},\n",
       "   'WindDir_180': {'Clear_Wind_Flow': {'CNW': 2.6, 'CNL': 1.0},\n",
       "    'Obstructed_Wind_Flow': {'CNW': 1.6, 'CNL': 0.1}}}},\n",
       " 37.5: {'A': {'WindDir_0': {'Clear_Wind_Flow': {'CNW': -1.8, 'CNL': -1.8},\n",
       "    'Obstructed_Wind_Flow': {'CNW': -1.5, 'CNL': -1.8}},\n",
       "   'WindDir_180': {'Clear_Wind_Flow': {'CNW': 2.1, 'CNL': 2.2},\n",
       "    'Obstructed_Wind_Flow': {'CNW': 0.7, 'CNL': -0.9}}},\n",
       "  'B': {'WindDir_0': {'Clear_Wind_Flow': {'CNW': -2.4, 'CNL': -0.6},\n",
       "    'Obstructed_Wind_Flow': {'CNW': -2.2, 'CNL': -1.1}},\n",
       "   'WindDir_180': {'Clear_Wind_Flow': {'CNW': 2.7, 'CNL': 1.1},\n",
       "    'Obstructed_Wind_Flow': {'CNW': 1.9, 'CNL': 0.3}}}},\n",
       " 45: {'A': {'WindDir_0': {'Clear_Wind_Flow': {'CNW': -1.6, 'CNL': -1.8},\n",
       "    'Obstructed_Wind_Flow': {'CNW': -1.3, 'CNL': -1.8}},\n",
       "   'WindDir_180': {'Clear_Wind_Flow': {'CNW': 2.2, 'CNL': 2.5},\n",
       "    'Obstructed_Wind_Flow': {'CNW': 0.8, 'CNL': -0.9}}},\n",
       "  'B': {'WindDir_0': {'Clear_Wind_Flow': {'CNW': -2.3, 'CNL': -0.7},\n",
       "    'Obstructed_Wind_Flow': {'CNW': -1.9, 'CNL': -1.2}},\n",
       "   'WindDir_180': {'Clear_Wind_Flow': {'CNW': 2.6, 'CNL': 1.4},\n",
       "    'Obstructed_Wind_Flow': {'CNW': 2.1, 'CNL': 0.4}}}}}"
      ]
     },
     "execution_count": 7,
     "metadata": {},
     "output_type": "execute_result"
    }
   ],
   "source": [
    "windTable = mk_dictWithHeaders(DB, hdrs)\n",
    "windTable\n"
   ]
  },
  {
   "cell_type": "code",
   "execution_count": 8,
   "metadata": {},
   "outputs": [
    {
     "name": "stdout",
     "output_type": "stream",
     "text": [
      "1.2\n",
      "0.0\n",
      "-1.6\n",
      "-1.8\n",
      "-2.3\n"
     ]
    }
   ],
   "source": [
    "## windTable[Roof Slope][Load Case][Wind Direction][Wind Flow][netPressure windward/leeward]\n",
    "\n",
    "print(windTable[0]['A']['WindDir_0']['Clear_Wind_Flow']['CNW'])\n",
    "print(windTable[7.5]['B']['WindDir_0']['Clear_Wind_Flow']['CNL'])\n",
    "print(windTable[22.5]['A']['WindDir_0']['Clear_Wind_Flow']['CNL'])\n",
    "print(windTable[37.5]['A']['WindDir_0']['Clear_Wind_Flow']['CNW'])\n",
    "print(windTable[45]['B']['WindDir_0']['Clear_Wind_Flow']['CNW'])"
   ]
  },
  {
   "cell_type": "code",
   "execution_count": 9,
   "metadata": {},
   "outputs": [],
   "source": [
    "a,b = [1,2,3,4,5][:3], [1,2,3,4,5][3:]"
   ]
  },
  {
   "cell_type": "code",
   "execution_count": 10,
   "metadata": {},
   "outputs": [
    {
     "data": {
      "text/plain": [
       "[[[1.2, 0.3, -0.5, -1.2, 1.2, 0.3, -0.5, -1.2],\n",
       "  [-1.1, -0.1, -1.1, -0.6, -1.1, -0.1, -1.1, -0.6]],\n",
       " [[-0.6, -1.0, -1.0, -1.5, 0.9, 1.5, -0.2, -1.2],\n",
       "  [-1.4, 0.0, -1.7, -0.8, 1.6, 0.3, 0.8, -0.3]],\n",
       " [[-0.9, -1.3, -1.1, -1.5, 1.3, 1.6, 0.4, -1.1],\n",
       "  [-1.9, 0.0, -2.1, -0.6, 1.8, 0.6, 1.2, -0.3]],\n",
       " [[-1.5, -1.6, -1.5, -1.7, 1.7, 1.8, 0.5, -1.0],\n",
       "  [-2.4, -0.3, -2.3, -0.9, 2.2, 0.7, 1.3, 0.0]],\n",
       " [[-1.8, -1.8, -1.5, -1.8, 2.1, 2.1, 0.6, -1.0],\n",
       "  [-2.5, -0.5, -2.3, -1.1, 2.6, 1.0, 1.6, 0.1]],\n",
       " [[-1.8, -1.8, -1.5, -1.8, 2.1, 2.2, 0.7, -0.9],\n",
       "  [-2.4, -0.6, -2.2, -1.1, 2.7, 1.1, 1.9, 0.3]],\n",
       " [[-1.6, -1.8, -1.3, -1.8, 2.2, 2.5, 0.8, -0.9],\n",
       "  [-2.3, -0.7, -1.9, -1.2, 2.6, 1.4, 2.1, 0.4]]]"
      ]
     },
     "execution_count": 10,
     "metadata": {},
     "output_type": "execute_result"
    }
   ],
   "source": [
    "def makeSublist(iter, step):\n",
    "    idxs = list(range(0, len(iter), step))\n",
    "    subIdxPair = []\n",
    "    for i in idxs:\n",
    "        subIdxPair.append([i, i+2])\n",
    "        \n",
    "    res = []\n",
    "    for p in subIdxPair:\n",
    "        res.append(iter[p[0]:p[1]])\n",
    "    return res\n",
    "makeSublist(DB, 2)"
   ]
  },
  {
   "cell_type": "code",
   "execution_count": 11,
   "metadata": {},
   "outputs": [],
   "source": [
    "Roof_Angle = [0, 7.5, 15, 22.5, 30, 37.5, 45]"
   ]
  },
  {
   "cell_type": "code",
   "execution_count": null,
   "metadata": {},
   "outputs": [],
   "source": []
  },
  {
   "cell_type": "code",
   "execution_count": 12,
   "metadata": {},
   "outputs": [
    {
     "data": {
      "text/plain": [
       "[0.5747196698076604,\n",
       " 0.5747196698076604,\n",
       " 0.5747196698076604,\n",
       " 0.5747196698076604,\n",
       " 0.5747196698076604,\n",
       " 0.5747196698076604]"
      ]
     },
     "execution_count": 12,
     "metadata": {},
     "output_type": "execute_result"
    }
   ],
   "source": [
    "z = [7, 9, 11, 13, 15, 17]\n",
    "zg = 365.76\n",
    "alpha = 7\n",
    "KZ =[]\n",
    "for i in z:\n",
    "    if i < 4.572:\n",
    "        Kz = 2.01*(i/zg)**(2/alpha)\n",
    "    else:\n",
    "        Kz = 2.01*(4.572/zg)**(2/alpha)\n",
    "    KZ.append(Kz)\n",
    "KZ"
   ]
  },
  {
   "cell_type": "code",
   "execution_count": null,
   "metadata": {},
   "outputs": [],
   "source": []
  },
  {
   "cell_type": "code",
   "execution_count": 13,
   "metadata": {},
   "outputs": [
    {
     "ename": "NameError",
     "evalue": "name 'e' is not defined",
     "output_type": "error",
     "traceback": [
      "\u001b[1;31m---------------------------------------------------------------------------\u001b[0m",
      "\u001b[1;31mNameError\u001b[0m                                 Traceback (most recent call last)",
      "\u001b[1;32m~\\AppData\\Local\\Temp/ipykernel_28708/3968448986.py\u001b[0m in \u001b[0;36m<module>\u001b[1;34m\u001b[0m\n\u001b[1;32m----> 1\u001b[1;33m \u001b[0me\u001b[0m\u001b[1;33m[\u001b[0m\u001b[0mRoof_Angle\u001b[0m\u001b[1;33m]\u001b[0m\u001b[1;33m[\u001b[0m\u001b[1;36m0\u001b[0m\u001b[1;33m]\u001b[0m\u001b[1;33m[\u001b[0m\u001b[0mLoad_Case\u001b[0m\u001b[1;33m]\u001b[0m\u001b[1;33m[\u001b[0m\u001b[1;34m\"B\"\u001b[0m\u001b[1;33m]\u001b[0m\u001b[1;33m[\u001b[0m\u001b[0mWind_Direction\u001b[0m\u001b[1;33m]\u001b[0m\u001b[1;33m[\u001b[0m\u001b[1;36m0\u001b[0m\u001b[1;33m]\u001b[0m\u001b[1;33m[\u001b[0m\u001b[0mWind_Flow\u001b[0m\u001b[1;33m]\u001b[0m\u001b[1;33m[\u001b[0m\u001b[1;34m\"Clear\"\u001b[0m\u001b[1;33m]\u001b[0m\u001b[1;33m[\u001b[0m\u001b[0mnet_Pressure\u001b[0m\u001b[1;33m]\u001b[0m\u001b[1;33m[\u001b[0m\u001b[1;34m\"C_NW\"\u001b[0m\u001b[1;33m]\u001b[0m\u001b[1;33m\u001b[0m\u001b[1;33m\u001b[0m\u001b[0m\n\u001b[0m",
      "\u001b[1;31mNameError\u001b[0m: name 'e' is not defined"
     ]
    }
   ],
   "source": [
    "e[Roof_Angle][0][Load_Case][\"B\"][Wind_Direction][0][Wind_Flow][\"Clear\"][net_Pressure][\"C_NW\"]"
   ]
  }
 ],
 "metadata": {
  "kernelspec": {
   "display_name": "Python 3",
   "language": "python",
   "name": "python3"
  },
  "language_info": {
   "codemirror_mode": {
    "name": "ipython",
    "version": 3
   },
   "file_extension": ".py",
   "mimetype": "text/x-python",
   "name": "python",
   "nbconvert_exporter": "python",
   "pygments_lexer": "ipython3",
   "version": "3.9.6"
  }
 },
 "nbformat": 4,
 "nbformat_minor": 2
}
