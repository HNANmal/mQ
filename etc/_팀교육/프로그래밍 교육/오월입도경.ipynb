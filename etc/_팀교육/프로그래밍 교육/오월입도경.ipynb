{
 "cells": [
  {
   "cell_type": "markdown",
   "metadata": {},
   "source": [
    "# 오행파이썬\n",
    "(五越入道經-오월입도경)"
   ]
  },
  {
   "cell_type": "markdown",
   "metadata": {},
   "source": [
    "## 금월입도경 - 숫자형(Numeric)"
   ]
  },
  {
   "cell_type": "markdown",
   "metadata": {},
   "source": [
    "## 목월입도경 - 시퀀스(Sequence Type)"
   ]
  },
  {
   "cell_type": "markdown",
   "metadata": {},
   "source": [
    "## 화월입도경 - 불리언(Boolean)"
   ]
  },
  {
   "cell_type": "markdown",
   "metadata": {},
   "source": [
    "## 수월입도경 - 집합(Set)"
   ]
  },
  {
   "cell_type": "markdown",
   "metadata": {},
   "source": [
    "- 집합은 중복된 값이 없는 유일한 값들의 모임\n",
    "- 집합은 순서가 없는 데이터 구조이므로 인덱스로 접근할 수 없음\n",
    "- 특정 값이 포함되어 있는지 확인 가능\n",
    "- 교집합, 합집합, 차집합 등의 연산 지원\n",
    "- 중괄호 {} 를 사용하여 정의"
   ]
  },
  {
   "cell_type": "markdown",
   "metadata": {},
   "source": [
    "### 1. 합집합"
   ]
  },
  {
   "cell_type": "code",
   "execution_count": 9,
   "metadata": {},
   "outputs": [
    {
     "name": "stdout",
     "output_type": "stream",
     "text": [
      "{1, 2, 3, 4, 5}\n",
      "{1, 2, 3, 4, 5}\n",
      "True\n"
     ]
    }
   ],
   "source": [
    "e1 = {1, 2, 3, 4} | {4, 5}\n",
    "e2 = {1, 2, 3, 4}.union({4, 5})\n",
    "\n",
    "print(e1)\n",
    "print(e2)\n",
    "print(e1==e2)\n"
   ]
  },
  {
   "cell_type": "markdown",
   "metadata": {},
   "source": [
    "### 2. 교집합"
   ]
  },
  {
   "cell_type": "code",
   "execution_count": 10,
   "metadata": {},
   "outputs": [
    {
     "name": "stdout",
     "output_type": "stream",
     "text": [
      "{4, 5}\n",
      "{4, 5}\n",
      "True\n"
     ]
    }
   ],
   "source": [
    "e1 = {1, 2, 3, 4, 5} & {4, 5, 6}\n",
    "e2 = {1, 2, 3, 4, 5}.intersection({4, 5, 6})\n",
    "\n",
    "print(e1)\n",
    "print(e2)\n",
    "print(e1==e2)"
   ]
  },
  {
   "cell_type": "markdown",
   "metadata": {},
   "source": [
    "## 지월입도경 - 딕셔너리(Dictionary)"
   ]
  },
  {
   "cell_type": "code",
   "execution_count": null,
   "metadata": {},
   "outputs": [],
   "source": []
  }
 ],
 "metadata": {
  "kernelspec": {
   "display_name": "Python 3",
   "language": "python",
   "name": "python3"
  },
  "language_info": {
   "codemirror_mode": {
    "name": "ipython",
    "version": 3
   },
   "file_extension": ".py",
   "mimetype": "text/x-python",
   "name": "python",
   "nbconvert_exporter": "python",
   "pygments_lexer": "ipython3",
   "version": "3.10.4"
  }
 },
 "nbformat": 4,
 "nbformat_minor": 2
}
