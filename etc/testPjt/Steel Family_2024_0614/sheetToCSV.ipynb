{
 "cells": [
  {
   "cell_type": "code",
   "execution_count": 8,
   "metadata": {},
   "outputs": [],
   "source": [
    "# !pip install xlwings\n",
    "# !pip install tkinterdnd2"
   ]
  },
  {
   "cell_type": "code",
   "execution_count": 2,
   "metadata": {},
   "outputs": [
    {
     "name": "stderr",
     "output_type": "stream",
     "text": [
      "c:\\Users\\HEC\\AppData\\Local\\Programs\\Python\\Python39\\lib\\site-packages\\numpy\\_distributor_init.py:30: UserWarning: loaded more than 1 DLL from .libs:\n",
      "c:\\Users\\HEC\\AppData\\Local\\Programs\\Python\\Python39\\lib\\site-packages\\numpy\\.libs\\libopenblas.FB5AE2TYXYH2IJRDKGDGQ3XBKLKTF43H.gfortran-win_amd64.dll\n",
      "c:\\Users\\HEC\\AppData\\Local\\Programs\\Python\\Python39\\lib\\site-packages\\numpy\\.libs\\libopenblas.NOIJJG62EMASZI6NYURL6JBKM4EVBGM7.gfortran-win_amd64.dll\n",
      "  warnings.warn(\"loaded more than 1 DLL from .libs:\"\n"
     ]
    }
   ],
   "source": [
    "import pandas as pd\n",
    "import openpyxl\n",
    "import os\n",
    "import xlwings as xw\n",
    "import csv\n",
    "import tkinter as tk\n",
    "from tkinterdnd2 import DND_FILES, TkinterDnD"
   ]
  },
  {
   "cell_type": "code",
   "execution_count": 12,
   "metadata": {},
   "outputs": [
    {
     "data": {
      "text/plain": [
       "'d:\\\\mk\\\\mQ\\\\etc\\\\testPjt\\\\Steel Family_2024_0614\\\\복사본 Master Status of Authors Supervision Card_20240206.xlsx'"
      ]
     },
     "execution_count": 12,
     "metadata": {},
     "output_type": "execute_result"
    }
   ],
   "source": [
    "path = os.getcwd()#'_원하는디렉토리경로_'\n",
    "\n",
    "def selectFile(path,fileName):\n",
    "    res = []\n",
    "\n",
    "    for root, dirs, files in os.walk(path):\n",
    "        rootpath = os.path.join(os.path.abspath(path), root)\n",
    "\n",
    "        for file in files:\n",
    "            filepath = os.path.join(rootpath, file)\n",
    "            res.append(filepath)\n",
    "    \n",
    "    final = list(filter(lambda x: fileName in x, res))[0]\n",
    "    \n",
    "    return final\n",
    "\n",
    "path\n",
    "# tgtFile = selectFile(path, \"Punch List_Status AUX 2_AUX 4\")\n",
    "tgtFile = selectFile(path, \"복사본 Master Status of Authors Supervision Card_20240206\")\n",
    "tgtFile"
   ]
  },
  {
   "cell_type": "code",
   "execution_count": 13,
   "metadata": {},
   "outputs": [
    {
     "name": "stdout",
     "output_type": "stream",
     "text": [
      "<Range [복사본 Master Status of Authors Supervision Card_20240206.xlsx]통합!$B$2:$U$6>\n",
      "<Range [복사본 Master Status of Authors Supervision Card_20240206.xlsx]토목!$B$2:$U$6>\n",
      "<Range [복사본 Master Status of Authors Supervision Card_20240206.xlsx]건축!$B$2:$W$191>\n",
      "<Range [복사본 Master Status of Authors Supervision Card_20240206.xlsx]전기!$B$2:$U$6>\n",
      "<Range [복사본 Master Status of Authors Supervision Card_20240206.xlsx]항만!$B$2:$U$6>\n"
     ]
    },
    {
     "data": {
      "text/plain": [
       "'d:\\\\mk\\\\mQ\\\\etc\\\\testPjt\\\\Steel Family_2024_0614\\\\복사본 Master Status of Authors Supervision Card_20240206.xlsx'"
      ]
     },
     "execution_count": 13,
     "metadata": {},
     "output_type": "execute_result"
    }
   ],
   "source": [
    "# app = xw.App(visible=False)\n",
    "# workbook = xw.Book(tgtFile)\n",
    "# all_sheets = workbook.sheets\n",
    "\n",
    "# test_sheet = all_sheets[0]\n",
    "\n",
    "    \n",
    "# def saveSheetAsCSV(tgtSheet, subPath):\n",
    "#     if \"column\" in subPath.lower():\n",
    "#         memberKind = \"Column\"\n",
    "#     elif \"Framing\" in subPath.lower():\n",
    "#         memberKind = \"Framing\"\n",
    "    \n",
    "#     # subPath = os.path.splitext(fileName)[0]\n",
    "    \n",
    "#     sheetName = tgtSheet.name\n",
    "#     sheetName_shape = sheetName.split(\" \")[-1] \n",
    "#     sheetName_code = sheetName.split(\" \")[0]\n",
    "#     csv_fileName = f\"Steel {memberKind}_{sheetName_shape}_{sheetName_code}\"\n",
    "#     usedRng = tgtSheet.used_range\n",
    "#     datas = usedRng.value\n",
    "    \n",
    "#     with open(f\"{subPath}\\\\{csv_fileName}.txt\", \"w\") as file:\n",
    "#         writer = csv.writer(file)\n",
    "#         writer.writerows(datas)\n",
    "        \n",
    "#     return subPath\n",
    "\n",
    "\n",
    "def saveAllSheetAsCSV(tgtFile):\n",
    "    def saveSheetAsCSV(tgtSheet, subPath):\n",
    "        if \"column\" in subPath.lower():\n",
    "            memberKind = \"Column\"\n",
    "        elif \"Framing\" in subPath.lower():\n",
    "            memberKind = \"Framing\"\n",
    "        else:\n",
    "            memberKind = \"\"\n",
    "        \n",
    "        # subPath = os.path.splitext(fileName)[0]\n",
    "        \n",
    "        sheetName = tgtSheet.name\n",
    "        sheetName_shape = sheetName.split(\" \")[-1] \n",
    "        sheetName_code = sheetName.split(\" \")[0]\n",
    "        csv_fileName = f\"Steel {memberKind}_{sheetName_shape}_{sheetName_code}\"\n",
    "        usedRng = tgtSheet.used_range\n",
    "        datas = usedRng.value\n",
    "        print(usedRng)\n",
    "        \n",
    "        with open(f\"{subPath}\\\\{csv_fileName}.txt\", \"w\", encoding=\"UTF8\") as file:\n",
    "            writer = csv.writer(file)\n",
    "            writer.writerows(datas)\n",
    "            \n",
    "        return subPath\n",
    "    \n",
    "    app = xw.App(visible=False)\n",
    "    workbook = xw.Book(tgtFile)\n",
    "    fileName = workbook.name\n",
    "    subPath = os.path.splitext(tgtFile)[0]\n",
    "    \n",
    "    if not os.path.exists(subPath):\n",
    "        os.makedirs(subPath)\n",
    "        \n",
    "    all_sheets = workbook.sheets\n",
    "    \n",
    "    res = []\n",
    "    for tgtSheet in all_sheets:\n",
    "        res.append( saveSheetAsCSV(tgtSheet, subPath) )\n",
    "    \n",
    "    \n",
    "    \n",
    "    app.kill()\n",
    "    return res\n",
    "    \n",
    "\n",
    "saveAllSheetAsCSV(tgtFile)\n",
    "tgtFile"
   ]
  },
  {
   "cell_type": "code",
   "execution_count": 16,
   "metadata": {},
   "outputs": [],
   "source": [
    "def drop_inside_list_box(event):\n",
    "    listb.insert(\"end\", event.data)\n",
    " \n",
    "def drop_inside_textbox(event):\n",
    "    tbox.delete(\"1.0\",\"end\")\n",
    "    if event.data.endswith(\".txt\"):\n",
    "        with open(event.data, \"r\", encoding=\"UTF-8\") as file:\n",
    "            for line in file:\n",
    "                line = line.strip()\n",
    "                tbox.insert(\"end\", f\"{line}\\n\")\n",
    " \n",
    "root = TkinterDnD.Tk()\n",
    "root.geometry(\"500x500\")\n",
    " \n",
    "listb = tk.Listbox(root, selectmode=tk.SINGLE, background=\"#ffe0d6\")\n",
    "listb.pack(fill=tk.X)\n",
    "listb.drop_target_register(DND_FILES)\n",
    "listb.dnd_bind(\"<<Drop>>\", drop_inside_list_box)\n",
    " \n",
    "tbox = tk.Text(root)\n",
    "tbox.pack()\n",
    "tbox.drop_target_register(DND_FILES)\n",
    "tbox.dnd_bind(\"<<Drop>>\", drop_inside_textbox)\n",
    " \n",
    "root.mainloop()"
   ]
  },
  {
   "cell_type": "code",
   "execution_count": 17,
   "metadata": {},
   "outputs": [
    {
     "name": "stderr",
     "output_type": "stream",
     "text": [
      "Exception in Tkinter callback\n",
      "Traceback (most recent call last):\n",
      "  File \"c:\\Users\\HEC\\AppData\\Local\\Programs\\Python\\Python39\\lib\\tkinter\\__init__.py\", line 1892, in __call__\n",
      "    return self.func(*args)\n",
      "  File \"C:\\Users\\HEC\\AppData\\Local\\Temp/ipykernel_3732/135280028.py\", line 10, in DropImage\n",
      "    image_path = Image.open(str(window.file_name))\n",
      "  File \"c:\\Users\\HEC\\AppData\\Local\\Programs\\Python\\Python39\\lib\\site-packages\\PIL\\Image.py\", line 3247, in open\n",
      "    fp = builtins.open(filename, \"rb\")\n",
      "OSError: [Errno 22] Invalid argument: '{D:/mk/mQ/etc/테스트\\\\Steel Family_2024_0614/Steel Column_SHS_JIS.txt}'\n",
      "Exception in Tkinter callback\n",
      "Traceback (most recent call last):\n",
      "  File \"c:\\Users\\HEC\\AppData\\Local\\Programs\\Python\\Python39\\lib\\tkinter\\__init__.py\", line 1892, in __call__\n",
      "    return self.func(*args)\n",
      "  File \"C:\\Users\\HEC\\AppData\\Local\\Temp/ipykernel_3732/135280028.py\", line 10, in DropImage\n",
      "    image_path = Image.open(str(window.file_name))\n",
      "  File \"c:\\Users\\HEC\\AppData\\Local\\Programs\\Python\\Python39\\lib\\site-packages\\PIL\\Image.py\", line 3247, in open\n",
      "    fp = builtins.open(filename, \"rb\")\n",
      "OSError: [Errno 22] Invalid argument: '{D:/mk/mQ/etc/테스트\\\\Steel Family_2024_0614/Framing}'\n"
     ]
    }
   ],
   "source": [
    "from tkinter import *\n",
    "from tkinterdnd2 import *\n",
    "from PIL import ImageTk,Image\n",
    " \n",
    "def DropImage(event):\n",
    "    testvariable.set(event.data)\n",
    "    # get the value from string variable\n",
    "    window.file_name=testvariable.get()\n",
    "    # takes path using dragged file\n",
    "    image_path = Image.open(str(window.file_name))\n",
    "    # resize image\n",
    "    reside_image = image_path.resize((300, 205), Image.ANTIALIAS)\n",
    "    # displays an image\n",
    "    window.image = ImageTk.PhotoImage(reside_image)\n",
    "    image_label = Label(labelframe, image=window.image).pack()\n",
    " \n",
    "window = TkinterDnD.Tk()\n",
    "window.title('Delftstack')\n",
    "window.geometry('400x300')\n",
    "window.config(bg='gold')\n",
    " \n",
    "testvariable = StringVar()\n",
    "textlabel=Label(window, text='drop the file here', bg='#fcba03')\n",
    "textlabel.pack(anchor=NW, padx=10)\n",
    "entrybox = Entry(window, textvar=testvariable, width=80)\n",
    "entrybox.pack(fill=X, padx=10)\n",
    "entrybox.drop_target_register(DND_FILES)\n",
    "entrybox.dnd_bind('<<Drop>>', DropImage)\n",
    " \n",
    "labelframe = LabelFrame(window, bg='gold')\n",
    " \n",
    "labelframe.pack(fill=BOTH, expand=True, padx=9, pady=9)\n",
    " \n",
    "window.mainloop()"
   ]
  },
  {
   "cell_type": "code",
   "execution_count": 18,
   "metadata": {},
   "outputs": [
    {
     "name": "stdout",
     "output_type": "stream",
     "text": [
      "D:/mk/mQ/etc/테스트/Steel Family_2024_0614/Steel Column_SHS_JIS.txt\n",
      "D:/mk/mQ/etc/테스트/Steel Family_2024_0614/Steel Column_SHS_KS.txt\n",
      "D:/mk/mQ/etc/테스트/Steel Family_2024_0614/Steel Column_SHS_JIS.txt\n",
      "D:/mk/mQ/etc/테스트/Steel Family_2024_0614/Steel Column_SHS_JIS.txt\n",
      "D:/mk/mQ/etc/테스트/Steel Family_2024_0614/Steel Column_SHS_KS.txt\n",
      "D:/mk/mQ/etc/테스트/Steel Family_2024_0614/Steel Column_UPN_EU.txt\n",
      "D:/mk/mQ/etc/테스트/Steel Family_2024_0614/Steel Column_SHS_JIS.txt\n"
     ]
    }
   ],
   "source": [
    "from PyQt5.QtWidgets import QApplication, QWidget, QLabel, QVBoxLayout\n",
    "from PyQt5.QtGui import QIcon\n",
    "\n",
    "route_first = \"경로 : \"\n",
    "\n",
    "class MyApp(QWidget):\n",
    "\n",
    "    def __init__(self):\n",
    "      super().__init__()\n",
    "      self.initUI()\n",
    "\n",
    "    def initUI(self):\n",
    "        self.setWindowTitle('CheckFileRoute')\n",
    "        self.setWindowIcon(QIcon('resources/faviconV2.png'))\n",
    "        self.setGeometry(500, 300, 500, 300)\n",
    "        #드래그 드롭을 활성화하려면 True로 변경할 것!\n",
    "        self.setAcceptDrops(True)\n",
    "\n",
    "        #레이아웃 설정\n",
    "        layout = QVBoxLayout()\n",
    "        \n",
    "        #라벨 생성 및 레이아웃 추가\n",
    "        self.label = QLabel(route_first,self)\n",
    "        layout.addWidget(self.label)\n",
    "        self.setLayout(layout)\n",
    "\n",
    "        self.show()\n",
    "\n",
    "    def dragEnterEvent(self, event):\n",
    "        if event.mimeData().hasUrls():\n",
    "            event.accept()\n",
    "        else:\n",
    "            event.ignore()\n",
    "\n",
    "    def dropEvent(self, event):\n",
    "        labelword = \"\"\n",
    "        files = [u.toLocalFile() for u in event.mimeData().urls()]\n",
    "        for f in files:\n",
    "            print(f)\n",
    "            labelword += route_first + f +\"\\n\"\n",
    "\n",
    "        self.label.setText(labelword)\n",
    "\n",
    "\n",
    "if __name__ == '__main__':\n",
    "  app = QApplication([])\n",
    "  myapp = MyApp()\n",
    "  app.exec_()"
   ]
  }
 ],
 "metadata": {
  "kernelspec": {
   "display_name": "Python 3",
   "language": "python",
   "name": "python3"
  },
  "language_info": {
   "codemirror_mode": {
    "name": "ipython",
    "version": 3
   },
   "file_extension": ".py",
   "mimetype": "text/x-python",
   "name": "python",
   "nbconvert_exporter": "python",
   "pygments_lexer": "ipython3",
   "version": "3.9.6"
  }
 },
 "nbformat": 4,
 "nbformat_minor": 2
}
