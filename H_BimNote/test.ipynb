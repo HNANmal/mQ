{
 "cells": [
  {
   "cell_type": "code",
   "execution_count": 8,
   "metadata": {},
   "outputs": [],
   "source": [
    "sheet_data = [['Earth Work', ''], ['', 'EARTH', ''], ['', '', 'Excavation'], ['', '', 'Backfilling'], ['', '', 'Disposal'], ['', 'BASE', ''], ['', '', 'Base'], ['', '', 'Sub Base'], ['Concrete Work', '', ''], ['', 'RC-AG', ''], ['', '', 'Concrete'], ['', '', 'Form1'], ['', '', 'Rebar'], ['', 'RC-AGD', ''], ['', '', 'Concrete'], ['', '', 'Form1'], ['', '', 'Form2'], ['', '', 'Rebar'], ['', 'RC-UG', ''], ['', '', 'Concrete'], ['', '', 'Form1'], ['', '', 'Rebar'], ['', '', 'Lean'], ['', 'RC-MS', ''], ['', '', 'Concrete'], ['', '', 'Form1'], ['', '', 'Rebar'], ['', '', 'Lean'], ['', 'RC-EF', ''], ['', '', 'Concrete'], ['', '', 'Form1'], ['', '', 'Rebar'], ['', '', 'Lean'], ['UG Protection', '', ''], ['', 'UG-PT', ''], ['', '', 'Coating'], ['', '', 'Memebrane'], ['', '', 'Protection Board'], ['Steel Work', '', ''], ['', 'ST-EH', ''], ['', '', 'Steel Fabr.'], ['', '', 'Steel Erec.'], ['', '', 'Plates'], ['', '', 'Bolt'], ['', 'ST-HV', ''], ['', '', 'Steel Fabr.'], ['', '', 'Steel Erec.'], ['', '', 'Plates'], ['', '', 'Bolt'], ['', 'ST-MD', ''], ['', '', 'Steel Fabr.'], ['', '', 'Steel Erec.'], ['', '', 'Plates'], ['', '', 'Bolt'], ['', 'ST-LG', ''], ['', '', 'Steel Fabr.'], ['', '', 'Steel Erec.'], ['', '', 'Plates'], ['', '', 'Bolt'], ['', 'ST-EL', ''], ['', '', 'Steel Fabr.'], ['', '', 'Steel Erec.'], ['', '', 'Plates'], ['', '', 'Bolt'], ['', 'ST-B-EH', ''], ['', '', 'Steel Fabr.'], ['', '', 'Steel Erec.'], ['', '', 'Plates'], ['', '', 'Bolt'], ['', 'ST-B-HV', ''], ['', '', 'Steel Fabr.'], ['', '', 'Steel Erec.'], ['', '', 'Plates'], ['', '', 'Bolt'], ['', 'ST-PG', ''], ['', '', 'Steel Fabr.'], ['', '', 'Steel Erec.'], ['', '', 'Plates'], ['', '', 'Bolt'], ['Exterior Wall', '', ''], ['', 'EW-DI', ''], ['', '', 'Dry Wall (InSide)'], ['', '', 'Insulation'], ['', 'EW-DIM', ''], ['', '', 'Dry Wall (InSide)'], ['', '', 'Insulation'], ['', '', 'Masonry (OutSide)'], ['', 'EW-MIM', ''], ['', '', 'Dry Wall (InSide)'], ['', '', 'Insulation'], ['', '', 'Masonry (OutSide)'], ['', 'EW-MI', ''], ['', '', 'Dry Wall (InSide)'], ['', '', 'Insulation'], ['Interior Wall', '', ''], ['', 'IW-DIM', ''], ['', '', 'Dry Wall (One Side)'], ['', '', 'Insulation'], ['', '', 'Masonry (One Side)'], ['Concrete Roof Finish', '', ''], ['', 'ROOF', ''], ['', '', 'Slop'], ['', '', 'Waterproofing'], ['', '', 'Insulation'], ['', '', 'Vapor Barrier'], ['', '', 'Protection'], ['', '', 'Finish'], ['', '', '']]"
   ]
  },
  {
   "cell_type": "code",
   "execution_count": 11,
   "metadata": {},
   "outputs": [],
   "source": [
    "def convert_sheet_data_to_dict(sheet_data):\n",
    "    sheet_data_dict = {}\n",
    "    current_parent = None\n",
    "    current_sub_parent = None\n",
    "\n",
    "    for row in sheet_data:\n",
    "        if row[0]:  # Top-level parent\n",
    "            current_parent = row[0]\n",
    "            sheet_data_dict[current_parent] = {}\n",
    "        elif row[1]:  # Sub-level parent\n",
    "            current_sub_parent = row[1]\n",
    "            sheet_data_dict[current_parent][current_sub_parent] = []\n",
    "        elif row[2]:  # Children\n",
    "            sheet_data_dict[current_parent][current_sub_parent].append(row[2])\n",
    "\n",
    "    return sheet_data_dict"
   ]
  },
  {
   "cell_type": "code",
   "execution_count": 12,
   "metadata": {},
   "outputs": [
    {
     "data": {
      "text/plain": [
       "{'Earth Work': {'EARTH': ['Excavation', 'Backfilling', 'Disposal'],\n",
       "  'BASE': ['Base', 'Sub Base']},\n",
       " 'Concrete Work': {'RC-AG': ['Concrete', 'Form1', 'Rebar'],\n",
       "  'RC-AGD': ['Concrete', 'Form1', 'Form2', 'Rebar'],\n",
       "  'RC-UG': ['Concrete', 'Form1', 'Rebar', 'Lean'],\n",
       "  'RC-MS': ['Concrete', 'Form1', 'Rebar', 'Lean'],\n",
       "  'RC-EF': ['Concrete', 'Form1', 'Rebar', 'Lean']},\n",
       " 'UG Protection': {'UG-PT': ['Coating', 'Memebrane', 'Protection Board']},\n",
       " 'Steel Work': {'ST-EH': ['Steel Fabr.', 'Steel Erec.', 'Plates', 'Bolt'],\n",
       "  'ST-HV': ['Steel Fabr.', 'Steel Erec.', 'Plates', 'Bolt'],\n",
       "  'ST-MD': ['Steel Fabr.', 'Steel Erec.', 'Plates', 'Bolt'],\n",
       "  'ST-LG': ['Steel Fabr.', 'Steel Erec.', 'Plates', 'Bolt'],\n",
       "  'ST-EL': ['Steel Fabr.', 'Steel Erec.', 'Plates', 'Bolt'],\n",
       "  'ST-B-EH': ['Steel Fabr.', 'Steel Erec.', 'Plates', 'Bolt'],\n",
       "  'ST-B-HV': ['Steel Fabr.', 'Steel Erec.', 'Plates', 'Bolt'],\n",
       "  'ST-PG': ['Steel Fabr.', 'Steel Erec.', 'Plates', 'Bolt']},\n",
       " 'Exterior Wall': {'EW-DI': ['Dry Wall (InSide)', 'Insulation'],\n",
       "  'EW-DIM': ['Dry Wall (InSide)', 'Insulation', 'Masonry (OutSide)'],\n",
       "  'EW-MIM': ['Dry Wall (InSide)', 'Insulation', 'Masonry (OutSide)'],\n",
       "  'EW-MI': ['Dry Wall (InSide)', 'Insulation']},\n",
       " 'Interior Wall': {'IW-DIM': ['Dry Wall (One Side)',\n",
       "   'Insulation',\n",
       "   'Masonry (One Side)']},\n",
       " 'Concrete Roof Finish': {'ROOF': ['Slop',\n",
       "   'Waterproofing',\n",
       "   'Insulation',\n",
       "   'Vapor Barrier',\n",
       "   'Protection',\n",
       "   'Finish']}}"
      ]
     },
     "execution_count": 12,
     "metadata": {},
     "output_type": "execute_result"
    }
   ],
   "source": [
    "convert_sheet_data_to_dict(sheet_data)"
   ]
  },
  {
   "cell_type": "code",
   "execution_count": null,
   "metadata": {},
   "outputs": [],
   "source": []
  }
 ],
 "metadata": {
  "kernelspec": {
   "display_name": "Python 3",
   "language": "python",
   "name": "python3"
  },
  "language_info": {
   "codemirror_mode": {
    "name": "ipython",
    "version": 3
   },
   "file_extension": ".py",
   "mimetype": "text/x-python",
   "name": "python",
   "nbconvert_exporter": "python",
   "pygments_lexer": "ipython3",
   "version": "3.9.6"
  }
 },
 "nbformat": 4,
 "nbformat_minor": 2
}
