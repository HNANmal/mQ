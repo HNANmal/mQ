{
 "cells": [
  {
   "cell_type": "code",
   "execution_count": 1,
   "metadata": {},
   "outputs": [],
   "source": [
    "test_dict = {\n",
    "        \"Earth Work\": {\n",
    "            \"EARTH\": {\n",
    "                \"Excavation_A\": [\n",
    "                    \"A01ZZ001-00010 | AR | A01 | Earth Work | ZZ | - | 001 | Excavation | 01 | Soil, Manual | 07 | Manual Excavation Above GWL | M3 | M3 | A01ZZ001 | A01ZZ001-00010\",\n",
    "                    \"A01ZZ001-00011 | AR | A01 | Earth Work | ZZ | - | 001 | Excavation | 01 | Soil, Manual | 08 | Manual Excavation Below GWL | M3 | M3 | A01ZZ001 | A01ZZ001-00011\",\n",
    "                    \"A01ZZ001-00012 | AR | A01 | Earth Work | ZZ | - | 001 | Excavation | 02 | Soil, Mech. | 07 | Manual Excavation Above GWL | M3 | M3 | A01ZZ001 | A01ZZ001-00012\",\n",
    "                    \"A01ZZ001-00013 | AR | A01 | Earth Work | ZZ | - | 001 | Excavation | 02 | Soil, Mech. | 08 | Manual Excavation Below GWL | M3 | M3 | A01ZZ001 | A01ZZ001-00013\",\n",
    "                    \"A01ZZ317-00001 | AR | A01 | Earth Work | ZZ | - | 317 | Rock Excavation | 03 | Weathered Rock | 59 | w/ Ripping | RQD Value=(  )% | M3 | M3 | A01ZZ317 | A01ZZ317-00001\",\n",
    "                    \"A01ZZ317-00002 | AR | A01 | Earth Work | ZZ | - | 317 | Rock Excavation | 04 | Soft Rock | 59 | w/ Ripping | RQD Value=(  )% | M3 | M3 | A01ZZ317 | A01ZZ317-00002\",\n",
    "                    \"A01ZZ317-00003 | AR | A01 | Earth Work | ZZ | - | 317 | Rock Excavation | 03 | Weathered Rock | 60 | w/ Breaking | RQD Value=(  )% | M3 | M3 | A01ZZ317 | A01ZZ317-00003\",\n",
    "                    \"A01ZZ317-00004 | AR | A01 | Earth Work | ZZ | - | 317 | Rock Excavation | 04 | Soft Rock | 60 | w/ Breaking | RQD Value=(  )% | M3 | M3 | A01ZZ317 | A01ZZ317-00004\",\n",
    "                    \"A01ZZ317-00005 | AR | A01 | Earth Work | ZZ | - | 317 | Rock Excavation | 04 | Soft Rock | 61 | w/ Blasting | RQD Value=(  )% | M3 | M3 | A01ZZ317 | A01ZZ317-00005\",\n",
    "                    \"A01ZZ317-00006 | AR | A01 | Earth Work | ZZ | - | 317 | Rock Excavation | 05 | Hard Rock | 61 | w/ Blasting | RQD Value=(  )% | M3 | M3 | A01ZZ317 | A01ZZ317-00006\"\n",
    "                ],\n",
    "                \"Excavation_B\": [\n",
    "                    \"A01ZZ001-00010 | AR | A01 | Earth Work | ZZ | - | 001 | Excavation | 01 | Soil, Manual | 07 | Manual Excavation Above GWL | M3 | M3 | A01ZZ001 | A01ZZ001-00010\",\n",
    "                    \"A01ZZ001-00011 | AR | A01 | Earth Work | ZZ | - | 001 | Excavation | 01 | Soil, Manual | 08 | Manual Excavation Below GWL | M3 | M3 | A01ZZ001 | A01ZZ001-00011\",\n",
    "                    \"A01ZZ001-00012 | AR | A01 | Earth Work | ZZ | - | 001 | Excavation | 02 | Soil, Mech. | 07 | Manual Excavation Above GWL | M3 | M3 | A01ZZ001 | A01ZZ001-00012\",\n",
    "                    \"A01ZZ001-00013 | AR | A01 | Earth Work | ZZ | - | 001 | Excavation | 02 | Soil, Mech. | 08 | Manual Excavation Below GWL | M3 | M3 | A01ZZ001 | A01ZZ001-00013\",\n",
    "                    \"A01ZZ317-00001 | AR | A01 | Earth Work | ZZ | - | 317 | Rock Excavation | 03 | Weathered Rock | 59 | w/ Ripping | RQD Value=(  )% | M3 | M3 | A01ZZ317 | A01ZZ317-00001\",\n",
    "                    \"A01ZZ317-00002 | AR | A01 | Earth Work | ZZ | - | 317 | Rock Excavation | 04 | Soft Rock | 59 | w/ Ripping | RQD Value=(  )% | M3 | M3 | A01ZZ317 | A01ZZ317-00002\",\n",
    "                    \"A01ZZ317-00003 | AR | A01 | Earth Work | ZZ | - | 317 | Rock Excavation | 03 | Weathered Rock | 60 | w/ Breaking | RQD Value=(  )% | M3 | M3 | A01ZZ317 | A01ZZ317-00003\",\n",
    "                    \"A01ZZ317-00004 | AR | A01 | Earth Work | ZZ | - | 317 | Rock Excavation | 04 | Soft Rock | 60 | w/ Breaking | RQD Value=(  )% | M3 | M3 | A01ZZ317 | A01ZZ317-00004\",\n",
    "                    \"A01ZZ317-00005 | AR | A01 | Earth Work | ZZ | - | 317 | Rock Excavation | 04 | Soft Rock | 61 | w/ Blasting | RQD Value=(  )% | M3 | M3 | A01ZZ317 | A01ZZ317-00005\",\n",
    "                    \"A01ZZ317-00006 | AR | A01 | Earth Work | ZZ | - | 317 | Rock Excavation | 05 | Hard Rock | 61 | w/ Blasting | RQD Value=(  )% | M3 | M3 | A01ZZ317 | A01ZZ317-00006\"\n",
    "                ],\n",
    "                \"Backfilling_A\": [\n",
    "                    \"A01ZZ003-00001 | AR | A01 | Earth Work | ZZ | - | 003 | Backfill | 06 | Re-use, Soil | Compaction=(  )% | M3 | M3 | A01ZZ003 | A01ZZ003-00001\",\n",
    "                    \"A01ZZ003-00002 | AR | A01 | Earth Work | ZZ | - | 003 | Backfill | 07 | Borrow Soil (Borrow Pit provided by Client, Free of Charge) | Borrow Pit Distance=Appx. (  )km | Compaction=(  )% | M3 | M3 | A01ZZ003 | A01ZZ003-00002\",\n",
    "                    \"A01ZZ003-00003 | AR | A01 | Earth Work | ZZ | - | 003 | Backfill | 08 | Purchased, Soil | Compaction=(  )% | M3 | M3 | A01ZZ003 | A01ZZ003-00003\"\n",
    "                ],\n",
    "                \"Backfilling_B\": [\n",
    "                    \"A01ZZ003-00001 | AR | A01 | Earth Work | ZZ | - | 003 | Backfill | 06 | Re-use, Soil | Compaction=(  )% | M3 | M3 | A01ZZ003 | A01ZZ003-00001\",\n",
    "                    \"A01ZZ003-00002 | AR | A01 | Earth Work | ZZ | - | 003 | Backfill | 07 | Borrow Soil (Borrow Pit provided by Client, Free of Charge) | Borrow Pit Distance=Appx. (  )km | Compaction=(  )% | M3 | M3 | A01ZZ003 | A01ZZ003-00002\",\n",
    "                    \"A01ZZ003-00003 | AR | A01 | Earth Work | ZZ | - | 003 | Backfill | 08 | Purchased, Soil | Compaction=(  )% | M3 | M3 | A01ZZ003 | A01ZZ003-00003\"\n",
    "                ],\n",
    "                \"Disposal\": [\n",
    "                    \"A01ZZ004-00001 | AR | A01 | Earth Work | ZZ | - | 004 | Disposal | 09 | Soil | Disposal Distance=Appx. (  )km from Site | M3 | M3 | A01ZZ004 | A01ZZ004-00001\",\n",
    "                    \"A01ZZ004-00002 | AR | A01 | Earth Work | ZZ | - | 004 | Disposal | 03 | Weathered Rock | Disposal Distance=Appx. (  )km from Site | M3 | M3 | A01ZZ004 | A01ZZ004-00002\",\n",
    "                    \"A01ZZ004-00003 | AR | A01 | Earth Work | ZZ | - | 004 | Disposal | 04 | Soft Rock | Disposal Distance=Appx. (  )km from Site | M3 | M3 | A01ZZ004 | A01ZZ004-00003\",\n",
    "                    \"A01ZZ004-00004 | AR | A01 | Earth Work | ZZ | - | 004 | Disposal | 05 | Hard Rock | Disposal Distance=Appx. (  )km from Site | M3 | M3 | A01ZZ004 | A01ZZ004-00004\",\n",
    "                    \"A01ZZ004-00005 | AR | A01 | Earth Work | ZZ | - | 004 | Disposal | 10 | Contaminated Soil | Disposal Distance=Appx. (  )km from Site | M3 | M3 | A01ZZ004 | A01ZZ004-00005\"\n",
    "                ]\n",
    "            },\n",
    "            \"BASE\": {\n",
    "                \"Base\": [\n",
    "                    \"A01ZZ005-00001 | AR | A01 | Earth Work | ZZ | - | 005 | Base Course | 01 | THK≤150mm | THK=(  )mm | CBR=(  )% | M2 | M2 | A01ZZ005 | A01ZZ005-00001\",\n",
    "                    \"A01ZZ005-00002 | AR | A01 | Earth Work | ZZ | - | 005 | Base Course | 06 | 150mm<THK≤250mm | THK=(  )mm | CBR=(  )% | M2 | M2 | A01ZZ005 | A01ZZ005-00002\",\n",
    "                    \"A01ZZ005-00003 | AR | A01 | Earth Work | ZZ | - | 005 | Base Course | 07 | 250mm<THK≤350mm | THK=(  )mm | CBR=(  )% | M2 | M2 | A01ZZ005 | A01ZZ005-00003\",\n",
    "                    \"A01ZZ005-00004 | AR | A01 | Earth Work | ZZ | - | 005 | Base Course | 08 | 350mm<THK | THK=(  )mm | CBR=(  )% | M2 | M2 | A01ZZ005 | A01ZZ005-00004\"\n",
    "                ],\n",
    "                \"Sub Base\": [\n",
    "                    \"A01ZZ006-00001 | AR | A01 | Earth Work | ZZ | - | 006 | Subbase Course | 01 | Including Compaction of Sub-Grade | 01 | THK≤150mm | THK=(  )mm | CBR=(  )% for Subgrade, (  )% for Subbase | Compaction=(  )% for Subgrade, (  )% for Subbase | M2 | M2 | A01ZZ006 | A01ZZ006-00001\",\n",
    "                    \"A01ZZ006-00002 | AR | A01 | Earth Work | ZZ | - | 006 | Subbase Course | 01 | Including Compaction of Sub-Grade | 06 | 150mm<THK≤250mm | THK=(  )mm | CBR=(  )% for Subgrade, (  )% for Subbase | Compaction=(  )% for Subgrade, (  )% for Subbase | M2 | M2 | A01ZZ006 | A01ZZ006-00002\",\n",
    "                    \"A01ZZ006-00003 | AR | A01 | Earth Work | ZZ | - | 006 | Subbase Course | 01 | Including Compaction of Sub-Grade | 07 | 250mm<THK≤350mm | THK=(  )mm | CBR=(  )% for Subgrade, (  )% for Subbase | Compaction=(  )% for Subgrade, (  )% for Subbase | M2 | M2 | A01ZZ006 | A01ZZ006-00003\",\n",
    "                    \"A01ZZ006-00004 | AR | A01 | Earth Work | ZZ | - | 006 | Subbase Course | 01 | Including Compaction of Sub-Grade | 08 | 350mm<THK | THK=(  )mm | CBR=(  )% for Subgrade, (  )% for Subbase | Compaction=(  )% for Subgrade, (  )% for Subbase | M2 | M2 | A01ZZ006 | A01ZZ006-00004\"\n",
    "                ]\n",
    "            },}}"
   ]
  },
  {
   "cell_type": "code",
   "execution_count": null,
   "metadata": {},
   "outputs": [],
   "source": [
    "def get_item_indices(self, selected_item_id):\n",
    "    \"\"\"\n",
    "    Get the list of indices from the highest-level parent down to the selected item.\n",
    "\n",
    "    Returns:\n",
    "    list: A list of tuples representing the (parent index, item index)\n",
    "        path from the highest-level parent to the selected item.\n",
    "    \"\"\"\n",
    "    indices = []\n",
    "\n",
    "    current_item = selected_item_id\n",
    "    while current_item:\n",
    "        # Get the parent of the current item\n",
    "        parent_id = self.tree.parent(current_item)\n",
    "\n",
    "        # Get all the siblings of the current item (including the current item itself)\n",
    "        siblings = self.tree.get_children(parent_id)\n",
    "        item_index = siblings.index(current_item)\n",
    "\n",
    "        # Get the index of the current parent among its siblings\n",
    "        if parent_id:\n",
    "            parent_siblings = self.tree.get_children(self.tree.parent(parent_id))\n",
    "            parent_index = parent_siblings.index(parent_id)\n",
    "        else:\n",
    "            parent_index = -1  # Root level has no parent\n",
    "\n",
    "        # Append both parent index and item index to the list\n",
    "        indices.insert(0, (parent_index, item_index))\n",
    "\n",
    "        # Move up one level to the parent\n",
    "        current_item = parent_id\n",
    "\n",
    "    return indices"
   ]
  },
  {
   "cell_type": "code",
   "execution_count": null,
   "metadata": {},
   "outputs": [],
   "source": []
  },
  {
   "cell_type": "code",
   "execution_count": null,
   "metadata": {},
   "outputs": [],
   "source": []
  },
  {
   "cell_type": "code",
   "execution_count": null,
   "metadata": {},
   "outputs": [],
   "source": []
  },
  {
   "cell_type": "code",
   "execution_count": 1,
   "metadata": {},
   "outputs": [
    {
     "data": {
      "text/plain": [
       "['Earth Work', 'EARTH', 'Excavation_A']"
      ]
     },
     "execution_count": 1,
     "metadata": {},
     "output_type": "execute_result"
    }
   ],
   "source": [
    "a = \"Earth Work | EARTH | Excavation_A\"\n",
    "a.split(\" | \")"
   ]
  },
  {
   "cell_type": "code",
   "execution_count": 8,
   "metadata": {},
   "outputs": [],
   "source": [
    "sheet_data = [['Earth Work', ''], ['', 'EARTH', ''], ['', '', 'Excavation'], ['', '', 'Backfilling'], ['', '', 'Disposal'], ['', 'BASE', ''], ['', '', 'Base'], ['', '', 'Sub Base'], ['Concrete Work', '', ''], ['', 'RC-AG', ''], ['', '', 'Concrete'], ['', '', 'Form1'], ['', '', 'Rebar'], ['', 'RC-AGD', ''], ['', '', 'Concrete'], ['', '', 'Form1'], ['', '', 'Form2'], ['', '', 'Rebar'], ['', 'RC-UG', ''], ['', '', 'Concrete'], ['', '', 'Form1'], ['', '', 'Rebar'], ['', '', 'Lean'], ['', 'RC-MS', ''], ['', '', 'Concrete'], ['', '', 'Form1'], ['', '', 'Rebar'], ['', '', 'Lean'], ['', 'RC-EF', ''], ['', '', 'Concrete'], ['', '', 'Form1'], ['', '', 'Rebar'], ['', '', 'Lean'], ['UG Protection', '', ''], ['', 'UG-PT', ''], ['', '', 'Coating'], ['', '', 'Memebrane'], ['', '', 'Protection Board'], ['Steel Work', '', ''], ['', 'ST-EH', ''], ['', '', 'Steel Fabr.'], ['', '', 'Steel Erec.'], ['', '', 'Plates'], ['', '', 'Bolt'], ['', 'ST-HV', ''], ['', '', 'Steel Fabr.'], ['', '', 'Steel Erec.'], ['', '', 'Plates'], ['', '', 'Bolt'], ['', 'ST-MD', ''], ['', '', 'Steel Fabr.'], ['', '', 'Steel Erec.'], ['', '', 'Plates'], ['', '', 'Bolt'], ['', 'ST-LG', ''], ['', '', 'Steel Fabr.'], ['', '', 'Steel Erec.'], ['', '', 'Plates'], ['', '', 'Bolt'], ['', 'ST-EL', ''], ['', '', 'Steel Fabr.'], ['', '', 'Steel Erec.'], ['', '', 'Plates'], ['', '', 'Bolt'], ['', 'ST-B-EH', ''], ['', '', 'Steel Fabr.'], ['', '', 'Steel Erec.'], ['', '', 'Plates'], ['', '', 'Bolt'], ['', 'ST-B-HV', ''], ['', '', 'Steel Fabr.'], ['', '', 'Steel Erec.'], ['', '', 'Plates'], ['', '', 'Bolt'], ['', 'ST-PG', ''], ['', '', 'Steel Fabr.'], ['', '', 'Steel Erec.'], ['', '', 'Plates'], ['', '', 'Bolt'], ['Exterior Wall', '', ''], ['', 'EW-DI', ''], ['', '', 'Dry Wall (InSide)'], ['', '', 'Insulation'], ['', 'EW-DIM', ''], ['', '', 'Dry Wall (InSide)'], ['', '', 'Insulation'], ['', '', 'Masonry (OutSide)'], ['', 'EW-MIM', ''], ['', '', 'Dry Wall (InSide)'], ['', '', 'Insulation'], ['', '', 'Masonry (OutSide)'], ['', 'EW-MI', ''], ['', '', 'Dry Wall (InSide)'], ['', '', 'Insulation'], ['Interior Wall', '', ''], ['', 'IW-DIM', ''], ['', '', 'Dry Wall (One Side)'], ['', '', 'Insulation'], ['', '', 'Masonry (One Side)'], ['Concrete Roof Finish', '', ''], ['', 'ROOF', ''], ['', '', 'Slop'], ['', '', 'Waterproofing'], ['', '', 'Insulation'], ['', '', 'Vapor Barrier'], ['', '', 'Protection'], ['', '', 'Finish'], ['', '', '']]"
   ]
  },
  {
   "cell_type": "code",
   "execution_count": 11,
   "metadata": {},
   "outputs": [],
   "source": [
    "def convert_sheet_data_to_dict(sheet_data):\n",
    "    sheet_data_dict = {}\n",
    "    current_parent = None\n",
    "    current_sub_parent = None\n",
    "\n",
    "    for row in sheet_data:\n",
    "        if row[0]:  # Top-level parent\n",
    "            current_parent = row[0]\n",
    "            sheet_data_dict[current_parent] = {}\n",
    "        elif row[1]:  # Sub-level parent\n",
    "            current_sub_parent = row[1]\n",
    "            sheet_data_dict[current_parent][current_sub_parent] = []\n",
    "        elif row[2]:  # Children\n",
    "            sheet_data_dict[current_parent][current_sub_parent].append(row[2])\n",
    "\n",
    "    return sheet_data_dict"
   ]
  },
  {
   "cell_type": "code",
   "execution_count": 12,
   "metadata": {},
   "outputs": [
    {
     "data": {
      "text/plain": [
       "{'Earth Work': {'EARTH': ['Excavation', 'Backfilling', 'Disposal'],\n",
       "  'BASE': ['Base', 'Sub Base']},\n",
       " 'Concrete Work': {'RC-AG': ['Concrete', 'Form1', 'Rebar'],\n",
       "  'RC-AGD': ['Concrete', 'Form1', 'Form2', 'Rebar'],\n",
       "  'RC-UG': ['Concrete', 'Form1', 'Rebar', 'Lean'],\n",
       "  'RC-MS': ['Concrete', 'Form1', 'Rebar', 'Lean'],\n",
       "  'RC-EF': ['Concrete', 'Form1', 'Rebar', 'Lean']},\n",
       " 'UG Protection': {'UG-PT': ['Coating', 'Memebrane', 'Protection Board']},\n",
       " 'Steel Work': {'ST-EH': ['Steel Fabr.', 'Steel Erec.', 'Plates', 'Bolt'],\n",
       "  'ST-HV': ['Steel Fabr.', 'Steel Erec.', 'Plates', 'Bolt'],\n",
       "  'ST-MD': ['Steel Fabr.', 'Steel Erec.', 'Plates', 'Bolt'],\n",
       "  'ST-LG': ['Steel Fabr.', 'Steel Erec.', 'Plates', 'Bolt'],\n",
       "  'ST-EL': ['Steel Fabr.', 'Steel Erec.', 'Plates', 'Bolt'],\n",
       "  'ST-B-EH': ['Steel Fabr.', 'Steel Erec.', 'Plates', 'Bolt'],\n",
       "  'ST-B-HV': ['Steel Fabr.', 'Steel Erec.', 'Plates', 'Bolt'],\n",
       "  'ST-PG': ['Steel Fabr.', 'Steel Erec.', 'Plates', 'Bolt']},\n",
       " 'Exterior Wall': {'EW-DI': ['Dry Wall (InSide)', 'Insulation'],\n",
       "  'EW-DIM': ['Dry Wall (InSide)', 'Insulation', 'Masonry (OutSide)'],\n",
       "  'EW-MIM': ['Dry Wall (InSide)', 'Insulation', 'Masonry (OutSide)'],\n",
       "  'EW-MI': ['Dry Wall (InSide)', 'Insulation']},\n",
       " 'Interior Wall': {'IW-DIM': ['Dry Wall (One Side)',\n",
       "   'Insulation',\n",
       "   'Masonry (One Side)']},\n",
       " 'Concrete Roof Finish': {'ROOF': ['Slop',\n",
       "   'Waterproofing',\n",
       "   'Insulation',\n",
       "   'Vapor Barrier',\n",
       "   'Protection',\n",
       "   'Finish']}}"
      ]
     },
     "execution_count": 12,
     "metadata": {},
     "output_type": "execute_result"
    }
   ],
   "source": [
    "convert_sheet_data_to_dict(sheet_data)"
   ]
  },
  {
   "cell_type": "code",
   "execution_count": 2,
   "metadata": {},
   "outputs": [],
   "source": [
    "class Obj:\n",
    "    pass"
   ]
  },
  {
   "cell_type": "code",
   "execution_count": 3,
   "metadata": {},
   "outputs": [],
   "source": [
    "obj1 = Obj()"
   ]
  },
  {
   "cell_type": "code",
   "execution_count": 4,
   "metadata": {},
   "outputs": [],
   "source": [
    "obj1.info = \"333\""
   ]
  },
  {
   "cell_type": "code",
   "execution_count": 5,
   "metadata": {},
   "outputs": [
    {
     "data": {
      "text/plain": [
       "'333'"
      ]
     },
     "execution_count": 5,
     "metadata": {},
     "output_type": "execute_result"
    }
   ],
   "source": [
    "obj1.info"
   ]
  },
  {
   "cell_type": "code",
   "execution_count": null,
   "metadata": {},
   "outputs": [],
   "source": []
  }
 ],
 "metadata": {
  "kernelspec": {
   "display_name": "Python 3",
   "language": "python",
   "name": "python3"
  },
  "language_info": {
   "codemirror_mode": {
    "name": "ipython",
    "version": 3
   },
   "file_extension": ".py",
   "mimetype": "text/x-python",
   "name": "python",
   "nbconvert_exporter": "python",
   "pygments_lexer": "ipython3",
   "version": "3.9.6"
  }
 },
 "nbformat": 4,
 "nbformat_minor": 2
}
