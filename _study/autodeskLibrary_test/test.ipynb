{
 "cells": [
  {
   "cell_type": "code",
   "execution_count": 6,
   "metadata": {},
   "outputs": [],
   "source": [
    "# !pip install pythonnet"
   ]
  },
  {
   "cell_type": "code",
   "execution_count": 1,
   "metadata": {},
   "outputs": [],
   "source": [
    "import os\n",
    "import json"
   ]
  },
  {
   "cell_type": "code",
   "execution_count": 10,
   "metadata": {},
   "outputs": [
    {
     "ename": "TypeError",
     "evalue": "abspath() missing 1 required positional argument: 'path'",
     "output_type": "error",
     "traceback": [
      "\u001b[1;31m---------------------------------------------------------------------------\u001b[0m",
      "\u001b[1;31mTypeError\u001b[0m                                 Traceback (most recent call last)",
      "\u001b[1;32m~\\AppData\\Local\\Temp/ipykernel_23112/4242618696.py\u001b[0m in \u001b[0;36m<module>\u001b[1;34m\u001b[0m\n\u001b[1;32m----> 1\u001b[1;33m \u001b[0mos\u001b[0m\u001b[1;33m.\u001b[0m\u001b[0mpath\u001b[0m\u001b[1;33m.\u001b[0m\u001b[0mabspath\u001b[0m\u001b[1;33m(\u001b[0m\u001b[1;33m)\u001b[0m\u001b[1;33m\u001b[0m\u001b[1;33m\u001b[0m\u001b[0m\n\u001b[0m",
      "\u001b[1;31mTypeError\u001b[0m: abspath() missing 1 required positional argument: 'path'"
     ]
    }
   ],
   "source": [
    "os.path.abspath()"
   ]
  },
  {
   "cell_type": "code",
   "execution_count": 3,
   "metadata": {},
   "outputs": [
    {
     "ename": "FileNotFoundException",
     "evalue": "파일이나 어셈블리 'ProtoGeometry' 또는 여기에 종속되어 있는 파일이나 어셈블리 중 하나를 로드할 수 없습니다. 지정된 파일을 찾을 수 없습니다.\r\n파일 이름: 'ProtoGeometry'\r\n   위치: System.Reflection.RuntimeAssembly._nLoad(AssemblyName fileName, String codeBase, Evidence assemblySecurity, RuntimeAssembly locationHint, StackCrawlMark& stackMark, IntPtr pPrivHostBinder, Boolean throwOnFileNotFound, Boolean forIntrospection, Boolean suppressSecurityChecks)\r\n   위치: System.Reflection.RuntimeAssembly.InternalLoadAssemblyName(AssemblyName assemblyRef, Evidence assemblySecurity, RuntimeAssembly reqAssembly, StackCrawlMark& stackMark, IntPtr pPrivHostBinder, Boolean throwOnFileNotFound, Boolean forIntrospection, Boolean suppressSecurityChecks)\r\n   위치: System.Reflection.Assembly.Load(AssemblyName assemblyRef)\r\n   위치: Python.Runtime.AssemblyManager.LoadAssembly(AssemblyName name)\r\n   위치: Python.Runtime.CLRModule.AddReference(String name)\r\n\r\n경고: 어셈블리 바인딩 로깅이 꺼져 있습니다.\r\n어셈블리 바인딩 오류 로깅 기능을 사용하려면 레지스트리 값 [HKLM\\Software\\Microsoft\\Fusion!EnableLog] (DWORD)를 1로 설정하십시오.\r\n참고: 어셈블리 바인딩 오류 로깅 기능을 사용하도록 설정하면 그렇지 않은 경우보다 성능이 약간 떨어집니다.\r\n이 기능을 끄려면 레지스트리 값 [HKLM\\Software\\Microsoft\\Fusion!EnableLog]를 제거하십시오.\r\n",
     "output_type": "error",
     "traceback": [
      "\u001b[1;31m---------------------------------------------------------------------------\u001b[0m",
      "\u001b[1;31mFileNotFoundException\u001b[0m                     Traceback (most recent call last)",
      "\u001b[1;32m~\\AppData\\Local\\Temp/ipykernel_23112/4069380274.py\u001b[0m in \u001b[0;36m<module>\u001b[1;34m\u001b[0m\n\u001b[0;32m      2\u001b[0m \u001b[1;32mimport\u001b[0m \u001b[0msys\u001b[0m\u001b[1;33m\u001b[0m\u001b[1;33m\u001b[0m\u001b[0m\n\u001b[0;32m      3\u001b[0m \u001b[1;32mimport\u001b[0m \u001b[0mclr\u001b[0m\u001b[1;33m\u001b[0m\u001b[1;33m\u001b[0m\u001b[0m\n\u001b[1;32m----> 4\u001b[1;33m \u001b[0mclr\u001b[0m\u001b[1;33m.\u001b[0m\u001b[0mAddReference\u001b[0m\u001b[1;33m(\u001b[0m\u001b[1;34m'ProtoGeometry'\u001b[0m\u001b[1;33m)\u001b[0m\u001b[1;33m\u001b[0m\u001b[1;33m\u001b[0m\u001b[0m\n\u001b[0m\u001b[0;32m      5\u001b[0m \u001b[1;32mfrom\u001b[0m \u001b[0mAutodesk\u001b[0m\u001b[1;33m.\u001b[0m\u001b[0mDesignScript\u001b[0m\u001b[1;33m.\u001b[0m\u001b[0mGeometry\u001b[0m \u001b[1;32mimport\u001b[0m \u001b[1;33m*\u001b[0m\u001b[1;33m\u001b[0m\u001b[1;33m\u001b[0m\u001b[0m\n\u001b[0;32m      6\u001b[0m \u001b[1;32mfrom\u001b[0m \u001b[0mAutodesk\u001b[0m\u001b[1;33m.\u001b[0m\u001b[0mDesignScript\u001b[0m\u001b[1;33m.\u001b[0m\u001b[0mGeometry\u001b[0m \u001b[1;32mimport\u001b[0m \u001b[0mLine\u001b[0m\u001b[1;33m\u001b[0m\u001b[1;33m\u001b[0m\u001b[0m\n",
      "\u001b[1;31mFileNotFoundException\u001b[0m: 파일이나 어셈블리 'ProtoGeometry' 또는 여기에 종속되어 있는 파일이나 어셈블리 중 하나를 로드할 수 없습니다. 지정된 파일을 찾을 수 없습니다.\r\n파일 이름: 'ProtoGeometry'\r\n   위치: System.Reflection.RuntimeAssembly._nLoad(AssemblyName fileName, String codeBase, Evidence assemblySecurity, RuntimeAssembly locationHint, StackCrawlMark& stackMark, IntPtr pPrivHostBinder, Boolean throwOnFileNotFound, Boolean forIntrospection, Boolean suppressSecurityChecks)\r\n   위치: System.Reflection.RuntimeAssembly.InternalLoadAssemblyName(AssemblyName assemblyRef, Evidence assemblySecurity, RuntimeAssembly reqAssembly, StackCrawlMark& stackMark, IntPtr pPrivHostBinder, Boolean throwOnFileNotFound, Boolean forIntrospection, Boolean suppressSecurityChecks)\r\n   위치: System.Reflection.Assembly.Load(AssemblyName assemblyRef)\r\n   위치: Python.Runtime.AssemblyManager.LoadAssembly(AssemblyName name)\r\n   위치: Python.Runtime.CLRModule.AddReference(String name)\r\n\r\n경고: 어셈블리 바인딩 로깅이 꺼져 있습니다.\r\n어셈블리 바인딩 오류 로깅 기능을 사용하려면 레지스트리 값 [HKLM\\Software\\Microsoft\\Fusion!EnableLog] (DWORD)를 1로 설정하십시오.\r\n참고: 어셈블리 바인딩 오류 로깅 기능을 사용하도록 설정하면 그렇지 않은 경우보다 성능이 약간 떨어집니다.\r\n이 기능을 끄려면 레지스트리 값 [HKLM\\Software\\Microsoft\\Fusion!EnableLog]를 제거하십시오.\r\n"
     ]
    }
   ],
   "source": [
    "# Load the Python Standard and DesignScript Libraries\n",
    "import sys\n",
    "import clr\n",
    "clr.AddReference('ProtoGeometry')\n",
    "from Autodesk.DesignScript.Geometry import *\n",
    "from Autodesk.DesignScript.Geometry import Line\n",
    "\n",
    "from math import sqrt, hypot\n",
    "from itertools import combinations\n",
    "################Module For Functional Programing#########################\n",
    "from functools import reduce; from itertools import chain\n",
    "from itertools import groupby; import operator\n",
    "from copy import deepcopy\n",
    "curry = lambda f: lambda a,*args: f(a, *args) if (len(args)) else lambda *args: f(a, *args)\n",
    "\n",
    "filter, map, reduce = curry(filter), curry(map), curry(reduce)\n",
    "\n",
    "go = lambda *args: reduce(lambda a,f: f(a), args) ## 함수도 축약 가능 ##\n",
    "\n",
    "def dictUpdate(dic1,dic2):\n",
    "    dic1.update(dic2)\n",
    "    return dic1\n",
    "    \n",
    "def dictsMerge(dics):\n",
    "    res = reduce(dictUpdate, dics)\n",
    "    return res\n",
    "    \n",
    "def dictDeleteKeys(dic, keys):\n",
    "    for k in keys:\n",
    "        del dic[k]\n",
    "    return dic\n",
    "\n",
    "def flat(a):\n",
    "    if isinstance(a, list):\n",
    "        for i in a: \n",
    "            yield from flat(i)\n",
    "    else: yield a\n",
    "\n",
    "def grpBy(iter, key):\n",
    "    f,keys,grps = key,[],[]\n",
    "    sorted_ = sorted(iter, key=f)\n",
    "    for key, grp_data in groupby(sorted_,key=f):\n",
    "        keys.append(key); grps.append(list(grp_data))\n",
    "    return grps,keys\n",
    "#########################################################################"
   ]
  }
 ],
 "metadata": {
  "kernelspec": {
   "display_name": "Python 3",
   "language": "python",
   "name": "python3"
  },
  "language_info": {
   "codemirror_mode": {
    "name": "ipython",
    "version": 3
   },
   "file_extension": ".py",
   "mimetype": "text/x-python",
   "name": "python",
   "nbconvert_exporter": "python",
   "pygments_lexer": "ipython3",
   "version": "3.9.6"
  }
 },
 "nbformat": 4,
 "nbformat_minor": 2
}
