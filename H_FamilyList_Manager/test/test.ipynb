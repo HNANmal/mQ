{
 "cells": [
  {
   "cell_type": "code",
   "execution_count": 4,
   "metadata": {},
   "outputs": [
    {
     "name": "stdout",
     "output_type": "stream",
     "text": [
      "comprehension_list=\n",
      "sleep 1s\n",
      "sleep 1s\n",
      "sleep 1s\n",
      "1\n",
      "2\n",
      "3\n",
      "generator_exp=\n",
      "sleep 1s\n",
      "1\n",
      "sleep 1s\n",
      "2\n",
      "sleep 1s\n",
      "3\n"
     ]
    }
   ],
   "source": [
    "import time\n",
    "\n",
    "L = [1, 2, 3]\n",
    "\n",
    "def print_iter(iter):\n",
    "    for element in iter:\n",
    "        print(element)\n",
    "            \n",
    "def lazy_return(num):\n",
    "    print(\"sleep 1s\")\n",
    "    time.sleep(1)\n",
    "    return num\n",
    "\n",
    "print(\"comprehension_list=\")\n",
    "comprehension_list = [ lazy_return(i) for i in L ]\n",
    "print_iter(comprehension_list)\n",
    "\n",
    "print(\"generator_exp=\")\n",
    "generator_exp = ( lazy_return(i) for i in L )\n",
    "print_iter(generator_exp)"
   ]
  },
  {
   "cell_type": "code",
   "execution_count": null,
   "metadata": {},
   "outputs": [],
   "source": [
    "def asdfa(dd):\n",
    "    \n",
    "    yield dd*2"
   ]
  },
  {
   "cell_type": "code",
   "execution_count": 26,
   "metadata": {},
   "outputs": [],
   "source": [
    "t = [1,2,3]\n",
    "\n",
    "def aa(t):\n",
    "    for i in t:\n",
    "        return i * 2\n",
    "\n",
    "def aaa(i):\n",
    "    for i in t:\n",
    "        yield i*2"
   ]
  },
  {
   "cell_type": "code",
   "execution_count": 27,
   "metadata": {},
   "outputs": [
    {
     "data": {
      "text/plain": [
       "2"
      ]
     },
     "execution_count": 27,
     "metadata": {},
     "output_type": "execute_result"
    }
   ],
   "source": [
    "comp = aa(t)\n",
    "comp"
   ]
  },
  {
   "cell_type": "code",
   "execution_count": 28,
   "metadata": {},
   "outputs": [
    {
     "data": {
      "text/plain": [
       "<generator object aaa at 0x0000020DCB27EC10>"
      ]
     },
     "execution_count": 28,
     "metadata": {},
     "output_type": "execute_result"
    }
   ],
   "source": [
    "gen = aaa(t)\n",
    "gen"
   ]
  },
  {
   "cell_type": "code",
   "execution_count": 32,
   "metadata": {},
   "outputs": [
    {
     "ename": "StopIteration",
     "evalue": "",
     "output_type": "error",
     "traceback": [
      "\u001b[1;31m---------------------------------------------------------------------------\u001b[0m",
      "\u001b[1;31mStopIteration\u001b[0m                             Traceback (most recent call last)",
      "\u001b[1;32m~\\AppData\\Local\\Temp/ipykernel_10144/4293081279.py\u001b[0m in \u001b[0;36m<module>\u001b[1;34m\u001b[0m\n\u001b[1;32m----> 1\u001b[1;33m \u001b[0mnext\u001b[0m\u001b[1;33m(\u001b[0m\u001b[0mgen\u001b[0m\u001b[1;33m)\u001b[0m\u001b[1;33m\u001b[0m\u001b[1;33m\u001b[0m\u001b[0m\n\u001b[0m",
      "\u001b[1;31mStopIteration\u001b[0m: "
     ]
    }
   ],
   "source": [
    "next(gen)"
   ]
  },
  {
   "cell_type": "code",
   "execution_count": 1,
   "metadata": {},
   "outputs": [],
   "source": [
    "res = {\"a\": 1}"
   ]
  },
  {
   "cell_type": "code",
   "execution_count": 2,
   "metadata": {},
   "outputs": [
    {
     "data": {
      "text/plain": [
       "1"
      ]
     },
     "execution_count": 2,
     "metadata": {},
     "output_type": "execute_result"
    }
   ],
   "source": [
    "res.get(\"a\")"
   ]
  },
  {
   "cell_type": "code",
   "execution_count": null,
   "metadata": {},
   "outputs": [],
   "source": []
  }
 ],
 "metadata": {
  "kernelspec": {
   "display_name": "Python 3",
   "language": "python",
   "name": "python3"
  },
  "language_info": {
   "codemirror_mode": {
    "name": "ipython",
    "version": 3
   },
   "file_extension": ".py",
   "mimetype": "text/x-python",
   "name": "python",
   "nbconvert_exporter": "python",
   "pygments_lexer": "ipython3",
   "version": "3.9.6"
  }
 },
 "nbformat": 4,
 "nbformat_minor": 2
}
